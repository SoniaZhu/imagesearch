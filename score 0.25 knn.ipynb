{
 "cells": [
  {
   "cell_type": "code",
   "execution_count": 1,
   "metadata": {},
   "outputs": [],
   "source": [
    "import csv\n",
    "import numpy as np\n",
    "xtrain_glove = np.loadtxt('query_glove.csv',delimiter=\",\", dtype=float)\n",
    "\n",
    "from tqdm import tqdm\n",
    "\n",
    "\n",
    "# Reading 2048-d train features \n",
    "features_train_2048 = np.zeros((10000,2048))\n",
    "with open('./all/data/features_train/features_resnet1000intermediate_train.csv', 'r') as csvfile:\n",
    "    csv_reader = csv.reader(csvfile)\n",
    "    for line in csv_reader:\n",
    "        image_name = line[0].strip(\".jpg\")[13:]\n",
    "        row = []\n",
    "        for i in range(len(line)):\n",
    "            if i > 0:\n",
    "                row.append(float(line[i]))\n",
    "        features_train_2048[int(image_name)] = row\n",
    "        \n",
    "# Reading 1000-d train features \n",
    "features_train_1000 = np.zeros((10000,1000))\n",
    "with open('./all/data/features_train/features_resnet1000_train.csv', 'r') as csvfile:\n",
    "    csv_reader = csv.reader(csvfile)\n",
    "    for line in csv_reader:\n",
    "        image_name = line[0].strip(\".jpg\")[13:]\n",
    "        row = []\n",
    "        for i in range(len(line)):\n",
    "            if i > 0:\n",
    "                row.append(float(line[i]))\n",
    "        features_train_1000[int(image_name)] = row\n",
    "        \n",
    "# Find set of supercategories, categories \n",
    "supercategory_set = set()\n",
    "category_set = set()\n",
    "for i in range (10000):\n",
    "    file = open(\"./all/data/tags_train/\" + str(i) + \".txt\", \"r\")\n",
    "    lines = file.readlines() \n",
    "    for  line in lines:\n",
    "        words = line.strip().split(':')\n",
    "        supercategory_set.add(words[0])\n",
    "        category_set.add(words[1])\n",
    "    file.close()\n",
    "\n",
    "# mapping from (super) category to index\n",
    "supercategory_dict = {item:val for val, item in enumerate(supercategory_set)}\n",
    "category_dict = {item:val+1 for val, item in enumerate(category_set)}\n",
    "\n",
    "# Vectorize train tags\n",
    "train_tags = []\n",
    "for i in range (10000):\n",
    "    file = open(\"./all/data/tags_train/\" + str(i) + \".txt\", \"r\")\n",
    "    lines = file.readlines() \n",
    "    row = np.zeros(len(supercategory_set))\n",
    "    for line in lines:\n",
    "        words = line.strip().split(':')\n",
    "        supercategory_column = supercategory_dict.get(words[0])\n",
    "        category_index = category_dict.get(words[1])\n",
    "        row[supercategory_column] = category_index\n",
    "    train_tags.append(row)\n",
    "    file.close()"
   ]
  },
  {
   "cell_type": "code",
   "execution_count": 2,
   "metadata": {},
   "outputs": [],
   "source": [
    "features_test_2048 = np.zeros((2000,2048))\n",
    "with open('./all/data/features_test/features_resnet1000intermediate_test.csv', 'r') as csvfile:\n",
    "    csv_reader = csv.reader(csvfile)\n",
    "    for line in csv_reader:\n",
    "        image_name = line[0].strip(\".jpg\")[12:]\n",
    "        row = []\n",
    "        for i in range(len(line)):\n",
    "            if i > 0:\n",
    "                row.append(float(line[i]))\n",
    "        features_test_2048[int(image_name)] = row\n",
    "\n",
    "features_test_1000 = np.zeros((2000,1000))    \n",
    "with open('./all/data/features_test/features_resnet1000_test.csv', 'r') as csvfile:\n",
    "    csv_reader = csv.reader(csvfile)\n",
    "    for line in csv_reader:\n",
    "        image_name = line[0].strip(\".jpg\")[12:]\n",
    "        row = []\n",
    "        for i in range(len(line)):\n",
    "            if i > 0:\n",
    "                row.append(float(line[i]))\n",
    "        features_test_1000[int(image_name)] = row\n",
    "\n",
    "# Vectorize test tags\n",
    "test_tags = []\n",
    "for i in range (2000):\n",
    "    file = open(\"./all/data/tags_test/\" + str(i) + \".txt\", \"r\")\n",
    "    lines = file.readlines() \n",
    "    row = np.zeros(len(supercategory_set))\n",
    "    for line in lines:\n",
    "        words = line.strip().split(':')\n",
    "        supercategory_column = supercategory_dict.get(words[0])\n",
    "        category_index = category_dict.get(words[1])\n",
    "        row[supercategory_column] = category_index\n",
    "    test_tags.append(row)\n",
    "    file.close()\n",
    "    \n",
    "\n",
    "xtest_glove = np.loadtxt('query_glove_test.csv',delimiter=\",\", dtype=float)"
   ]
  },
  {
   "cell_type": "code",
   "execution_count": 3,
   "metadata": {},
   "outputs": [],
   "source": [
    "from sklearn.neighbors import KNeighborsRegressor\n",
    "\n",
    "features_train_concat = np.concatenate((np.array(features_train_2048),np.array(features_train_1000)), axis=1)\n",
    "features_train_concat = np.concatenate((features_train_concat, np.array(train_tags)), axis=1)"
   ]
  },
  {
   "cell_type": "code",
   "execution_count": 4,
   "metadata": {},
   "outputs": [
    {
     "data": {
      "text/plain": [
       "KNeighborsRegressor(algorithm='auto', leaf_size=30, metric='minkowski',\n",
       "          metric_params=None, n_jobs=-1, n_neighbors=5, p=2,\n",
       "          weights='uniform')"
      ]
     },
     "execution_count": 4,
     "metadata": {},
     "output_type": "execute_result"
    }
   ],
   "source": [
    "clf_knn_reverse = KNeighborsRegressor(n_neighbors=5,n_jobs=-1)\n",
    "clf_knn_reverse.fit(features_train_concat,xtrain_glove)"
   ]
  },
  {
   "cell_type": "code",
   "execution_count": 5,
   "metadata": {},
   "outputs": [],
   "source": [
    "features_test_concat = np.concatenate((np.array(features_test_2048),np.array(features_test_1000)), axis=1)\n",
    "features_test_concat = np.concatenate((features_test_concat, np.array(test_tags)), axis=1)"
   ]
  },
  {
   "cell_type": "code",
   "execution_count": 8,
   "metadata": {},
   "outputs": [],
   "source": [
    "from sklearn.preprocessing import StandardScaler\n",
    "\n",
    "features_train_concat = StandardScaler().fit_transform(features_train_concat)\n",
    "features_test_concat = StandardScaler().fit_transform(features_test_concat)\n",
    "\n",
    "\n",
    "clf_knn_reverse = KNeighborsRegressor(n_neighbors=5,n_jobs=-1)\n",
    "clf_knn_reverse.fit(features_train_concat,xtrain_glove)\n",
    "\n",
    "\n",
    "knn_predict_reverse= clf_knn_reverse.predict(features_test_concat)\n",
    "rank_list = []\n",
    "for i in range (2000):\n",
    "    current_query = xtest_glove[i]\n",
    "    dist = []\n",
    "    for j in range(2000):\n",
    "        dist.append((np.linalg.norm(knn_predict_reverse[j]-current_query),j))\n",
    "    dist.sort()\n",
    "    rank_list.append([v for (k,v) in dist[:20]])\n",
    "\n",
    "def mergeTwenty(lst):\n",
    "    result = str(lst[0])+\".jpg\"\n",
    "    for i in range(1,len(lst)):\n",
    "        result += \" \" + str(lst[i]) + \".jpg\"\n",
    "    return result\n",
    "\n",
    "with open('submission_knn_std_reverse.csv', 'w', newline='') as csvfile:\n",
    "    csv_writer = csv.writer(csvfile, delimiter=',')\n",
    "    csv_writer.writerow([\"Descritpion_ID\", \"Top_20_Image_IDs\"])\n",
    "    for i in range(len(rank_list)):\n",
    "        csv_writer.writerow([str(i) + \".txt\", mergeTwenty(rank_list[i])])"
   ]
  },
  {
   "cell_type": "code",
   "execution_count": 9,
   "metadata": {},
   "outputs": [
    {
     "ename": "KeyboardInterrupt",
     "evalue": "",
     "output_type": "error",
     "traceback": [
      "\u001b[0;31m---------------------------------------------------------------------------\u001b[0m",
      "\u001b[0;31mKeyboardInterrupt\u001b[0m                         Traceback (most recent call last)",
      "\u001b[0;32m<ipython-input-9-bcad6aeec7e9>\u001b[0m in \u001b[0;36m<module>\u001b[0;34m()\u001b[0m\n\u001b[1;32m     17\u001b[0m \u001b[0;34m\u001b[0m\u001b[0m\n\u001b[1;32m     18\u001b[0m \u001b[0mmy_scorer\u001b[0m \u001b[0;34m=\u001b[0m \u001b[0mmake_scorer\u001b[0m\u001b[0;34m(\u001b[0m\u001b[0mmy_scorer\u001b[0m\u001b[0;34m,\u001b[0m \u001b[0mgreater_is_better\u001b[0m\u001b[0;34m=\u001b[0m\u001b[0;32mTrue\u001b[0m\u001b[0;34m)\u001b[0m\u001b[0;34m\u001b[0m\u001b[0m\n\u001b[0;32m---> 19\u001b[0;31m \u001b[0mscores\u001b[0m \u001b[0;34m=\u001b[0m \u001b[0mcross_val_score\u001b[0m\u001b[0;34m(\u001b[0m\u001b[0mclf_knn_reverse\u001b[0m\u001b[0;34m,\u001b[0m \u001b[0mfeatures_train_concat\u001b[0m\u001b[0;34m,\u001b[0m\u001b[0mxtrain_glove\u001b[0m\u001b[0;34m,\u001b[0m \u001b[0mcv\u001b[0m\u001b[0;34m=\u001b[0m\u001b[0;36m5\u001b[0m\u001b[0;34m,\u001b[0m\u001b[0mscoring\u001b[0m\u001b[0;34m=\u001b[0m\u001b[0mmy_scorer\u001b[0m\u001b[0;34m)\u001b[0m\u001b[0;34m\u001b[0m\u001b[0m\n\u001b[0m",
      "\u001b[0;32m/anaconda3/lib/python3.7/site-packages/sklearn/model_selection/_validation.py\u001b[0m in \u001b[0;36mcross_val_score\u001b[0;34m(estimator, X, y, groups, scoring, cv, n_jobs, verbose, fit_params, pre_dispatch)\u001b[0m\n\u001b[1;32m    340\u001b[0m                                 \u001b[0mn_jobs\u001b[0m\u001b[0;34m=\u001b[0m\u001b[0mn_jobs\u001b[0m\u001b[0;34m,\u001b[0m \u001b[0mverbose\u001b[0m\u001b[0;34m=\u001b[0m\u001b[0mverbose\u001b[0m\u001b[0;34m,\u001b[0m\u001b[0;34m\u001b[0m\u001b[0m\n\u001b[1;32m    341\u001b[0m                                 \u001b[0mfit_params\u001b[0m\u001b[0;34m=\u001b[0m\u001b[0mfit_params\u001b[0m\u001b[0;34m,\u001b[0m\u001b[0;34m\u001b[0m\u001b[0m\n\u001b[0;32m--> 342\u001b[0;31m                                 pre_dispatch=pre_dispatch)\n\u001b[0m\u001b[1;32m    343\u001b[0m     \u001b[0;32mreturn\u001b[0m \u001b[0mcv_results\u001b[0m\u001b[0;34m[\u001b[0m\u001b[0;34m'test_score'\u001b[0m\u001b[0;34m]\u001b[0m\u001b[0;34m\u001b[0m\u001b[0m\n\u001b[1;32m    344\u001b[0m \u001b[0;34m\u001b[0m\u001b[0m\n",
      "\u001b[0;32m/anaconda3/lib/python3.7/site-packages/sklearn/model_selection/_validation.py\u001b[0m in \u001b[0;36mcross_validate\u001b[0;34m(estimator, X, y, groups, scoring, cv, n_jobs, verbose, fit_params, pre_dispatch, return_train_score)\u001b[0m\n\u001b[1;32m    204\u001b[0m             \u001b[0mfit_params\u001b[0m\u001b[0;34m,\u001b[0m \u001b[0mreturn_train_score\u001b[0m\u001b[0;34m=\u001b[0m\u001b[0mreturn_train_score\u001b[0m\u001b[0;34m,\u001b[0m\u001b[0;34m\u001b[0m\u001b[0m\n\u001b[1;32m    205\u001b[0m             return_times=True)\n\u001b[0;32m--> 206\u001b[0;31m         for train, test in cv.split(X, y, groups))\n\u001b[0m\u001b[1;32m    207\u001b[0m \u001b[0;34m\u001b[0m\u001b[0m\n\u001b[1;32m    208\u001b[0m     \u001b[0;32mif\u001b[0m \u001b[0mreturn_train_score\u001b[0m\u001b[0;34m:\u001b[0m\u001b[0;34m\u001b[0m\u001b[0m\n",
      "\u001b[0;32m/anaconda3/lib/python3.7/site-packages/sklearn/externals/joblib/parallel.py\u001b[0m in \u001b[0;36m__call__\u001b[0;34m(self, iterable)\u001b[0m\n\u001b[1;32m    777\u001b[0m             \u001b[0;31m# was dispatched. In particular this covers the edge\u001b[0m\u001b[0;34m\u001b[0m\u001b[0;34m\u001b[0m\u001b[0m\n\u001b[1;32m    778\u001b[0m             \u001b[0;31m# case of Parallel used with an exhausted iterator.\u001b[0m\u001b[0;34m\u001b[0m\u001b[0;34m\u001b[0m\u001b[0m\n\u001b[0;32m--> 779\u001b[0;31m             \u001b[0;32mwhile\u001b[0m \u001b[0mself\u001b[0m\u001b[0;34m.\u001b[0m\u001b[0mdispatch_one_batch\u001b[0m\u001b[0;34m(\u001b[0m\u001b[0miterator\u001b[0m\u001b[0;34m)\u001b[0m\u001b[0;34m:\u001b[0m\u001b[0;34m\u001b[0m\u001b[0m\n\u001b[0m\u001b[1;32m    780\u001b[0m                 \u001b[0mself\u001b[0m\u001b[0;34m.\u001b[0m\u001b[0m_iterating\u001b[0m \u001b[0;34m=\u001b[0m \u001b[0;32mTrue\u001b[0m\u001b[0;34m\u001b[0m\u001b[0m\n\u001b[1;32m    781\u001b[0m             \u001b[0;32melse\u001b[0m\u001b[0;34m:\u001b[0m\u001b[0;34m\u001b[0m\u001b[0m\n",
      "\u001b[0;32m/anaconda3/lib/python3.7/site-packages/sklearn/externals/joblib/parallel.py\u001b[0m in \u001b[0;36mdispatch_one_batch\u001b[0;34m(self, iterator)\u001b[0m\n\u001b[1;32m    623\u001b[0m                 \u001b[0;32mreturn\u001b[0m \u001b[0;32mFalse\u001b[0m\u001b[0;34m\u001b[0m\u001b[0m\n\u001b[1;32m    624\u001b[0m             \u001b[0;32melse\u001b[0m\u001b[0;34m:\u001b[0m\u001b[0;34m\u001b[0m\u001b[0m\n\u001b[0;32m--> 625\u001b[0;31m                 \u001b[0mself\u001b[0m\u001b[0;34m.\u001b[0m\u001b[0m_dispatch\u001b[0m\u001b[0;34m(\u001b[0m\u001b[0mtasks\u001b[0m\u001b[0;34m)\u001b[0m\u001b[0;34m\u001b[0m\u001b[0m\n\u001b[0m\u001b[1;32m    626\u001b[0m                 \u001b[0;32mreturn\u001b[0m \u001b[0;32mTrue\u001b[0m\u001b[0;34m\u001b[0m\u001b[0m\n\u001b[1;32m    627\u001b[0m \u001b[0;34m\u001b[0m\u001b[0m\n",
      "\u001b[0;32m/anaconda3/lib/python3.7/site-packages/sklearn/externals/joblib/parallel.py\u001b[0m in \u001b[0;36m_dispatch\u001b[0;34m(self, batch)\u001b[0m\n\u001b[1;32m    586\u001b[0m         \u001b[0mdispatch_timestamp\u001b[0m \u001b[0;34m=\u001b[0m \u001b[0mtime\u001b[0m\u001b[0;34m.\u001b[0m\u001b[0mtime\u001b[0m\u001b[0;34m(\u001b[0m\u001b[0;34m)\u001b[0m\u001b[0;34m\u001b[0m\u001b[0m\n\u001b[1;32m    587\u001b[0m         \u001b[0mcb\u001b[0m \u001b[0;34m=\u001b[0m \u001b[0mBatchCompletionCallBack\u001b[0m\u001b[0;34m(\u001b[0m\u001b[0mdispatch_timestamp\u001b[0m\u001b[0;34m,\u001b[0m \u001b[0mlen\u001b[0m\u001b[0;34m(\u001b[0m\u001b[0mbatch\u001b[0m\u001b[0;34m)\u001b[0m\u001b[0;34m,\u001b[0m \u001b[0mself\u001b[0m\u001b[0;34m)\u001b[0m\u001b[0;34m\u001b[0m\u001b[0m\n\u001b[0;32m--> 588\u001b[0;31m         \u001b[0mjob\u001b[0m \u001b[0;34m=\u001b[0m \u001b[0mself\u001b[0m\u001b[0;34m.\u001b[0m\u001b[0m_backend\u001b[0m\u001b[0;34m.\u001b[0m\u001b[0mapply_async\u001b[0m\u001b[0;34m(\u001b[0m\u001b[0mbatch\u001b[0m\u001b[0;34m,\u001b[0m \u001b[0mcallback\u001b[0m\u001b[0;34m=\u001b[0m\u001b[0mcb\u001b[0m\u001b[0;34m)\u001b[0m\u001b[0;34m\u001b[0m\u001b[0m\n\u001b[0m\u001b[1;32m    589\u001b[0m         \u001b[0mself\u001b[0m\u001b[0;34m.\u001b[0m\u001b[0m_jobs\u001b[0m\u001b[0;34m.\u001b[0m\u001b[0mappend\u001b[0m\u001b[0;34m(\u001b[0m\u001b[0mjob\u001b[0m\u001b[0;34m)\u001b[0m\u001b[0;34m\u001b[0m\u001b[0m\n\u001b[1;32m    590\u001b[0m \u001b[0;34m\u001b[0m\u001b[0m\n",
      "\u001b[0;32m/anaconda3/lib/python3.7/site-packages/sklearn/externals/joblib/_parallel_backends.py\u001b[0m in \u001b[0;36mapply_async\u001b[0;34m(self, func, callback)\u001b[0m\n\u001b[1;32m    109\u001b[0m     \u001b[0;32mdef\u001b[0m \u001b[0mapply_async\u001b[0m\u001b[0;34m(\u001b[0m\u001b[0mself\u001b[0m\u001b[0;34m,\u001b[0m \u001b[0mfunc\u001b[0m\u001b[0;34m,\u001b[0m \u001b[0mcallback\u001b[0m\u001b[0;34m=\u001b[0m\u001b[0;32mNone\u001b[0m\u001b[0;34m)\u001b[0m\u001b[0;34m:\u001b[0m\u001b[0;34m\u001b[0m\u001b[0m\n\u001b[1;32m    110\u001b[0m         \u001b[0;34m\"\"\"Schedule a func to be run\"\"\"\u001b[0m\u001b[0;34m\u001b[0m\u001b[0m\n\u001b[0;32m--> 111\u001b[0;31m         \u001b[0mresult\u001b[0m \u001b[0;34m=\u001b[0m \u001b[0mImmediateResult\u001b[0m\u001b[0;34m(\u001b[0m\u001b[0mfunc\u001b[0m\u001b[0;34m)\u001b[0m\u001b[0;34m\u001b[0m\u001b[0m\n\u001b[0m\u001b[1;32m    112\u001b[0m         \u001b[0;32mif\u001b[0m \u001b[0mcallback\u001b[0m\u001b[0;34m:\u001b[0m\u001b[0;34m\u001b[0m\u001b[0m\n\u001b[1;32m    113\u001b[0m             \u001b[0mcallback\u001b[0m\u001b[0;34m(\u001b[0m\u001b[0mresult\u001b[0m\u001b[0;34m)\u001b[0m\u001b[0;34m\u001b[0m\u001b[0m\n",
      "\u001b[0;32m/anaconda3/lib/python3.7/site-packages/sklearn/externals/joblib/_parallel_backends.py\u001b[0m in \u001b[0;36m__init__\u001b[0;34m(self, batch)\u001b[0m\n\u001b[1;32m    330\u001b[0m         \u001b[0;31m# Don't delay the application, to avoid keeping the input\u001b[0m\u001b[0;34m\u001b[0m\u001b[0;34m\u001b[0m\u001b[0m\n\u001b[1;32m    331\u001b[0m         \u001b[0;31m# arguments in memory\u001b[0m\u001b[0;34m\u001b[0m\u001b[0;34m\u001b[0m\u001b[0m\n\u001b[0;32m--> 332\u001b[0;31m         \u001b[0mself\u001b[0m\u001b[0;34m.\u001b[0m\u001b[0mresults\u001b[0m \u001b[0;34m=\u001b[0m \u001b[0mbatch\u001b[0m\u001b[0;34m(\u001b[0m\u001b[0;34m)\u001b[0m\u001b[0;34m\u001b[0m\u001b[0m\n\u001b[0m\u001b[1;32m    333\u001b[0m \u001b[0;34m\u001b[0m\u001b[0m\n\u001b[1;32m    334\u001b[0m     \u001b[0;32mdef\u001b[0m \u001b[0mget\u001b[0m\u001b[0;34m(\u001b[0m\u001b[0mself\u001b[0m\u001b[0;34m)\u001b[0m\u001b[0;34m:\u001b[0m\u001b[0;34m\u001b[0m\u001b[0m\n",
      "\u001b[0;32m/anaconda3/lib/python3.7/site-packages/sklearn/externals/joblib/parallel.py\u001b[0m in \u001b[0;36m__call__\u001b[0;34m(self)\u001b[0m\n\u001b[1;32m    129\u001b[0m \u001b[0;34m\u001b[0m\u001b[0m\n\u001b[1;32m    130\u001b[0m     \u001b[0;32mdef\u001b[0m \u001b[0m__call__\u001b[0m\u001b[0;34m(\u001b[0m\u001b[0mself\u001b[0m\u001b[0;34m)\u001b[0m\u001b[0;34m:\u001b[0m\u001b[0;34m\u001b[0m\u001b[0m\n\u001b[0;32m--> 131\u001b[0;31m         \u001b[0;32mreturn\u001b[0m \u001b[0;34m[\u001b[0m\u001b[0mfunc\u001b[0m\u001b[0;34m(\u001b[0m\u001b[0;34m*\u001b[0m\u001b[0margs\u001b[0m\u001b[0;34m,\u001b[0m \u001b[0;34m**\u001b[0m\u001b[0mkwargs\u001b[0m\u001b[0;34m)\u001b[0m \u001b[0;32mfor\u001b[0m \u001b[0mfunc\u001b[0m\u001b[0;34m,\u001b[0m \u001b[0margs\u001b[0m\u001b[0;34m,\u001b[0m \u001b[0mkwargs\u001b[0m \u001b[0;32min\u001b[0m \u001b[0mself\u001b[0m\u001b[0;34m.\u001b[0m\u001b[0mitems\u001b[0m\u001b[0;34m]\u001b[0m\u001b[0;34m\u001b[0m\u001b[0m\n\u001b[0m\u001b[1;32m    132\u001b[0m \u001b[0;34m\u001b[0m\u001b[0m\n\u001b[1;32m    133\u001b[0m     \u001b[0;32mdef\u001b[0m \u001b[0m__len__\u001b[0m\u001b[0;34m(\u001b[0m\u001b[0mself\u001b[0m\u001b[0;34m)\u001b[0m\u001b[0;34m:\u001b[0m\u001b[0;34m\u001b[0m\u001b[0m\n",
      "\u001b[0;32m/anaconda3/lib/python3.7/site-packages/sklearn/externals/joblib/parallel.py\u001b[0m in \u001b[0;36m<listcomp>\u001b[0;34m(.0)\u001b[0m\n\u001b[1;32m    129\u001b[0m \u001b[0;34m\u001b[0m\u001b[0m\n\u001b[1;32m    130\u001b[0m     \u001b[0;32mdef\u001b[0m \u001b[0m__call__\u001b[0m\u001b[0;34m(\u001b[0m\u001b[0mself\u001b[0m\u001b[0;34m)\u001b[0m\u001b[0;34m:\u001b[0m\u001b[0;34m\u001b[0m\u001b[0m\n\u001b[0;32m--> 131\u001b[0;31m         \u001b[0;32mreturn\u001b[0m \u001b[0;34m[\u001b[0m\u001b[0mfunc\u001b[0m\u001b[0;34m(\u001b[0m\u001b[0;34m*\u001b[0m\u001b[0margs\u001b[0m\u001b[0;34m,\u001b[0m \u001b[0;34m**\u001b[0m\u001b[0mkwargs\u001b[0m\u001b[0;34m)\u001b[0m \u001b[0;32mfor\u001b[0m \u001b[0mfunc\u001b[0m\u001b[0;34m,\u001b[0m \u001b[0margs\u001b[0m\u001b[0;34m,\u001b[0m \u001b[0mkwargs\u001b[0m \u001b[0;32min\u001b[0m \u001b[0mself\u001b[0m\u001b[0;34m.\u001b[0m\u001b[0mitems\u001b[0m\u001b[0;34m]\u001b[0m\u001b[0;34m\u001b[0m\u001b[0m\n\u001b[0m\u001b[1;32m    132\u001b[0m \u001b[0;34m\u001b[0m\u001b[0m\n\u001b[1;32m    133\u001b[0m     \u001b[0;32mdef\u001b[0m \u001b[0m__len__\u001b[0m\u001b[0;34m(\u001b[0m\u001b[0mself\u001b[0m\u001b[0;34m)\u001b[0m\u001b[0;34m:\u001b[0m\u001b[0;34m\u001b[0m\u001b[0m\n",
      "\u001b[0;32m/anaconda3/lib/python3.7/site-packages/sklearn/model_selection/_validation.py\u001b[0m in \u001b[0;36m_fit_and_score\u001b[0;34m(estimator, X, y, scorer, train, test, verbose, parameters, fit_params, return_train_score, return_parameters, return_n_test_samples, return_times, error_score)\u001b[0m\n\u001b[1;32m    486\u001b[0m         \u001b[0mfit_time\u001b[0m \u001b[0;34m=\u001b[0m \u001b[0mtime\u001b[0m\u001b[0;34m.\u001b[0m\u001b[0mtime\u001b[0m\u001b[0;34m(\u001b[0m\u001b[0;34m)\u001b[0m \u001b[0;34m-\u001b[0m \u001b[0mstart_time\u001b[0m\u001b[0;34m\u001b[0m\u001b[0m\n\u001b[1;32m    487\u001b[0m         \u001b[0;31m# _score will return dict if is_multimetric is True\u001b[0m\u001b[0;34m\u001b[0m\u001b[0;34m\u001b[0m\u001b[0m\n\u001b[0;32m--> 488\u001b[0;31m         \u001b[0mtest_scores\u001b[0m \u001b[0;34m=\u001b[0m \u001b[0m_score\u001b[0m\u001b[0;34m(\u001b[0m\u001b[0mestimator\u001b[0m\u001b[0;34m,\u001b[0m \u001b[0mX_test\u001b[0m\u001b[0;34m,\u001b[0m \u001b[0my_test\u001b[0m\u001b[0;34m,\u001b[0m \u001b[0mscorer\u001b[0m\u001b[0;34m,\u001b[0m \u001b[0mis_multimetric\u001b[0m\u001b[0;34m)\u001b[0m\u001b[0;34m\u001b[0m\u001b[0m\n\u001b[0m\u001b[1;32m    489\u001b[0m         \u001b[0mscore_time\u001b[0m \u001b[0;34m=\u001b[0m \u001b[0mtime\u001b[0m\u001b[0;34m.\u001b[0m\u001b[0mtime\u001b[0m\u001b[0;34m(\u001b[0m\u001b[0;34m)\u001b[0m \u001b[0;34m-\u001b[0m \u001b[0mstart_time\u001b[0m \u001b[0;34m-\u001b[0m \u001b[0mfit_time\u001b[0m\u001b[0;34m\u001b[0m\u001b[0m\n\u001b[1;32m    490\u001b[0m         \u001b[0;32mif\u001b[0m \u001b[0mreturn_train_score\u001b[0m\u001b[0;34m:\u001b[0m\u001b[0;34m\u001b[0m\u001b[0m\n",
      "\u001b[0;32m/anaconda3/lib/python3.7/site-packages/sklearn/model_selection/_validation.py\u001b[0m in \u001b[0;36m_score\u001b[0;34m(estimator, X_test, y_test, scorer, is_multimetric)\u001b[0m\n\u001b[1;32m    521\u001b[0m     \"\"\"\n\u001b[1;32m    522\u001b[0m     \u001b[0;32mif\u001b[0m \u001b[0mis_multimetric\u001b[0m\u001b[0;34m:\u001b[0m\u001b[0;34m\u001b[0m\u001b[0m\n\u001b[0;32m--> 523\u001b[0;31m         \u001b[0;32mreturn\u001b[0m \u001b[0m_multimetric_score\u001b[0m\u001b[0;34m(\u001b[0m\u001b[0mestimator\u001b[0m\u001b[0;34m,\u001b[0m \u001b[0mX_test\u001b[0m\u001b[0;34m,\u001b[0m \u001b[0my_test\u001b[0m\u001b[0;34m,\u001b[0m \u001b[0mscorer\u001b[0m\u001b[0;34m)\u001b[0m\u001b[0;34m\u001b[0m\u001b[0m\n\u001b[0m\u001b[1;32m    524\u001b[0m     \u001b[0;32melse\u001b[0m\u001b[0;34m:\u001b[0m\u001b[0;34m\u001b[0m\u001b[0m\n\u001b[1;32m    525\u001b[0m         \u001b[0;32mif\u001b[0m \u001b[0my_test\u001b[0m \u001b[0;32mis\u001b[0m \u001b[0;32mNone\u001b[0m\u001b[0;34m:\u001b[0m\u001b[0;34m\u001b[0m\u001b[0m\n",
      "\u001b[0;32m/anaconda3/lib/python3.7/site-packages/sklearn/model_selection/_validation.py\u001b[0m in \u001b[0;36m_multimetric_score\u001b[0;34m(estimator, X_test, y_test, scorers)\u001b[0m\n\u001b[1;32m    551\u001b[0m             \u001b[0mscore\u001b[0m \u001b[0;34m=\u001b[0m \u001b[0mscorer\u001b[0m\u001b[0;34m(\u001b[0m\u001b[0mestimator\u001b[0m\u001b[0;34m,\u001b[0m \u001b[0mX_test\u001b[0m\u001b[0;34m)\u001b[0m\u001b[0;34m\u001b[0m\u001b[0m\n\u001b[1;32m    552\u001b[0m         \u001b[0;32melse\u001b[0m\u001b[0;34m:\u001b[0m\u001b[0;34m\u001b[0m\u001b[0m\n\u001b[0;32m--> 553\u001b[0;31m             \u001b[0mscore\u001b[0m \u001b[0;34m=\u001b[0m \u001b[0mscorer\u001b[0m\u001b[0;34m(\u001b[0m\u001b[0mestimator\u001b[0m\u001b[0;34m,\u001b[0m \u001b[0mX_test\u001b[0m\u001b[0;34m,\u001b[0m \u001b[0my_test\u001b[0m\u001b[0;34m)\u001b[0m\u001b[0;34m\u001b[0m\u001b[0m\n\u001b[0m\u001b[1;32m    554\u001b[0m \u001b[0;34m\u001b[0m\u001b[0m\n\u001b[1;32m    555\u001b[0m         \u001b[0;32mif\u001b[0m \u001b[0mhasattr\u001b[0m\u001b[0;34m(\u001b[0m\u001b[0mscore\u001b[0m\u001b[0;34m,\u001b[0m \u001b[0;34m'item'\u001b[0m\u001b[0;34m)\u001b[0m\u001b[0;34m:\u001b[0m\u001b[0;34m\u001b[0m\u001b[0m\n",
      "\u001b[0;32m/anaconda3/lib/python3.7/site-packages/sklearn/metrics/scorer.py\u001b[0m in \u001b[0;36m__call__\u001b[0;34m(self, estimator, X, y_true, sample_weight)\u001b[0m\n\u001b[1;32m    106\u001b[0m         \u001b[0;32melse\u001b[0m\u001b[0;34m:\u001b[0m\u001b[0;34m\u001b[0m\u001b[0m\n\u001b[1;32m    107\u001b[0m             return self._sign * self._score_func(y_true, y_pred,\n\u001b[0;32m--> 108\u001b[0;31m                                                  **self._kwargs)\n\u001b[0m\u001b[1;32m    109\u001b[0m \u001b[0;34m\u001b[0m\u001b[0m\n\u001b[1;32m    110\u001b[0m \u001b[0;34m\u001b[0m\u001b[0m\n",
      "\u001b[0;32m<ipython-input-9-bcad6aeec7e9>\u001b[0m in \u001b[0;36mmy_scorer\u001b[0;34m(ground_truth, predictions)\u001b[0m\n\u001b[1;32m      8\u001b[0m         \u001b[0mdist\u001b[0m \u001b[0;34m=\u001b[0m \u001b[0;34m[\u001b[0m\u001b[0;34m]\u001b[0m\u001b[0;34m\u001b[0m\u001b[0m\n\u001b[1;32m      9\u001b[0m         \u001b[0;32mfor\u001b[0m \u001b[0mj\u001b[0m \u001b[0;32min\u001b[0m \u001b[0mrange\u001b[0m\u001b[0;34m(\u001b[0m\u001b[0mlength\u001b[0m\u001b[0;34m)\u001b[0m\u001b[0;34m:\u001b[0m\u001b[0;34m\u001b[0m\u001b[0m\n\u001b[0;32m---> 10\u001b[0;31m             \u001b[0mdist\u001b[0m\u001b[0;34m.\u001b[0m\u001b[0mappend\u001b[0m\u001b[0;34m(\u001b[0m\u001b[0;34m(\u001b[0m\u001b[0mnp\u001b[0m\u001b[0;34m.\u001b[0m\u001b[0mlinalg\u001b[0m\u001b[0;34m.\u001b[0m\u001b[0mnorm\u001b[0m\u001b[0;34m(\u001b[0m\u001b[0mpredictions\u001b[0m\u001b[0;34m[\u001b[0m\u001b[0mi\u001b[0m\u001b[0;34m]\u001b[0m\u001b[0;34m-\u001b[0m\u001b[0mground_truth\u001b[0m\u001b[0;34m[\u001b[0m\u001b[0mj\u001b[0m\u001b[0;34m]\u001b[0m\u001b[0;34m)\u001b[0m\u001b[0;34m,\u001b[0m\u001b[0mj\u001b[0m\u001b[0;34m)\u001b[0m\u001b[0;34m)\u001b[0m\u001b[0;34m\u001b[0m\u001b[0m\n\u001b[0m\u001b[1;32m     11\u001b[0m         \u001b[0mdist\u001b[0m\u001b[0;34m.\u001b[0m\u001b[0msort\u001b[0m\u001b[0;34m(\u001b[0m\u001b[0;34m)\u001b[0m\u001b[0;34m\u001b[0m\u001b[0m\n\u001b[1;32m     12\u001b[0m         \u001b[0mrank_list\u001b[0m \u001b[0;34m=\u001b[0m \u001b[0;34m[\u001b[0m\u001b[0mv\u001b[0m \u001b[0;32mfor\u001b[0m \u001b[0;34m(\u001b[0m\u001b[0mk\u001b[0m\u001b[0;34m,\u001b[0m\u001b[0mv\u001b[0m\u001b[0;34m)\u001b[0m \u001b[0;32min\u001b[0m \u001b[0mdist\u001b[0m\u001b[0;34m[\u001b[0m\u001b[0;34m:\u001b[0m\u001b[0;36m20\u001b[0m\u001b[0;34m]\u001b[0m\u001b[0;34m]\u001b[0m\u001b[0;34m\u001b[0m\u001b[0m\n",
      "\u001b[0;32m/anaconda3/lib/python3.7/site-packages/numpy/linalg/linalg.py\u001b[0m in \u001b[0;36mnorm\u001b[0;34m(x, ord, axis, keepdims)\u001b[0m\n\u001b[1;32m   2353\u001b[0m             (ord == 2 and ndim == 1)):\n\u001b[1;32m   2354\u001b[0m \u001b[0;34m\u001b[0m\u001b[0m\n\u001b[0;32m-> 2355\u001b[0;31m             \u001b[0mx\u001b[0m \u001b[0;34m=\u001b[0m \u001b[0mx\u001b[0m\u001b[0;34m.\u001b[0m\u001b[0mravel\u001b[0m\u001b[0;34m(\u001b[0m\u001b[0morder\u001b[0m\u001b[0;34m=\u001b[0m\u001b[0;34m'K'\u001b[0m\u001b[0;34m)\u001b[0m\u001b[0;34m\u001b[0m\u001b[0m\n\u001b[0m\u001b[1;32m   2356\u001b[0m             \u001b[0;32mif\u001b[0m \u001b[0misComplexType\u001b[0m\u001b[0;34m(\u001b[0m\u001b[0mx\u001b[0m\u001b[0;34m.\u001b[0m\u001b[0mdtype\u001b[0m\u001b[0;34m.\u001b[0m\u001b[0mtype\u001b[0m\u001b[0;34m)\u001b[0m\u001b[0;34m:\u001b[0m\u001b[0;34m\u001b[0m\u001b[0m\n\u001b[1;32m   2357\u001b[0m                 \u001b[0msqnorm\u001b[0m \u001b[0;34m=\u001b[0m \u001b[0mdot\u001b[0m\u001b[0;34m(\u001b[0m\u001b[0mx\u001b[0m\u001b[0;34m.\u001b[0m\u001b[0mreal\u001b[0m\u001b[0;34m,\u001b[0m \u001b[0mx\u001b[0m\u001b[0;34m.\u001b[0m\u001b[0mreal\u001b[0m\u001b[0;34m)\u001b[0m \u001b[0;34m+\u001b[0m \u001b[0mdot\u001b[0m\u001b[0;34m(\u001b[0m\u001b[0mx\u001b[0m\u001b[0;34m.\u001b[0m\u001b[0mimag\u001b[0m\u001b[0;34m,\u001b[0m \u001b[0mx\u001b[0m\u001b[0;34m.\u001b[0m\u001b[0mimag\u001b[0m\u001b[0;34m)\u001b[0m\u001b[0;34m\u001b[0m\u001b[0m\n",
      "\u001b[0;31mKeyboardInterrupt\u001b[0m: "
     ]
    }
   ],
   "source": [
    "## DOES NOT WORK\n",
    "\n",
    "from sklearn.model_selection import cross_val_score\n",
    "from sklearn.metrics.scorer import make_scorer\n",
    "\n",
    "def my_scorer(ground_truth, predictions):\n",
    "    score = 0.0\n",
    "    length = len(ground_truth)\n",
    "    for i in range (length):\n",
    "        dist = []\n",
    "        for j in range(length):\n",
    "            dist.append((np.linalg.norm(predictions[i]-ground_truth[j]),j))\n",
    "        dist.sort()\n",
    "        rank_list = [v for (k,v) in dist[:20]]\n",
    "        if i in rank_list:\n",
    "            rank = rank_list.index(i)\n",
    "            score = score + (21.0-rank)/20.0\n",
    "    return score/length\n",
    "\n",
    "my_scorer = make_scorer(my_scorer, greater_is_better=True)\n",
    "scores = cross_val_score(clf_knn_reverse, features_train_concat,xtrain_glove, cv=5,scoring=my_scorer)"
   ]
  },
  {
   "cell_type": "code",
   "execution_count": 11,
   "metadata": {},
   "outputs": [],
   "source": [
    "## 15% score\n",
    "\n",
    "clf_knn = KNeighborsRegressor(n_neighbors=5,n_jobs=-1)\n",
    "clf_knn.fit(xtrain_glove, features_train_concat)\n",
    "\n",
    "\n",
    "knn_predict= clf_knn.predict(xtest_glove)\n",
    "\n",
    "\n",
    "\n",
    "rank_list = []\n",
    "for i in range (2000):\n",
    "    guess_image = knn_predict[i]\n",
    "    dist = []\n",
    "    for j in range(2000):\n",
    "        dist.append((np.linalg.norm(guess_image-features_test_concat[j]),j))\n",
    "    dist.sort()\n",
    "    rank_list.append([v for (k,v) in dist[:20]])\n",
    "\n",
    "def mergeTwenty(lst):\n",
    "    result = str(lst[0])+\".jpg\"\n",
    "    for i in range(1,len(lst)):\n",
    "        result += \" \" + str(lst[i]) + \".jpg\"\n",
    "    return result\n",
    "\n",
    "with open('s5st.csv', 'w', newline='') as csvfile:\n",
    "    csv_writer = csv.writer(csvfile, delimiter=',')\n",
    "    csv_writer.writerow([\"Descritpion_ID\", \"Top_20_Image_IDs\"])\n",
    "    for i in range(len(rank_list)):\n",
    "        csv_writer.writerow([str(i) + \".txt\", mergeTwenty(rank_list[i])])"
   ]
  },
  {
   "cell_type": "code",
   "execution_count": 13,
   "metadata": {},
   "outputs": [],
   "source": [
    "clf_knn_reverse = KNeighborsRegressor(n_neighbors=5,n_jobs=-1)\n",
    "clf_knn_reverse.fit(features_train_concat,xtrain_glove)\n",
    "\n",
    "\n",
    "knn_predict_reverse= clf_knn_reverse.predict(features_test_concat)\n",
    "rank_list = []\n",
    "for i in range (2000):\n",
    "    current_query = xtest_glove[i]\n",
    "    dist = []\n",
    "    for j in range(2000):\n",
    "        dist.append((np.linalg.norm(knn_predict_reverse[j]-current_query, ord=1),j))\n",
    "    dist.sort()\n",
    "    rank_list.append([v for (k,v) in dist[:20]])\n",
    "\n",
    "def mergeTwenty(lst):\n",
    "    result = str(lst[0])+\".jpg\"\n",
    "    for i in range(1,len(lst)):\n",
    "        result += \" \" + str(lst[i]) + \".jpg\"\n",
    "    return result\n",
    "\n",
    "with open('l1.csv', 'w', newline='') as csvfile:\n",
    "    csv_writer = csv.writer(csvfile, delimiter=',')\n",
    "    csv_writer.writerow([\"Descritpion_ID\", \"Top_20_Image_IDs\"])\n",
    "    for i in range(len(rank_list)):\n",
    "        csv_writer.writerow([str(i) + \".txt\", mergeTwenty(rank_list[i])])"
   ]
  },
  {
   "cell_type": "code",
   "execution_count": 14,
   "metadata": {},
   "outputs": [],
   "source": [
    "def my_scorer(ground_truth, predictions):\n",
    "    score = 0.0\n",
    "    length = len(ground_truth)\n",
    "    for i in range (length):\n",
    "        dist = []\n",
    "        for j in range(length):\n",
    "            dist.append((np.linalg.norm(predictions[i]-ground_truth[j]),j))\n",
    "        dist.sort()\n",
    "        rank_list = [v for (k,v) in dist[:20]]\n",
    "        if i in rank_list:\n",
    "            rank = rank_list.index(i)\n",
    "            score = score + (21.0-rank)/20.0\n",
    "    return score/length"
   ]
  },
  {
   "cell_type": "code",
   "execution_count": 15,
   "metadata": {},
   "outputs": [],
   "source": [
    "clf_knn_reverse = KNeighborsRegressor(n_neighbors=5,n_jobs=-1)\n",
    "clf_knn_reverse.fit(features_train_concat,xtrain_glove)\n",
    "\n",
    "def my_scorer_reverse(ground_truth, predictions):\n",
    "    score = 0.0\n",
    "    length = len(ground_truth)\n",
    "    for i in range (length):\n",
    "        dist = []\n",
    "        current_query = ground_truth[i]\n",
    "        for j in range(length):\n",
    "            dist.append((np.linalg.norm(predictions[j]-current_query),j))\n",
    "        dist.sort()\n",
    "        rank_list = [v for (k,v) in dist[:20]]\n",
    "        if i in rank_list:\n",
    "            rank = rank_list.index(i)\n",
    "            score = score + (21.0-rank)/20.0\n",
    "    return score/length\n",
    "\n",
    "my_scorer_reverse = make_scorer(my_scorer_reverse, greater_is_better=True)\n",
    "scores = cross_val_score(clf_knn_reverse, features_train_concat,xtrain_glove, cv=5,scoring=my_scorer_reverse)"
   ]
  },
  {
   "cell_type": "code",
   "execution_count": 17,
   "metadata": {},
   "outputs": [
    {
     "name": "stdout",
     "output_type": "stream",
     "text": [
      "0.509219999999998\n"
     ]
    }
   ],
   "source": [
    "print(scores.mean())"
   ]
  },
  {
   "cell_type": "code",
   "execution_count": 20,
   "metadata": {},
   "outputs": [
    {
     "name": "stdout",
     "output_type": "stream",
     "text": [
      "0.3492799999999996\n"
     ]
    }
   ],
   "source": [
    "clf_knn = KNeighborsRegressor(n_neighbors=5,n_jobs=-1)\n",
    "clf_knn.fit(xtrain_glove, features_train_concat)\n",
    "\n",
    "def my_scorer(ground_truth, predictions):\n",
    "    score = 0.0\n",
    "    length = len(ground_truth)\n",
    "    for i in range (length):\n",
    "        dist = []\n",
    "        for j in range(length):\n",
    "            dist.append((np.linalg.norm(predictions[i]-ground_truth[j]),j))\n",
    "        dist.sort()\n",
    "        rank_list = [v for (k,v) in dist[:20]]\n",
    "        if i in rank_list:\n",
    "            rank = rank_list.index(i)\n",
    "            score = score + (21.0-rank)/20.0\n",
    "    return score/length\n",
    "\n",
    "my_scorer = make_scorer(my_scorer, greater_is_better=True)\n",
    "scores = cross_val_score(clf_knn, xtrain_glove, features_train_concat, cv=5,scoring=my_scorer)\n",
    "print(scores.mean())"
   ]
  },
  {
   "cell_type": "code",
   "execution_count": 21,
   "metadata": {},
   "outputs": [
    {
     "name": "stdout",
     "output_type": "stream",
     "text": [
      "0.508479999999998\n"
     ]
    }
   ],
   "source": [
    "clf_knn_reverse = KNeighborsRegressor(n_neighbors=5,n_jobs=-1)\n",
    "clf_knn_reverse.fit(features_train_concat,xtrain_glove)\n",
    "\n",
    "def my_scorer_reverse(ground_truth, predictions):\n",
    "    score = 0.0\n",
    "    length = len(ground_truth)\n",
    "    for i in range (length):\n",
    "        dist = []\n",
    "        current_query = ground_truth[i]\n",
    "        for j in range(length):\n",
    "            dist.append((np.linalg.norm(predictions[j]-current_query, ord=1),j))\n",
    "        dist.sort()\n",
    "        rank_list = [v for (k,v) in dist[:20]]\n",
    "        if i in rank_list:\n",
    "            rank = rank_list.index(i)\n",
    "            score = score + (21.0-rank)/20.0\n",
    "    return score/length\n",
    "\n",
    "my_scorer_reverse = make_scorer(my_scorer_reverse, greater_is_better=True)\n",
    "scores = cross_val_score(clf_knn_reverse, features_train_concat,xtrain_glove, cv=5,scoring=my_scorer_reverse)\n",
    "print(scores.mean())"
   ]
  },
  {
   "cell_type": "code",
   "execution_count": 22,
   "metadata": {},
   "outputs": [
    {
     "name": "stdout",
     "output_type": "stream",
     "text": [
      "0.564239999999998\n"
     ]
    }
   ],
   "source": [
    "from sklearn.linear_model import LinearRegression\n",
    "\n",
    "clf_lr = LinearRegression(n_jobs=-1)\n",
    "clf_lr.fit(features_train_concat,xtrain_glove)\n",
    "\n",
    "def my_scorer_reverse(ground_truth, predictions):\n",
    "    score = 0.0\n",
    "    length = len(ground_truth)\n",
    "    for i in range (length):\n",
    "        dist = []\n",
    "        current_query = ground_truth[i]\n",
    "        for j in range(length):\n",
    "            dist.append((np.linalg.norm(predictions[j]-current_query),j))\n",
    "        dist.sort()\n",
    "        rank_list = [v for (k,v) in dist[:20]]\n",
    "        if i in rank_list:\n",
    "            rank = rank_list.index(i)\n",
    "            score = score + (21.0-rank)/20.0\n",
    "    return score/length\n",
    "\n",
    "my_scorer_reverse = make_scorer(my_scorer_reverse, greater_is_better=True)\n",
    "scores = cross_val_score(clf_lr, features_train_concat,xtrain_glove, cv=5,scoring=my_scorer_reverse)\n",
    "print(scores.mean())"
   ]
  },
  {
   "cell_type": "code",
   "execution_count": 23,
   "metadata": {},
   "outputs": [
    {
     "name": "stdout",
     "output_type": "stream",
     "text": [
      "0.3548749999999997\n"
     ]
    }
   ],
   "source": [
    "clf_lr = LinearRegression(n_jobs=-1)\n",
    "clf_lr.fit(xtrain_glove, features_train_concat)\n",
    "\n",
    "\n",
    "def my_scorer(ground_truth, predictions):\n",
    "    score = 0.0\n",
    "    length = len(ground_truth)\n",
    "    for i in range (length):\n",
    "        dist = []\n",
    "        for j in range(length):\n",
    "            dist.append((np.linalg.norm(predictions[i]-ground_truth[j]),j))\n",
    "        dist.sort()\n",
    "        rank_list = [v for (k,v) in dist[:20]]\n",
    "        if i in rank_list:\n",
    "            rank = rank_list.index(i)\n",
    "            score = score + (21.0-rank)/20.0\n",
    "    return score/length\n",
    "\n",
    "\n",
    "my_scorer = make_scorer(my_scorer, greater_is_better=True)\n",
    "scores = cross_val_score(clf_lr, xtrain_glove, features_train_concat, cv=5,scoring=my_scorer)\n",
    "print(scores.mean())"
   ]
  },
  {
   "cell_type": "code",
   "execution_count": 25,
   "metadata": {},
   "outputs": [
    {
     "ename": "ValueError",
     "evalue": "bad input shape (10000, 300)",
     "output_type": "error",
     "traceback": [
      "\u001b[0;31m---------------------------------------------------------------------------\u001b[0m",
      "\u001b[0;31mValueError\u001b[0m                                Traceback (most recent call last)",
      "\u001b[0;32m<ipython-input-25-f57b879165f5>\u001b[0m in \u001b[0;36m<module>\u001b[0;34m()\u001b[0m\n\u001b[1;32m      2\u001b[0m \u001b[0;34m\u001b[0m\u001b[0m\n\u001b[1;32m      3\u001b[0m \u001b[0mclf_lr\u001b[0m \u001b[0;34m=\u001b[0m \u001b[0mLogisticRegression\u001b[0m\u001b[0;34m(\u001b[0m\u001b[0mn_jobs\u001b[0m\u001b[0;34m=\u001b[0m\u001b[0;34m-\u001b[0m\u001b[0;36m1\u001b[0m\u001b[0;34m)\u001b[0m\u001b[0;34m\u001b[0m\u001b[0m\n\u001b[0;32m----> 4\u001b[0;31m \u001b[0mclf_lr\u001b[0m\u001b[0;34m.\u001b[0m\u001b[0mfit\u001b[0m\u001b[0;34m(\u001b[0m\u001b[0mfeatures_train_concat\u001b[0m\u001b[0;34m,\u001b[0m\u001b[0mxtrain_glove\u001b[0m\u001b[0;34m)\u001b[0m\u001b[0;34m\u001b[0m\u001b[0m\n\u001b[0m\u001b[1;32m      5\u001b[0m \u001b[0;34m\u001b[0m\u001b[0m\n\u001b[1;32m      6\u001b[0m \u001b[0;32mdef\u001b[0m \u001b[0mmy_scorer_reverse\u001b[0m\u001b[0;34m(\u001b[0m\u001b[0mground_truth\u001b[0m\u001b[0;34m,\u001b[0m \u001b[0mpredictions\u001b[0m\u001b[0;34m)\u001b[0m\u001b[0;34m:\u001b[0m\u001b[0;34m\u001b[0m\u001b[0m\n",
      "\u001b[0;32m/anaconda3/lib/python3.7/site-packages/sklearn/linear_model/logistic.py\u001b[0m in \u001b[0;36mfit\u001b[0;34m(self, X, y, sample_weight)\u001b[0m\n\u001b[1;32m   1218\u001b[0m \u001b[0;34m\u001b[0m\u001b[0m\n\u001b[1;32m   1219\u001b[0m         X, y = check_X_y(X, y, accept_sparse='csr', dtype=_dtype,\n\u001b[0;32m-> 1220\u001b[0;31m                          order=\"C\")\n\u001b[0m\u001b[1;32m   1221\u001b[0m         \u001b[0mcheck_classification_targets\u001b[0m\u001b[0;34m(\u001b[0m\u001b[0my\u001b[0m\u001b[0;34m)\u001b[0m\u001b[0;34m\u001b[0m\u001b[0m\n\u001b[1;32m   1222\u001b[0m         \u001b[0mself\u001b[0m\u001b[0;34m.\u001b[0m\u001b[0mclasses_\u001b[0m \u001b[0;34m=\u001b[0m \u001b[0mnp\u001b[0m\u001b[0;34m.\u001b[0m\u001b[0munique\u001b[0m\u001b[0;34m(\u001b[0m\u001b[0my\u001b[0m\u001b[0;34m)\u001b[0m\u001b[0;34m\u001b[0m\u001b[0m\n",
      "\u001b[0;32m/anaconda3/lib/python3.7/site-packages/sklearn/utils/validation.py\u001b[0m in \u001b[0;36mcheck_X_y\u001b[0;34m(X, y, accept_sparse, dtype, order, copy, force_all_finite, ensure_2d, allow_nd, multi_output, ensure_min_samples, ensure_min_features, y_numeric, warn_on_dtype, estimator)\u001b[0m\n\u001b[1;32m    576\u001b[0m                         dtype=None)\n\u001b[1;32m    577\u001b[0m     \u001b[0;32melse\u001b[0m\u001b[0;34m:\u001b[0m\u001b[0;34m\u001b[0m\u001b[0m\n\u001b[0;32m--> 578\u001b[0;31m         \u001b[0my\u001b[0m \u001b[0;34m=\u001b[0m \u001b[0mcolumn_or_1d\u001b[0m\u001b[0;34m(\u001b[0m\u001b[0my\u001b[0m\u001b[0;34m,\u001b[0m \u001b[0mwarn\u001b[0m\u001b[0;34m=\u001b[0m\u001b[0;32mTrue\u001b[0m\u001b[0;34m)\u001b[0m\u001b[0;34m\u001b[0m\u001b[0m\n\u001b[0m\u001b[1;32m    579\u001b[0m         \u001b[0m_assert_all_finite\u001b[0m\u001b[0;34m(\u001b[0m\u001b[0my\u001b[0m\u001b[0;34m)\u001b[0m\u001b[0;34m\u001b[0m\u001b[0m\n\u001b[1;32m    580\u001b[0m     \u001b[0;32mif\u001b[0m \u001b[0my_numeric\u001b[0m \u001b[0;32mand\u001b[0m \u001b[0my\u001b[0m\u001b[0;34m.\u001b[0m\u001b[0mdtype\u001b[0m\u001b[0;34m.\u001b[0m\u001b[0mkind\u001b[0m \u001b[0;34m==\u001b[0m \u001b[0;34m'O'\u001b[0m\u001b[0;34m:\u001b[0m\u001b[0;34m\u001b[0m\u001b[0m\n",
      "\u001b[0;32m/anaconda3/lib/python3.7/site-packages/sklearn/utils/validation.py\u001b[0m in \u001b[0;36mcolumn_or_1d\u001b[0;34m(y, warn)\u001b[0m\n\u001b[1;32m    612\u001b[0m         \u001b[0;32mreturn\u001b[0m \u001b[0mnp\u001b[0m\u001b[0;34m.\u001b[0m\u001b[0mravel\u001b[0m\u001b[0;34m(\u001b[0m\u001b[0my\u001b[0m\u001b[0;34m)\u001b[0m\u001b[0;34m\u001b[0m\u001b[0m\n\u001b[1;32m    613\u001b[0m \u001b[0;34m\u001b[0m\u001b[0m\n\u001b[0;32m--> 614\u001b[0;31m     \u001b[0;32mraise\u001b[0m \u001b[0mValueError\u001b[0m\u001b[0;34m(\u001b[0m\u001b[0;34m\"bad input shape {0}\"\u001b[0m\u001b[0;34m.\u001b[0m\u001b[0mformat\u001b[0m\u001b[0;34m(\u001b[0m\u001b[0mshape\u001b[0m\u001b[0;34m)\u001b[0m\u001b[0;34m)\u001b[0m\u001b[0;34m\u001b[0m\u001b[0m\n\u001b[0m\u001b[1;32m    615\u001b[0m \u001b[0;34m\u001b[0m\u001b[0m\n\u001b[1;32m    616\u001b[0m \u001b[0;34m\u001b[0m\u001b[0m\n",
      "\u001b[0;31mValueError\u001b[0m: bad input shape (10000, 300)"
     ]
    }
   ],
   "source": [
    "from sklearn.linear_model import LogisticRegression\n",
    "\n",
    "clf_lr = LogisticRegression(n_jobs=-1)\n",
    "clf_lr.fit(features_train_concat,xtrain_glove)\n",
    "\n",
    "def my_scorer_reverse(ground_truth, predictions):\n",
    "    score = 0.0\n",
    "    length = len(ground_truth)\n",
    "    for i in range (length):\n",
    "        dist = []\n",
    "        current_query = ground_truth[i]\n",
    "        for j in range(length):\n",
    "            dist.append((np.linalg.norm(predictions[j]-current_query),j))\n",
    "        dist.sort()\n",
    "        rank_list = [v for (k,v) in dist[:20]]\n",
    "        if i in rank_list:\n",
    "            rank = rank_list.index(i)\n",
    "            score = score + (21.0-rank)/20.0\n",
    "    return score/length\n",
    "\n",
    "my_scorer_reverse = make_scorer(my_scorer_reverse, greater_is_better=True)\n",
    "scores = cross_val_score(clf_lr, features_train_concat,xtrain_glove, cv=5,scoring=my_scorer_reverse)\n",
    "print(scores.mean())"
   ]
  },
  {
   "cell_type": "code",
   "execution_count": 28,
   "metadata": {},
   "outputs": [
    {
     "name": "stdout",
     "output_type": "stream",
     "text": [
      "0.564239999999998\n"
     ]
    }
   ],
   "source": [
    "clf_lr = LinearRegression(n_jobs=-1)\n",
    "clf_lr.fit(features_train_concat,xtrain_glove)\n",
    "\n",
    "\n",
    "# lr_predict_reverse = clf_lr.predict(features_test_concat)\n",
    "\n",
    "# rank_list = []\n",
    "# for i in range (2000):\n",
    "#     current_query = xtest_glove[i]\n",
    "#     dist = []\n",
    "#     for j in range(2000):\n",
    "#         dist.append((np.linalg.norm(lr_predict_reverse[j]-current_query),j))\n",
    "#     dist.sort()\n",
    "#     rank_list.append([v for (k,v) in dist[:20]])\n",
    "\n",
    "# def mergeTwenty(lst):\n",
    "#     result = str(lst[0])+\".jpg\"\n",
    "#     for i in range(1,len(lst)):\n",
    "#         result += \" \" + str(lst[i]) + \".jpg\"\n",
    "#     return result\n",
    "\n",
    "# with open('linearR_std_reverse.csv', 'w', newline='') as csvfile:\n",
    "#     csv_writer = csv.writer(csvfile, delimiter=',')\n",
    "#     csv_writer.writerow([\"Descritpion_ID\", \"Top_20_Image_IDs\"])\n",
    "#     for i in range(len(rank_list)):\n",
    "#         csv_writer.writerow([str(i) + \".txt\", mergeTwenty(rank_list[i])])\n",
    "\n",
    "def my_scorer_reverse(ground_truth, predictions):\n",
    "    score = 0.0\n",
    "    length = len(ground_truth)\n",
    "    for i in range (length):\n",
    "        dist = []\n",
    "        current_query = ground_truth[i]\n",
    "        for j in range(length):\n",
    "            dist.append((np.linalg.norm(predictions[j]-current_query),j))\n",
    "        dist.sort()\n",
    "        rank_list = [v for (k,v) in dist[:20]]\n",
    "        if i in rank_list:\n",
    "            rank = rank_list.index(i)\n",
    "            score = score + (21.0-rank)/20.0\n",
    "    return score/length\n",
    "\n",
    "my_scorer_reverse = make_scorer(my_scorer_reverse, greater_is_better=True)\n",
    "scores = cross_val_score(clf_lr, features_train_concat,xtrain_glove, cv=5,scoring=my_scorer_reverse)\n",
    "print(scores.mean())"
   ]
  },
  {
   "cell_type": "code",
   "execution_count": 29,
   "metadata": {},
   "outputs": [],
   "source": [
    "features_test_concat = np.concatenate((np.array(features_test_2048),np.array(features_test_1000)), axis=1)\n",
    "features_test_concat = np.concatenate((features_test_concat, np.array(test_tags)), axis=1)\n",
    "features_test_concat = StandardScaler().fit_transform(features_test_concat)"
   ]
  },
  {
   "cell_type": "code",
   "execution_count": 30,
   "metadata": {},
   "outputs": [
    {
     "name": "stdout",
     "output_type": "stream",
     "text": [
      "[[-0.23401783  1.39268043 -0.82493173 ... -0.24929769  1.57460707\n",
      "   1.21773325]\n",
      " [-0.44294778  1.45647002  1.12924375 ... -0.24929769 -0.51405711\n",
      "  -0.34727543]\n",
      " [ 1.65110503 -0.86512397 -0.74672062 ... -0.24929769 -0.51405711\n",
      "  -0.34727543]\n",
      " ...\n",
      " [-0.53760116 -0.37934819 -0.11341225 ... -0.24929769 -0.51405711\n",
      "  -0.34727543]\n",
      " [ 0.36246406 -0.78344112 -0.81850142 ... -0.24929769 -0.51405711\n",
      "  -0.34727543]\n",
      " [-0.86554779  1.21273214 -0.10830593 ... -0.24929769  1.08315667\n",
      "  -0.34727543]]\n"
     ]
    }
   ],
   "source": [
    "print (features_test_concat)"
   ]
  },
  {
   "cell_type": "code",
   "execution_count": 34,
   "metadata": {},
   "outputs": [],
   "source": [
    "lr_predict_reverse = clf_lr.predict(features_test_concat)\n",
    "\n",
    "\n",
    "\n",
    "rank_list = []\n",
    "for i in range (2000):\n",
    "    current_query = xtest_glove[i]\n",
    "    dist = []\n",
    "    for j in range(2000):\n",
    "        dist.append((np.linalg.norm(lr_predict_reverse[j]-current_query),j))\n",
    "    dist.sort()\n",
    "    rank_list.append([v for (k,v) in dist[:20]])\n",
    "\n",
    "def mergeTwenty(lst):\n",
    "    result = str(lst[0])+\".jpg\"\n",
    "    for i in range(1,len(lst)):\n",
    "        result += \" \" + str(lst[i]) + \".jpg\"\n",
    "    return result\n",
    "\n",
    "with open('linearR_std_reverse.csv', 'w', newline='') as csvfile:\n",
    "    csv_writer = csv.writer(csvfile, delimiter=',')\n",
    "    csv_writer.writerow([\"Descritpion_ID\", \"Top_20_Image_IDs\"])\n",
    "    for i in range(len(rank_list)):\n",
    "        csv_writer.writerow([str(i) + \".txt\", mergeTwenty(rank_list[i])])"
   ]
  },
  {
   "cell_type": "code",
   "execution_count": 33,
   "metadata": {},
   "outputs": [
    {
     "name": "stdout",
     "output_type": "stream",
     "text": [
      "2.1822255803272128e-05\n",
      "-0.03950096294283867\n"
     ]
    }
   ],
   "source": [
    "print(xtest_glove[0][0])\n",
    "print(xtest_glove[1][0])"
   ]
  },
  {
   "cell_type": "code",
   "execution_count": 38,
   "metadata": {},
   "outputs": [],
   "source": [
    "rank_list = []\n",
    "for i in range (2):\n",
    "    current_query = xtest_glove[i]\n",
    "    dist = []\n",
    "    for j in range(2000):\n",
    "        dist.append((np.linalg.norm(lr_predict_reverse[j]-current_query),j))\n",
    "    rank_list.append(dist)"
   ]
  },
  {
   "cell_type": "code",
   "execution_count": 40,
   "metadata": {},
   "outputs": [
    {
     "name": "stdout",
     "output_type": "stream",
     "text": [
      "[(6063.846914288767, 0), (6137.761288000624, 1), (6410.282694850227, 2), (5249.765963469722, 3), (7769.853914525853, 4), (7213.273625559771, 5), (7409.5585550184305, 6), (8466.368211070378, 7), (7221.0072992937, 8), (7785.566193431518, 9), (6929.403529837654, 10), (6735.397511361993, 11), (8004.941031876703, 12), (5046.606510801163, 13), (9984.216070745792, 14), (6473.533981870391, 15), (8690.74687158556, 16), (6479.289264777016, 17), (10962.463843325688, 18), (5196.034910388163, 19), (7013.449027171948, 20), (6742.035147794993, 21), (7748.688857814173, 22), (7285.4891099515025, 23), (7176.938421090439, 24), (6586.127125518302, 25), (6797.262408010801, 26), (6535.006572911867, 27), (8135.7146958415115, 28), (7725.153644850838, 29), (11034.496687007912, 30), (7765.226591257152, 31), (8133.978559770079, 32), (9254.924899751028, 33), (7059.511496897138, 34), (7875.204607736954, 35), (6638.093452207155, 36), (7151.96104663333, 37), (7148.386082813891, 38), (6402.816717908674, 39), (5983.4395799193035, 40), (9565.800673760163, 41), (5666.320383441629, 42), (8032.564387859777, 43), (7770.375109515723, 44), (8129.957376300173, 45), (5313.074840684274, 46), (7596.700227377345, 47), (8961.233354475482, 48), (8267.437004934623, 49), (6763.554974724579, 50), (8096.340301792446, 51), (6488.197661135443, 52), (10307.092112922825, 53), (6050.261326156791, 54), (7298.626893680187, 55), (6096.106980918105, 56), (10163.532378602169, 57), (7291.643402091067, 58), (11909.939863357067, 59), (5600.880977741069, 60), (9068.739536200246, 61), (9179.613201570803, 62), (8067.664732032765, 63), (6126.383424597783, 64), (8644.783746205798, 65), (7912.460714707374, 66), (8778.073410868476, 67), (5495.621005138529, 68), (7490.965029159752, 69), (6921.474035775477, 70), (6158.194442976633, 71), (6516.313066412989, 72), (6078.9159255187005, 73), (6118.781828233321, 74), (7885.840525011657, 75), (6653.312947469823, 76), (5964.642360053008, 77), (6384.776037026757, 78), (7813.497622141444, 79), (6286.659483039814, 80), (6681.8779825193915, 81), (6764.85247007163, 82), (7380.973776608846, 83), (7242.576590812294, 84), (7703.051491568709, 85), (5627.662201976685, 86), (6928.032213638011, 87), (7059.983581726781, 88), (6348.19002962265, 89), (8359.650165005212, 90), (10777.366904071045, 91), (7330.670388609913, 92), (7525.082062197863, 93), (6279.769110721128, 94), (5028.1636925418625, 95), (7435.433573689705, 96), (8054.559979072982, 97), (6667.897291209052, 98), (8892.65895214186, 99), (9532.004538081319, 100), (7123.877494746991, 101), (6391.537095452589, 102), (6985.261843441904, 103), (5942.860569265303, 104), (6817.632943804696, 105), (6597.17313882018, 106), (6726.774647666753, 107), (5916.943000052192, 108), (8568.46361821873, 109), (5680.681597956758, 110), (6105.70492246387, 111), (6176.432348399502, 112), (7501.70221883029, 113), (7876.726729441453, 114), (7837.79303057338, 115), (6784.768607841112, 116), (6842.963845696933, 117), (7186.450851223445, 118), (6177.553452461554, 119), (6051.730516201887, 120), (8228.822415300678, 121), (9980.486191678274, 122), (6301.211225263834, 123), (7019.242967149911, 124), (6878.629510780382, 125), (8661.661599550445, 126), (5885.17930549329, 127), (5783.202075510091, 128), (7562.157855815904, 129), (9987.336731198307, 130), (7132.748518208006, 131), (5507.746552925533, 132), (8017.334136542638, 133), (6159.001676814717, 134), (9427.364962667361, 135), (10410.437287512454, 136), (6677.830378483797, 137), (8745.967091522054, 138), (6387.149944911019, 139), (6625.081497899936, 140), (6670.551679578401, 141), (6319.067452869065, 142), (7880.416047785368, 143), (11134.220703751758, 144), (10136.255082867252, 145), (8648.203897263254, 146), (6902.5810737300135, 147), (7539.882661285642, 148), (6615.826049182059, 149), (5928.691300664777, 150), (7178.781374227078, 151), (7121.256364756412, 152), (5762.3998709672, 153), (8588.699596411583, 154), (6610.145689923406, 155), (9107.316968545229, 156), (7250.0881533448155, 157), (7171.218522996337, 158), (6814.888583634841, 159), (8669.375200657269, 160), (6350.85726519427, 161), (6855.658838526809, 162), (6698.94429114081, 163), (5468.983115702022, 164), (7701.295601470521, 165), (7096.905660053164, 166), (5551.141054211988, 167), (8165.2315387420595, 168), (7517.346913230366, 169), (8272.941949732945, 170), (9087.795575297023, 171), (5840.519447862698, 172), (8441.206062632958, 173), (5844.436151174157, 174), (6913.37044158098, 175), (6303.2725019046, 176), (7404.259815276561, 177), (5644.121067901479, 178), (7299.101173292863, 179), (7364.7915842419125, 180), (6938.066526745737, 181), (6253.139564205915, 182), (8502.139505382886, 183), (5951.312738793921, 184), (8134.6480430493775, 185), (6962.909216362061, 186), (6205.785431306203, 187), (5792.315043751122, 188), (6851.807188876107, 189), (7443.030438165284, 190), (6819.779099492625, 191), (6041.641864441082, 192), (5823.730367899585, 193), (7163.707356708559, 194), (6717.056264132858, 195), (8614.649193729532, 196), (8924.514276058251, 197), (6381.748012107735, 198), (4899.920248428834, 199), (7844.210931828185, 200), (7004.986352349631, 201), (8716.745821742663, 202), (8373.138390412269, 203), (7391.281964323296, 204), (9624.603346881398, 205), (6900.264560381053, 206), (7614.559621576197, 207), (6899.296663977277, 208), (7087.112904133155, 209), (9341.591768024871, 210), (6191.796715586906, 211), (10226.160694419648, 212), (6284.539867819884, 213), (7152.925601679549, 214), (8683.361715224191, 215), (5521.237799219247, 216), (9084.879726570736, 217), (6614.340463287103, 218), (6664.726494141218, 219), (6848.409504096773, 220), (7635.933966872996, 221), (6350.722533182516, 222), (8315.81366431969, 223), (5693.440727565056, 224), (8317.828310723706, 225), (8149.096971436933, 226), (7360.988083906194, 227), (8044.206689754479, 228), (6909.657700998929, 229), (8123.246327985265, 230), (6741.208589882559, 231), (7313.9742093041605, 232), (5989.378220252999, 233), (7325.175317575732, 234), (7360.2736826257, 235), (6486.698785388081, 236), (8864.9062057968, 237), (9395.892888594666, 238), (10416.65048880357, 239), (5949.338359856354, 240), (7517.084965707675, 241), (7028.548574768788, 242), (10674.808392046036, 243), (6513.86723010081, 244), (8306.557278971051, 245), (7489.349819066435, 246), (7160.805309949311, 247), (8358.280576933885, 248), (5140.676740863696, 249), (9215.218504376502, 250), (8658.781021092296, 251), (6819.637505236527, 252), (6176.562349949019, 253), (12467.164923675837, 254), (7041.0131513758015, 255), (6783.562242305107, 256), (8740.573017087494, 257), (7804.87176189055, 258), (8373.776185746137, 259), (6929.67947372349, 260), (10088.82341556759, 261), (7126.997531112218, 262), (6771.415071939379, 263), (10720.689495197199, 264), (6373.8136158700245, 265), (7690.61890562158, 266), (5172.838830875773, 267), (5551.252613470775, 268), (7552.1617380970265, 269), (8476.248576984992, 270), (9060.649746221114, 271), (6699.001604214051, 272), (6994.999383865818, 273), (6062.00029986522, 274), (8043.785941850833, 275), (8944.831383988318, 276), (6996.7034571815375, 277), (6010.285812623916, 278), (7273.20184555415, 279), (9309.72770143637, 280), (8897.789284533974, 281), (6292.016932013858, 282), (6906.0797761357735, 283), (6762.449049831533, 284), (7255.039394781068, 285), (9283.077746574938, 286), (10266.008606653368, 287), (7121.853986505992, 288), (6234.70142030665, 289), (5247.090263740249, 290), (6885.942965388381, 291), (6311.38226891123, 292), (5268.21869654682, 293), (5061.301380821684, 294), (8505.141862274679, 295), (9722.644396015008, 296), (7708.134241949878, 297), (6617.815675407388, 298), (6429.737047934513, 299), (9154.140565290976, 300), (7564.640670678601, 301), (8352.126977923244, 302), (7924.583629788043, 303), (5521.95536196463, 304), (5322.811016708952, 305), (7934.0127372349525, 306), (6164.223363772823, 307), (6126.427698194417, 308), (5719.904136454162, 309), (6653.573163014106, 310), (10562.101735621183, 311), (4018.6241371549827, 312), (7055.419684859465, 313), (8946.168157972255, 314), (7606.512548807065, 315), (7101.466091402415, 316), (7249.684289950959, 317), (6720.815614597414, 318), (6474.875210828019, 319), (10420.347615631837, 320), (6754.590297777953, 321), (6924.7861336045125, 322), (6486.101764636264, 323), (6662.154061408766, 324), (7097.183402090512, 325), (7040.7927993513995, 326), (6769.295011285318, 327), (6108.148270686067, 328), (5920.864721332484, 329), (7975.742473277561, 330), (8552.862287407477, 331), (8495.363246135379, 332), (8438.004062551046, 333), (6614.425534157662, 334), (6484.186236031175, 335), (7527.4354903962085, 336), (6953.151629333111, 337), (6468.728322598991, 338), (7271.12638661138, 339), (9854.267250739704, 340), (8626.915930606285, 341), (5457.038848362307, 342), (7627.292985786991, 343), (6906.652883439239, 344), (7421.4533516868605, 345), (6899.55450937839, 346), (9842.435335457578, 347), (7093.820060726507, 348), (7999.507138216407, 349), (7721.083467217098, 350), (6813.254595300191, 351), (5687.371941210525, 352), (7187.530117426918, 353), (5613.5525651654525, 354), (9065.120054270152, 355), (5716.821147020858, 356), (8491.520527838988, 357), (6140.607549305399, 358), (6661.9902532408005, 359), (5150.38761366109, 360), (6270.952352526766, 361), (7765.28968550164, 362), (8108.612342161434, 363), (6876.040724522355, 364), (8930.104397375482, 365), (7432.008838330699, 366), (5872.057071638839, 367), (6896.4528181689875, 368), (11042.197705223416, 369), (5573.509932282451, 370), (6441.159029147308, 371), (6379.546168411262, 372), (8532.905184947595, 373), (7830.258634899764, 374), (8033.841242650979, 375), (10613.50944869069, 376), (7247.693557335704, 377), (9601.185113177973, 378), (5974.375116986705, 379), (7634.773356368071, 380), (9914.826451224482, 381), (9306.470996259653, 382), (6726.541998591498, 383), (8822.45170938307, 384), (7876.510303396609, 385), (7677.546658303338, 386), (7292.447463957014, 387), (9229.64505820537, 388), (6590.3974330245055, 389), (9521.402538805809, 390), (9249.67907784519, 391), (8952.452538829744, 392), (4976.480744189331, 393), (8197.870722733775, 394), (6421.051814707708, 395), (8618.456787130153, 396), (8527.06308589988, 397), (6520.765111654047, 398), (8090.042778086984, 399), (8090.875155978435, 400), (6275.146871104823, 401), (6887.324470081602, 402), (8357.507006196181, 403), (7504.498941191962, 404), (9234.246282772043, 405), (5936.742832960337, 406), (11491.350724947748, 407), (9484.787014550227, 408), (8794.089846875311, 409), (7315.636934225285, 410), (8965.206422387366, 411), (7762.682908831341, 412), (6266.05854386886, 413), (8879.238420545948, 414), (7433.940606710971, 415), (7052.132300166331, 416), (7257.408860229317, 417), (6804.16526799729, 418), (5225.815256804634, 419), (6575.663102004213, 420), (9081.847361627339, 421), (10895.090018416655, 422), (6261.67810015594, 423), (5208.701098166937, 424), (7287.233390673801, 425), (7751.136684437352, 426), (6891.8330851891915, 427), (8546.38710847358, 428), (7992.861631353945, 429), (5949.320847974225, 430), (7166.680151588701, 431), (9029.245392143699, 432), (9278.19587000612, 433), (7719.647106958504, 434), (5949.203983737381, 435), (5834.666425971685, 436), (8977.771130398833, 437), (5889.731452907155, 438), (8244.20271296419, 439), (8324.085350183715, 440), (7575.284889448851, 441), (7160.75238495224, 442), (8393.051523216942, 443), (5542.428135960374, 444), (7130.896659362831, 445), (6660.054724617515, 446), (5637.903954452746, 447), (7759.67862216738, 448), (8455.130491435903, 449), (6805.0460279333765, 450), (6073.243737019728, 451), (8547.037049932596, 452), (5357.964729397397, 453), (5650.691748201072, 454), (9390.87525469222, 455), (9080.509331263882, 456), (9808.998593701876, 457), (6581.0038317600765, 458), (6066.251572457227, 459), (9849.97540719815, 460), (6965.277502311393, 461), (5057.165459662293, 462), (8283.000542427617, 463), (10590.16919522336, 464), (7564.564363299595, 465), (7695.577267037448, 466), (6464.173906751932, 467), (8239.583306052837, 468), (6348.080377562629, 469), (6536.372454652418, 470), (5841.445721387396, 471), (5053.728817799562, 472), (5281.0547865042445, 473), (6744.117668373649, 474), (6769.9708255873375, 475), (5782.724338141764, 476), (7311.904235268853, 477), (8131.200610568342, 478), (7836.123051506817, 479), (8692.240117099225, 480), (7383.669222404421, 481), (7939.097441414715, 482), (6452.103984959255, 483), (5768.555361761286, 484), (6273.66158449199, 485), (8357.543581318007, 486), (6611.0477631699105, 487), (7282.932814770022, 488), (8570.640552844423, 489), (7079.693068565342, 490), (6994.578379927925, 491), (6484.448467356988, 492), (7839.620648946734, 493), (9922.299027300107, 494), (9101.232873949755, 495), (5258.131635737515, 496), (6534.167943674529, 497), (8694.421704621054, 498), (8547.612779584555, 499), (7233.88224085329, 500), (9227.567469733545, 501), (6608.211754777857, 502), (7770.355429193494, 503), (6422.257998295887, 504), (6119.7639115905995, 505), (5950.576629740464, 506), (8475.37717523549, 507), (8711.852796079322, 508), (9422.296766517942, 509), (5775.74613862294, 510), (7296.483544823079, 511), (5439.524179578314, 512), (6836.667308786309, 513), (7570.208327450753, 514), (8474.691795871258, 515), (7506.430361349308, 516), (9214.230605555826, 517), (7398.201248374889, 518), (8434.183613456891, 519), (6538.7560581451635, 520), (7792.100803159432, 521), (6953.227556833933, 522), (5769.777577002025, 523), (6730.566491937708, 524), (5936.299508991004, 525), (7326.575029292211, 526), (7175.647041380447, 527), (7229.460522080321, 528), (9532.169910869914, 529), (8617.854862818207, 530), (6721.307261865211, 531), (6821.272231763198, 532), (5795.090944245602, 533), (7961.424919339946, 534), (8424.937379023202, 535), (6769.451031125717, 536), (5286.828162580828, 537), (8443.691788568807, 538), (5928.15685807826, 539), (5574.725015567132, 540), (8998.750001629911, 541), (9627.72539045459, 542), (6784.803716902072, 543), (7567.885098479842, 544), (8469.586795414623, 545), (6774.73587910916, 546), (8238.997355388881, 547), (6343.911954439648, 548), (5303.823551239909, 549), (8995.656197236132, 550), (7618.327258207761, 551), (8757.92172330842, 552), (10126.792128068584, 553), (5919.505209184191, 554), (8099.392710547066, 555), (7075.869648835132, 556), (9101.164616687625, 557), (7708.622298216943, 558), (5926.230663838115, 559), (6212.30751069895, 560), (5378.289132173743, 561), (7176.250451206324, 562), (5198.625016083364, 563), (6018.6718873594455, 564), (7294.735365543038, 565), (6910.8164929207305, 566), (7768.621958041367, 567), (5883.2479421810085, 568), (6776.4579660462805, 569), (6321.263232700603, 570), (8434.779955755645, 571), (7901.339956081837, 572), (7310.1289144549455, 573), (5515.107118961185, 574), (7694.491960334776, 575), (6368.904095113663, 576), (9487.883093160444, 577), (7383.414270608353, 578), (7382.401212380754, 579), (8467.874507628585, 580), (8143.014210126297, 581), (7909.31204689684, 582), (10038.412689580186, 583), (6510.004393361552, 584), (9861.168133479516, 585), (7399.787259446388, 586), (6965.418003074807, 587), (6030.933518251285, 588), (7607.287589831654, 589), (7166.111329894351, 590), (6606.007469228785, 591), (10134.162000112623, 592), (7919.945830167083, 593), (5864.465575750026, 594), (8512.484365335145, 595), (5506.1729185378335, 596), (5999.011586954158, 597), (9578.24303081023, 598), (7631.635712848636, 599), (5895.922156495253, 600), (8199.058661292234, 601), (7774.810153301446, 602), (8044.69358821121, 603), (6043.233249062379, 604), (7647.938156680195, 605), (6250.212044867143, 606), (5994.756296882406, 607), (5968.251287726804, 608), (6750.551732752463, 609), (6884.509401580252, 610), (7827.7952480907, 611), (8163.242630613829, 612), (7026.6967594242815, 613), (5394.021712828465, 614), (6927.13906379885, 615), (5639.532811233969, 616), (9652.962827080044, 617), (5827.120035520993, 618), (5517.186477583291, 619), (6187.5834356705745, 620), (7563.635562284196, 621), (7947.901630996732, 622), (8381.684415554597, 623), (5537.364390137651, 624), (6010.799029443283, 625), (8231.778399017536, 626), (6713.798723340391, 627), (6842.53017801616, 628), (5362.593197486409, 629), (8880.229021716928, 630), (9216.175325869832, 631), (6365.766059622412, 632), (4611.326196553516, 633), (7896.033461066928, 634), (6127.518166061966, 635), (7055.309002594901, 636), (6714.953824661939, 637), (6256.152725511621, 638), (7026.975858145787, 639), (8202.281028257401, 640), (6887.809548820875, 641), (6809.545050944071, 642), (6921.793776103396, 643), (9291.805656076825, 644), (6424.693684238736, 645), (5584.886568552, 646), (7436.198701653902, 647), (7527.148963309634, 648), (8738.398195835809, 649), (12315.356506554526, 650), (6175.02156388345, 651), (11133.369326078982, 652), (6958.064098683757, 653), (6979.0227974522495, 654), (6468.050870764053, 655), (6660.153177359051, 656), (5615.47707714518, 657), (7853.92298202977, 658), (4902.61273866235, 659), (7591.971882765247, 660), (11272.93477315326, 661), (9354.04734993756, 662), (6053.059220087039, 663), (6694.38610087739, 664), (5926.80991187803, 665), (6137.23334532288, 666), (9897.093135219104, 667), (8995.35944690353, 668), (6154.925135959221, 669), (6760.526592669205, 670), (7370.532897803711, 671), (8747.96948363355, 672), (5996.722327037867, 673), (4576.453730649935, 674), (8810.478513628304, 675), (6757.248694703557, 676), (10621.116411692552, 677), (6498.391659149013, 678), (6504.711309545487, 679), (7769.300316549033, 680), (6853.561881794474, 681), (8292.483783629448, 682), (6134.759287770212, 683), (7883.62756879158, 684), (7337.073662392515, 685), (6488.060649385604, 686), (6541.757621799575, 687), (7740.325749594087, 688), (8096.258056573705, 689), (7178.838795579689, 690), (6470.206927553975, 691), (6948.5738355427075, 692), (7932.0326122518445, 693), (9367.217231749184, 694), (7992.2201083974605, 695), (5078.400079872468, 696), (7128.034960671389, 697), (6428.78216227255, 698), (7275.767295211529, 699), (5840.763767567985, 700), (8015.4699593645855, 701), (6032.080292022757, 702), (8225.825341537377, 703), (7108.20418500825, 704), (7003.446271319143, 705), (7258.669496639036, 706), (6589.1374395690245, 707), (8246.133713857125, 708), (7594.085568902502, 709), (6318.118348399939, 710), (5476.8949450645805, 711), (8185.982176312078, 712), (7095.140217053887, 713), (6081.6165174641565, 714), (10568.648888263018, 715), (10550.264746934457, 716), (5894.240503714158, 717), (8377.500233857578, 718), (7431.755845163909, 719), (6683.049846673906, 720), (7417.823694383973, 721), (7881.738535858175, 722), (7046.019048032784, 723), (7566.031800479539, 724), (6901.634618365949, 725), (7051.669727600769, 726), (5675.878502322475, 727), (5981.803140058499, 728), (6975.174049437036, 729), (8727.110131819532, 730), (5660.84295224685, 731), (6657.937759930051, 732), (6944.839408686506, 733), (7273.635276292267, 734), (7783.874011134383, 735), (7548.845082290841, 736), (10874.52804150691, 737), (8250.062522621607, 738), (6274.626209280832, 739), (8700.55426105199, 740), (6910.104590529307, 741), (5796.407007039605, 742), (9392.768796035232, 743), (8428.911932217608, 744), (6859.93899797622, 745), (7479.995133056947, 746), (7330.535517770553, 747), (6278.06162230593, 748), (5234.320941381205, 749), (7406.707945190667, 750), (8722.19304719271, 751), (9631.943288033666, 752), (10389.865953472921, 753), (6308.506790267924, 754), (10132.04305009805, 755), (9213.891234980732, 756), (8570.395191618027, 757), (8501.04047290672, 758), (6781.404253604468, 759), (5357.902924953825, 760), (7720.50483836889, 761), (6612.446119746452, 762), (8109.602353623986, 763), (8549.471804816987, 764), (5987.326280445051, 765), (8997.66552613794, 766), (7916.661320643241, 767), (6689.806768136426, 768), (7963.126261457231, 769), (6983.909947434858, 770), (9702.755380424132, 771), (8805.836345418229, 772), (5977.585975479966, 773), (7571.819909328174, 774), (7136.581306797834, 775), (8058.644431221323, 776), (8277.111979298485, 777), (8787.240869383586, 778), (14512.863642979022, 779), (7387.717029519835, 780), (7030.1330447107775, 781), (5103.104913879686, 782), (7433.365028916246, 783), (7376.219234419603, 784), (5516.208508422858, 785), (10620.809993612476, 786), (9395.110219384133, 787), (7471.546514785913, 788), (7486.92037145224, 789), (7994.8444438088145, 790), (7702.199419144173, 791), (8921.616359895754, 792), (6691.065857040401, 793), (10648.478286180469, 794), (7017.827675811151, 795), (7269.739843631776, 796), (5588.452659020755, 797), (6802.531318545026, 798), (7160.093048287629, 799), (5839.434614135276, 800), (9603.265217279011, 801), (6334.211156062041, 802), (5781.238347519298, 803), (8982.046892794051, 804), (5423.2787438041405, 805), (8844.027618231083, 806), (9459.062671572065, 807), (5023.750897087734, 808), (8690.579142258637, 809), (8605.460774877682, 810), (6847.844352151525, 811), (8785.58180342288, 812), (8457.554588286363, 813), (7173.81073044061, 814), (6474.624148293721, 815), (5313.822632764653, 816), (7326.954255992785, 817), (6859.846342859506, 818), (8471.863288393963, 819), (7424.307589210764, 820), (7276.1977918142875, 821), (9867.761293068686, 822), (6133.635705742532, 823), (7713.446363956859, 824), (6471.581955254127, 825), (6994.98132356164, 826), (8018.93579867292, 827), (5990.6627565534, 828), (5543.645381241903, 829), (7784.515842427006, 830), (9305.375437104465, 831), (7103.199033019738, 832), (8580.278021288446, 833), (6475.032851906834, 834), (8543.10380708158, 835), (7377.819758252627, 836), (5653.292391801987, 837), (6482.13890902091, 838), (7653.554838878356, 839), (9462.60934099968, 840), (6732.1249850107515, 841), (8818.551542732346, 842), (8223.063557168849, 843), (5985.446041577531, 844), (8352.252241261238, 845), (5542.106678309497, 846), (6990.269692593377, 847), (6600.551602951109, 848), (4730.024779227456, 849), (8814.996622644177, 850), (7181.115327514523, 851), (6729.93234108849, 852), (5726.950187030253, 853), (6459.434926034707, 854), (5940.093114233545, 855), (7694.980979309927, 856), (7006.130625772557, 857), (6926.218214415587, 858), (10527.07292721453, 859), (6902.4655091636, 860), (6467.47297003121, 861), (6355.4850592143775, 862), (7144.029094888684, 863), (6342.260684960878, 864), (5612.686198808987, 865), (7663.865164441436, 866), (7884.875073072064, 867), (5127.770267060007, 868), (8833.97736254938, 869), (5386.559245677391, 870), (6358.757368357963, 871), (6077.967071981689, 872), (7140.915157951874, 873), (9398.38841303175, 874), (7854.239007893932, 875), (6082.307753091126, 876), (7787.661062525135, 877), (8567.949775560275, 878), (7812.270314388879, 879), (8016.190079326072, 880), (5703.019276580908, 881), (8243.619432009418, 882), (6488.308931100215, 883), (7956.424283661031, 884), (9771.181103837069, 885), (6984.740700683579, 886), (6318.975881308918, 887), (7783.793174559465, 888), (6623.416762529227, 889), (8211.1810334962, 890), (7158.33221054046, 891), (9695.940609308986, 892), (6484.394946237509, 893), (7437.585074515679, 894), (8687.70339801517, 895), (8328.390084266348, 896), (8160.425008511477, 897), (8503.215759573503, 898), (6568.38777433674, 899), (6760.813957638793, 900), (7141.492674605935, 901), (7162.842551848614, 902), (7233.530719522055, 903), (6248.709138727936, 904), (7916.768075799176, 905), (7333.344513713525, 906), (7108.123801022455, 907), (10260.534675406552, 908), (8149.054888620658, 909), (8689.442011260917, 910), (6809.06361206078, 911), (5056.488980721759, 912), (8537.169836048573, 913), (7049.0882091075, 914), (7780.014668545756, 915), (5418.658836614558, 916), (6516.705348586999, 917), (7839.360286390593, 918), (7027.565494119473, 919), (10190.292544304777, 920), (7223.984477050122, 921), (5134.353950414634, 922), (6731.347795012419, 923), (6088.19914214192, 924), (7079.686155489498, 925), (8942.825269093037, 926), (9332.094969390158, 927), (9082.271337681344, 928), (9673.036461541835, 929), (9080.937954349967, 930), (6680.6923105922715, 931), (7468.813913414423, 932), (9245.865869334955, 933), (7486.273588216825, 934), (6642.279903280587, 935), (6385.499505742995, 936), (8796.653673562072, 937), (7166.858856697515, 938), (7769.8391748143085, 939), (6720.709516165885, 940), (6094.725342659499, 941), (6679.302739373853, 942), (7487.847460702109, 943), (12049.70357167369, 944), (7059.41360237758, 945), (6693.36028035238, 946), (6469.437805105202, 947), (6737.873474570936, 948), (7909.547188018482, 949), (5569.72562868864, 950), (6547.953514067793, 951), (7472.918745339548, 952), (7817.550056133746, 953), (6823.133840781467, 954), (8002.399428726925, 955), (6253.759469056074, 956), (5484.637807448835, 957), (7361.21102291165, 958), (5293.1292827602465, 959), (5879.481319260324, 960), (6202.112654705061, 961), (6765.061829377832, 962), (5561.920406025024, 963), (6706.384453670316, 964), (6899.227500933552, 965), (7649.808198562585, 966), (9859.195863428009, 967), (6856.337876301584, 968), (7016.713236651116, 969), (9068.881398758313, 970), (6585.533060305696, 971), (6878.64610386833, 972), (5684.024998500123, 973), (8587.641284485546, 974), (6797.775837769447, 975), (6812.791108580066, 976), (8294.040824565425, 977), (5530.386221476512, 978), (6920.965301671456, 979), (8472.409702264573, 980), (5412.877586753759, 981), (7270.862898994778, 982), (7348.033152644429, 983), (7199.133846946394, 984), (4980.132474899322, 985), (7038.1748753259435, 986), (7587.560923457635, 987), (5599.303013598299, 988), (7434.655828422112, 989), (6821.475388953654, 990), (4619.349574434715, 991), (8430.472813143437, 992), (7436.245442060896, 993), (6146.346341429357, 994), (7160.671727925961, 995), (7652.848899606121, 996), (8262.492519250045, 997), (6938.725257363743, 998), (5849.40379900978, 999), (6296.768591617792, 1000), (7143.530945176434, 1001), (9313.415270263587, 1002), (7465.695821665026, 1003), (6625.987918167734, 1004), (6869.960642234089, 1005), (7656.78652763806, 1006), (6034.152850592641, 1007), (7456.735188809757, 1008), (6084.952504678174, 1009), (7294.280036093558, 1010), (5858.422295624237, 1011), (6661.803065832466, 1012), (6641.604235493738, 1013), (6743.545218500046, 1014), (6552.075222065724, 1015), (8486.182124114483, 1016), (6807.440172670504, 1017), (5814.759386413833, 1018), (7797.302648681237, 1019), (7692.522874571467, 1020), (6963.939237814798, 1021), (7278.247001567206, 1022), (6216.67076174093, 1023), (6621.658141389036, 1024), (5909.310284634747, 1025), (5449.119508934587, 1026), (6732.917493454851, 1027), (5387.988807001236, 1028), (9396.175518527501, 1029), (9714.862500170919, 1030), (5408.741682605135, 1031), (11585.477078281441, 1032), (6692.638876176088, 1033), (7271.342608519729, 1034), (8196.336624806008, 1035), (9200.361674261396, 1036), (6266.474385794472, 1037), (8593.334446705787, 1038), (6752.032265902575, 1039), (5644.442501909248, 1040), (8461.235998919181, 1041), (6800.016849675316, 1042), (8357.700008514394, 1043), (7245.6982406526795, 1044), (7029.708764547682, 1045), (8261.969833112138, 1046), (9850.110740625089, 1047), (5072.89274436986, 1048), (8902.186376005078, 1049), (7204.896544577793, 1050), (7161.414667674373, 1051), (6418.707838205091, 1052), (5764.676004482848, 1053), (9320.520316923205, 1054), (7691.683709190129, 1055), (6627.355792448261, 1056), (4890.907640967952, 1057), (8622.480324302727, 1058), (7528.3852268564515, 1059), (9991.885083979549, 1060), (8057.5809629026635, 1061), (7685.02654018466, 1062), (9624.177097451166, 1063), (6618.004792673733, 1064), (6002.890102668581, 1065), (4641.745736952215, 1066), (8181.821636001178, 1067), (8366.082938016718, 1068), (5237.353345422393, 1069), (5912.108476162251, 1070), (8845.211827551057, 1071), (8008.42619066324, 1072), (8051.787827212754, 1073), (7324.07644828719, 1074), (7835.291509827786, 1075), (6940.695195478844, 1076), (6191.559504737328, 1077), (8557.573654582662, 1078), (6806.957561843125, 1079), (8217.41630713937, 1080), (8320.637735129125, 1081), (7455.447172969072, 1082), (7902.394018871972, 1083), (5638.008250384991, 1084), (7616.273869738418, 1085), (6886.2782058618, 1086), (7178.650925687211, 1087), (4325.776828799516, 1088), (7598.588081730319, 1089), (7222.701566227086, 1090), (6640.756245382839, 1091), (6393.355600406557, 1092), (6297.134966825795, 1093), (6947.327732562208, 1094), (7022.024377219804, 1095), (10921.910487382906, 1096), (5969.50114359451, 1097), (9405.44316128628, 1098), (7803.6892063754785, 1099), (7226.924541701861, 1100), (6440.971781522859, 1101), (7383.8854864969735, 1102), (9139.537910413628, 1103), (8422.966287793732, 1104), (9403.325271408432, 1105), (5312.533632982599, 1106), (6755.9370715233445, 1107), (7477.263473784268, 1108), (7517.299565927334, 1109), (8349.110900918993, 1110), (6372.697381520891, 1111), (7292.051832565156, 1112), (6652.198212613429, 1113), (8654.965101717631, 1114), (6698.698148425374, 1115), (7623.900438971328, 1116), (5892.612715415877, 1117), (6814.632970138443, 1118), (5869.933225497329, 1119), (9333.781875244778, 1120), (10892.235359526327, 1121), (7894.50727204998, 1122), (6466.306016043945, 1123), (10006.632120670825, 1124), (11984.926672732316, 1125), (6340.563464561031, 1126), (6884.205516257525, 1127), (9535.844862143531, 1128), (11006.979791679303, 1129), (7467.116927829696, 1130), (5989.443304102062, 1131), (6425.339110823688, 1132), (8750.581196454836, 1133), (8035.280511680229, 1134), (7424.566290418809, 1135), (10522.514772466291, 1136), (7604.7377981840855, 1137), (6316.319704988647, 1138), (8643.47358644993, 1139), (10642.379605758606, 1140), (7529.974513972778, 1141), (7297.2634497323725, 1142), (8370.039091530203, 1143), (7369.26579737485, 1144), (7437.017332972707, 1145), (7485.049010357113, 1146), (7626.669343295055, 1147), (7902.041201382035, 1148), (6885.386263485066, 1149), (10459.275138078927, 1150), (5787.749233221189, 1151), (8932.514749694115, 1152), (6405.445622712972, 1153), (6372.967005110066, 1154), (7195.130700747187, 1155), (6000.750591569126, 1156), (8033.285985620548, 1157), (7483.393503950658, 1158), (7417.666992823309, 1159), (8060.029515780594, 1160), (5003.897391611026, 1161), (8369.812702516376, 1162), (4596.099091922251, 1163), (6361.763223332249, 1164), (6171.179529478083, 1165), (5296.966766674486, 1166), (8767.891589810779, 1167), (7826.8293584523435, 1168), (7682.59223899137, 1169), (5387.587694972471, 1170), (7235.226656882319, 1171), (7307.669538401292, 1172), (8256.305088308214, 1173), (7055.175217517417, 1174), (7269.5653587838815, 1175), (5984.531538397163, 1176), (8260.024254787477, 1177), (7983.678281732548, 1178), (5486.358045815713, 1179), (5893.352183932002, 1180), (5616.58288050468, 1181), (5826.069137620113, 1182), (6834.634800059104, 1183), (7442.061436160325, 1184), (7375.7308746021445, 1185), (5763.830959649636, 1186), (6863.425242350125, 1187), (8889.665350396084, 1188), (9560.621442800131, 1189), (8749.305583542186, 1190), (7092.63344409286, 1191), (6341.567650272095, 1192), (7586.027272692946, 1193), (9884.112729381986, 1194), (5755.2214777277595, 1195), (8342.511423691101, 1196), (6622.332480675027, 1197), (6207.197689338931, 1198), (7030.445025900779, 1199), (8798.97952323057, 1200), (7740.8527433299905, 1201), (6135.234663020453, 1202), (7278.451147681694, 1203), (7988.736776797799, 1204), (7491.131496946732, 1205), (7430.054507414276, 1206), (5751.129522510417, 1207), (7613.653523453647, 1208), (8064.627882762315, 1209), (6133.515317868728, 1210), (6722.702298372835, 1211), (6235.760552519471, 1212), (8796.02197339585, 1213), (11887.86584124308, 1214), (6048.386004825512, 1215), (8022.58484527901, 1216), (7752.254405261424, 1217), (6976.677426513626, 1218), (5031.682564638063, 1219), (7684.805338204035, 1220), (8234.888003927203, 1221), (7328.242974705363, 1222), (9723.174273377454, 1223), (8974.259965434205, 1224), (8647.682359726881, 1225), (7500.195249810452, 1226), (6184.564191498616, 1227), (6596.280853732176, 1228), (7949.291552707086, 1229), (10069.245928123728, 1230), (6643.409942138611, 1231), (6999.010680023145, 1232), (7036.449835680252, 1233), (5977.100220425609, 1234), (6936.737849313212, 1235), (7404.440803549269, 1236), (6730.498004845507, 1237), (7977.673854610569, 1238), (9589.91388955977, 1239), (7776.122435686858, 1240), (6319.609522044524, 1241), (6701.446978469691, 1242), (5237.22066878229, 1243), (7037.905780667206, 1244), (7196.390448750552, 1245), (6776.9165089714925, 1246), (7654.19829896166, 1247), (5325.398148438024, 1248), (7161.912263458232, 1249), (7173.2133452511835, 1250), (6344.467485472673, 1251), (8834.788978381463, 1252), (6972.69453035677, 1253), (5029.731090363667, 1254), (7725.888708503064, 1255), (7199.543253682806, 1256), (5734.002340324099, 1257), (6219.0664679086, 1258), (6984.257065636467, 1259), (10065.565546823984, 1260), (5985.425960049124, 1261), (5254.203767052424, 1262), (7947.676741745529, 1263), (5960.768278369677, 1264), (6675.545066911339, 1265), (6058.436356058532, 1266), (10140.911423515821, 1267), (8882.577705320222, 1268), (6290.18053535122, 1269), (7239.993462683031, 1270), (6420.9556091479935, 1271), (8825.570038232336, 1272), (7844.665136531941, 1273), (6745.144007367288, 1274), (7136.8820853014595, 1275), (7176.1422195799105, 1276), (6093.671905514298, 1277), (9370.824243256719, 1278), (9918.372928575438, 1279), (9259.490526892447, 1280), (4965.477809972226, 1281), (7340.76170119392, 1282), (6631.509694433548, 1283), (7440.254997717389, 1284), (8116.546420008563, 1285), (7837.063542465091, 1286), (6533.626612979506, 1287), (6660.485821090927, 1288), (7146.0132943990075, 1289), (7468.638769728209, 1290), (7532.843618142953, 1291), (6863.905856931848, 1292), (5299.671536665045, 1293), (7319.883009182939, 1294), (10019.326668385393, 1295), (6649.254160569804, 1296), (8206.601559616525, 1297), (6211.264130340459, 1298), (8386.608741372249, 1299), (7701.573725204043, 1300), (10028.223039637902, 1301), (6176.694573484937, 1302), (6877.019594349392, 1303), (9139.147311803268, 1304), (6915.450569588728, 1305), (5841.471493140156, 1306), (7851.090019441907, 1307), (7980.5248480639, 1308), (7531.359058832255, 1309), (10775.067318747546, 1310), (7702.7911540322875, 1311), (7814.473608091506, 1312), (9997.62018455314, 1313), (7293.557081201798, 1314), (5790.827576165954, 1315), (7720.548620482736, 1316), (5844.494735739825, 1317), (6565.708797893538, 1318), (9037.89990247696, 1319), (9817.348096163432, 1320), (6397.732088859952, 1321), (5717.1896352192, 1322), (10542.233400413774, 1323), (9932.743339358876, 1324), (8752.143414835404, 1325), (9836.1168930424, 1326), (7612.7888323499965, 1327), (7437.428098380964, 1328), (7880.131370904014, 1329), (5837.85720858255, 1330), (7451.1250512689185, 1331), (6054.812741106959, 1332), (8418.720682220333, 1333), (9820.668081133248, 1334), (6447.755817813928, 1335), (6677.412085794128, 1336), (6688.578282376302, 1337), (5153.669651001627, 1338), (6767.2868873756, 1339), (9219.931042920476, 1340), (10292.447565752922, 1341), (7537.431174317832, 1342), (9762.877396707176, 1343), (6366.639741243629, 1344), (7868.2239942207325, 1345), (7694.124762761658, 1346), (9241.41384601329, 1347), (8185.410724595501, 1348), (6520.296971066301, 1349), (9971.164870263916, 1350), (7280.47485308753, 1351), (7660.070215247532, 1352), (7868.381563658711, 1353), (7592.167345898601, 1354), (8550.904234620026, 1355), (6218.187576520593, 1356), (10086.43466588171, 1357), (9328.332081425522, 1358), (6445.723852754986, 1359), (7567.02127211633, 1360), (7048.015459859055, 1361), (7495.687788132831, 1362), (6747.1822560868, 1363), (7616.296691030166, 1364), (7958.174134036849, 1365), (5647.124188598092, 1366), (5895.850574965354, 1367), (8094.8584928372, 1368), (6519.728263711469, 1369), (8946.561360928272, 1370), (8158.760533321762, 1371), (9834.422192712807, 1372), (8745.831313199267, 1373), (7296.803594994024, 1374), (6207.987990663558, 1375), (5778.580806731126, 1376), (6925.715153357639, 1377), (7493.565278338188, 1378), (8488.607881433685, 1379), (5867.15260772895, 1380), (7644.177286135977, 1381), (6037.656857814986, 1382), (6009.847950229176, 1383), (4452.405583861293, 1384), (7412.385457880138, 1385), (7203.805155760638, 1386), (5825.853825114281, 1387), (7240.198775126963, 1388), (6168.959323117846, 1389), (7776.50435232608, 1390), (9257.652170934261, 1391), (7979.2478135482925, 1392), (7252.99527832903, 1393), (7908.773621424944, 1394), (8165.750239025249, 1395), (6448.853829279994, 1396), (5941.320999434833, 1397), (8301.982123137654, 1398), (6256.277957901888, 1399), (6686.58672939365, 1400), (7205.650266644411, 1401), (5535.372413177937, 1402), (9164.917237654778, 1403), (7317.465927445929, 1404), (8017.297246104873, 1405), (7137.442827856905, 1406), (6427.907443380607, 1407), (7998.247277889166, 1408), (5902.4666271162, 1409), (7884.270830361062, 1410), (6497.097301079926, 1411), (7972.32155319425, 1412), (6522.102588279257, 1413), (6922.801321668841, 1414), (7022.16370477747, 1415), (7366.142305036532, 1416), (8110.963924059858, 1417), (9179.50800455843, 1418), (6944.940093789004, 1419), (8195.21822867361, 1420), (6007.779766609462, 1421), (7901.576737791689, 1422), (7398.951868612843, 1423), (7152.292036960633, 1424), (9835.954545723569, 1425), (6265.156246627057, 1426), (5965.035252464176, 1427), (9469.683545483907, 1428), (8010.154688290407, 1429), (5683.272599043838, 1430), (10968.61289880949, 1431), (7970.520478845572, 1432), (6100.140498848062, 1433), (7328.569290157653, 1434), (6032.1006230558405, 1435), (8734.396603302966, 1436), (7149.720547294207, 1437), (9451.325191853532, 1438), (7453.806311232759, 1439), (8795.077003423588, 1440), (6505.918853236811, 1441), (9085.211438092223, 1442), (5812.526598946113, 1443), (8373.27142759527, 1444), (8302.65240751587, 1445), (5307.10173420697, 1446), (6584.5137000641125, 1447), (7915.955486945019, 1448), (7849.996667916526, 1449), (11777.960816917232, 1450), (6207.556168227553, 1451), (6106.214000944729, 1452), (5682.614844288729, 1453), (8640.540112652236, 1454), (5831.872499365177, 1455), (7831.387713798539, 1456), (6835.522468805611, 1457), (7127.225507306553, 1458), (7770.099210971218, 1459), (6808.195949622277, 1460), (8565.164812975761, 1461), (6250.230881754532, 1462), (11890.902074951046, 1463), (8307.570506376915, 1464), (5718.80129283737, 1465), (4946.3980156159005, 1466), (7896.651581420873, 1467), (7353.371858259451, 1468), (7153.734012301433, 1469), (7416.5119258328905, 1470), (5581.57292030796, 1471), (7080.773848186874, 1472), (7104.741741571942, 1473), (6228.341906066424, 1474), (5637.444207429404, 1475), (8953.090656609169, 1476), (8457.765739007844, 1477), (5850.858654748256, 1478), (5853.929459982964, 1479), (8170.972778920696, 1480), (9771.537783327776, 1481), (5115.4561825777, 1482), (8917.9131315965, 1483), (5340.210358466112, 1484), (8738.760074249562, 1485), (7659.385913804907, 1486), (6127.947950488969, 1487), (7086.392150027464, 1488), (7433.1611216207, 1489), (5400.948643863905, 1490), (6833.099058458859, 1491), (5785.103964516399, 1492), (8615.589378984278, 1493), (8696.115605933546, 1494), (6336.841843874404, 1495), (7560.48344642236, 1496), (8000.65296868698, 1497), (6871.589533979377, 1498), (7726.997596050565, 1499), (5186.785179768909, 1500), (5580.239343965559, 1501), (9624.134674451267, 1502), (7160.8099220790855, 1503), (7076.034646811746, 1504), (6795.661273791786, 1505), (8609.015526218604, 1506), (8044.707142374573, 1507), (7630.563335929076, 1508), (6531.353510856655, 1509), (5068.444547137334, 1510), (9884.340237693648, 1511), (7297.810446089816, 1512), (7545.497749674141, 1513), (6182.77698425432, 1514), (6488.656575874773, 1515), (7969.865969388047, 1516), (6458.50855231994, 1517), (8224.09070052557, 1518), (7746.291433977109, 1519), (8543.615300637004, 1520), (8937.513433096943, 1521), (7000.984374568849, 1522), (6094.351643511143, 1523), (8446.824610293666, 1524), (6691.503485587784, 1525), (8105.734476961202, 1526), (6727.450041188547, 1527), (12268.747222092812, 1528), (8386.642402784733, 1529), (5811.162537871966, 1530), (5817.354472171805, 1531), (7248.056745203886, 1532), (6251.2031940871375, 1533), (7792.277057803188, 1534), (6319.568065376121, 1535), (9664.861081431956, 1536), (8233.14312190586, 1537), (8703.356503449353, 1538), (7945.298086474908, 1539), (7651.8587018001535, 1540), (6350.931722777054, 1541), (7990.924341254632, 1542), (7523.63179728798, 1543), (6738.41024478724, 1544), (5422.870116022564, 1545), (7530.84027799449, 1546), (4328.478585698785, 1547), (7655.023885368581, 1548), (7482.81262286199, 1549), (8730.281595045699, 1550), (6104.306625412057, 1551), (9128.523544600517, 1552), (5705.616169314758, 1553), (6281.118103761588, 1554), (8331.950360626723, 1555), (6104.762337797369, 1556), (6939.502573333817, 1557), (5712.207000296847, 1558), (7740.5307053393735, 1559), (7656.823075628659, 1560), (5769.143920105958, 1561), (9390.02257437925, 1562), (9213.374199366226, 1563), (6402.151429462913, 1564), (5865.835542530898, 1565), (9723.30001800194, 1566), (8013.149362065682, 1567), (7362.152709827089, 1568), (6422.586429170852, 1569), (5105.741382607346, 1570), (8556.686886371142, 1571), (5399.215184423749, 1572), (7268.490955213793, 1573), (8180.386392600366, 1574), (7811.711152870085, 1575), (7792.229548311629, 1576), (7816.831414065831, 1577), (9313.420372200722, 1578), (9389.641095819004, 1579), (9901.340033178618, 1580), (5499.337524495511, 1581), (9523.080161878463, 1582), (5986.927581891789, 1583), (6387.359946247017, 1584), (8872.6944925233, 1585), (7788.963686907937, 1586), (9777.46348571566, 1587), (7289.037588085457, 1588), (8406.584860002622, 1589), (7230.5509152206005, 1590), (8912.129940686395, 1591), (6436.88153046078, 1592), (8390.351000645021, 1593), (6158.680574730355, 1594), (7264.487481361843, 1595), (7259.066183387158, 1596), (6229.312781873172, 1597), (7896.500472567914, 1598), (8129.270896702192, 1599), (5864.532557728318, 1600), (8276.376493354679, 1601), (8227.532543021707, 1602), (7377.517007183379, 1603), (7487.6834236003015, 1604), (7062.024113327074, 1605), (6454.460966799112, 1606), (7724.906505216996, 1607), (6766.6107444186055, 1608), (7261.941766936433, 1609), (8483.079022353626, 1610), (7310.083984535994, 1611), (10555.655299017935, 1612), (6645.958881226457, 1613), (7800.566985688863, 1614), (6805.584057504917, 1615), (7072.341643625378, 1616), (5916.431980920408, 1617), (4982.203903019519, 1618), (6582.257954227158, 1619), (8110.819333645867, 1620), (9084.669539919714, 1621), (8504.905325644779, 1622), (7903.274874851158, 1623), (6161.47210272084, 1624), (7482.231264233248, 1625), (7232.968116596648, 1626), (8274.761445181286, 1627), (5613.238753004376, 1628), (6070.9609494617025, 1629), (6193.4534200245635, 1630), (6439.338768472061, 1631), (7252.541201285575, 1632), (6999.930242301735, 1633), (7653.072360266386, 1634), (6230.9078468366915, 1635), (8926.81593478212, 1636), (9818.86956883803, 1637), (8068.627074704417, 1638), (7090.253917734414, 1639), (11455.21802398105, 1640), (8918.595852377728, 1641), (7604.450744757291, 1642), (6981.352391596219, 1643), (7009.231626355646, 1644), (7498.775508068005, 1645), (7741.561250664073, 1646), (6442.053099374286, 1647), (6213.977613508506, 1648), (6124.655231673249, 1649), (6604.464862471704, 1650), (7920.867265411633, 1651), (6859.6519683303395, 1652), (8074.57226796157, 1653), (8624.49304077964, 1654), (9735.32916334042, 1655), (6207.807368120072, 1656), (5882.665876191948, 1657), (5857.111024949796, 1658), (6880.995592068891, 1659), (7359.193137955909, 1660), (6366.735456444343, 1661), (6824.704481147621, 1662), (4795.988148965884, 1663), (8768.274490598274, 1664), (6800.21368110088, 1665), (6515.62494568511, 1666), (6880.162123434395, 1667), (6381.221872939673, 1668), (6414.246611321943, 1669), (9135.352373071333, 1670), (6932.313007097502, 1671), (7068.448922657461, 1672), (6178.756094217663, 1673), (6201.850668763153, 1674), (6204.848740957535, 1675), (8160.86532166978, 1676), (6269.8550244717, 1677), (9289.39291327314, 1678), (6496.285906046011, 1679), (6507.698022699981, 1680), (7371.071074224657, 1681), (6622.336431979933, 1682), (7329.834926104692, 1683), (6705.467247410265, 1684), (8450.157947261192, 1685), (6327.1214492428735, 1686), (6332.498230480525, 1687), (9780.889060713642, 1688), (10666.521047425062, 1689), (8482.86685385511, 1690), (7757.880266631699, 1691), (6411.806132857579, 1692), (6885.20819909496, 1693), (9278.354362069573, 1694), (7137.246740513055, 1695), (6866.500087820902, 1696), (8981.956140470551, 1697), (5551.547338563275, 1698), (6812.3487588657545, 1699), (6685.595876091897, 1700), (7503.44836014837, 1701), (7088.705038420761, 1702), (7973.020111408271, 1703), (6316.846805809537, 1704), (7241.396970270569, 1705), (7330.23252053517, 1706), (9629.181916042526, 1707), (9779.5159154636, 1708), (5758.72043467987, 1709), (7363.751213993453, 1710), (6755.962845444985, 1711), (9165.488468110821, 1712), (7021.914962606941, 1713), (8797.989111239827, 1714), (7597.57162594894, 1715), (8361.443029685568, 1716), (7199.84218843459, 1717), (6861.214714243244, 1718), (7837.171905541274, 1719), (6307.340312840061, 1720), (9078.085359425224, 1721), (8427.631670763521, 1722), (9102.042201928372, 1723), (9093.770516803654, 1724), (8327.50060428527, 1725), (8298.15971197733, 1726), (6711.316068154626, 1727), (7944.268786518695, 1728), (7075.362919662213, 1729), (8591.779914533723, 1730), (9097.903512703593, 1731), (8135.529262549744, 1732), (8532.232932501529, 1733), (9608.673625474583, 1734), (6938.514063708728, 1735), (6043.788789642298, 1736), (10712.507726837099, 1737), (9716.467266793046, 1738), (6195.822802168712, 1739), (8019.440276601643, 1740), (8809.828799605366, 1741), (9681.198090870492, 1742), (8166.941422821447, 1743), (9456.852956412573, 1744), (7357.516890176855, 1745), (9326.91063581753, 1746), (8335.456430555389, 1747), (8341.884517006556, 1748), (5898.127589315611, 1749), (7637.063691854755, 1750), (7829.258119968562, 1751), (7126.302919667356, 1752), (8089.897687302937, 1753), (8382.459169726226, 1754), (6830.123424788917, 1755), (8813.809276444537, 1756), (7947.992589944428, 1757), (9049.987256981902, 1758), (6585.820458436246, 1759), (8091.272803254499, 1760), (7782.226414570886, 1761), (10327.332601297845, 1762), (7142.717280638644, 1763), (7869.501512501058, 1764), (7015.350482627538, 1765), (7371.780991390169, 1766), (7294.3504360769575, 1767), (6158.237892810613, 1768), (8107.598836463479, 1769), (5539.62812020617, 1770), (7902.861761542881, 1771), (9920.603549232976, 1772), (7301.526118150705, 1773), (8266.892108936288, 1774), (7635.9300952214, 1775), (7588.832394933289, 1776), (7942.8412367414085, 1777), (6375.717396465567, 1778), (6402.592287029319, 1779), (6209.250387345823, 1780), (6747.329141790223, 1781), (6236.612109140037, 1782), (6856.406580735077, 1783), (6902.7384945452295, 1784), (8850.39497125324, 1785), (6702.885121994464, 1786), (7808.268214632383, 1787), (7072.206654303133, 1788), (7782.965308811168, 1789), (5892.426702289136, 1790), (7830.543587867041, 1791), (5969.402847732096, 1792), (7089.741569570813, 1793), (8096.619813508345, 1794), (6847.373397793561, 1795), (6772.660755722253, 1796), (8512.461785868636, 1797), (8751.93806365951, 1798), (7002.417215789731, 1799), (7385.757744893621, 1800), (8582.68284134391, 1801), (6134.295206123172, 1802), (6397.881783754624, 1803), (7125.063761419311, 1804), (6020.203766205782, 1805), (10198.619819762836, 1806), (8365.542196602952, 1807), (6268.3828427808585, 1808), (8483.155936397836, 1809), (8890.43121985641, 1810), (7042.660799316647, 1811), (9711.11011565703, 1812), (8227.022521363997, 1813), (7030.304213859913, 1814), (6541.021127538736, 1815), (6336.371492797494, 1816), (7136.504736776974, 1817), (7301.496711438001, 1818), (11022.73404191563, 1819), (9653.827505702886, 1820), (9247.236861196632, 1821), (5029.959347562743, 1822), (7733.86098004471, 1823), (7792.41373384278, 1824), (8780.72200495225, 1825), (6304.061764133181, 1826), (5770.140521703782, 1827), (8017.614561475362, 1828), (7403.3633353215155, 1829), (7173.991819542476, 1830), (8124.883104166343, 1831), (6795.554269411881, 1832), (6002.472855586161, 1833), (6282.673998286237, 1834), (9507.382898680535, 1835), (8017.560221440188, 1836), (5656.508481688682, 1837), (7171.974247591825, 1838), (7164.103830051412, 1839), (7701.398209426128, 1840), (7565.082445638051, 1841), (8003.877378940196, 1842), (5588.238926907477, 1843), (6752.779871987772, 1844), (6380.424616812199, 1845), (9889.982785051478, 1846), (5964.29248470387, 1847), (6738.447995502944, 1848), (8046.607022089452, 1849), (6032.941263191538, 1850), (8075.47630405208, 1851), (6336.1946134732325, 1852), (6233.086417434857, 1853), (6177.488665778396, 1854), (7701.890442553912, 1855), (6557.201379924222, 1856), (9026.177322007874, 1857), (6950.42517820306, 1858), (12424.951464704713, 1859), (8407.36168256264, 1860), (10287.48601064473, 1861), (5255.934286850462, 1862), (7512.905315030681, 1863), (6620.411072291812, 1864), (7003.351395828382, 1865), (5935.405832935676, 1866), (10393.09870164636, 1867), (5613.79612730559, 1868), (7493.438019744352, 1869), (7628.892002203254, 1870), (8544.95202806254, 1871), (6176.288446054222, 1872), (6509.015915380119, 1873), (6833.214666363691, 1874), (7943.999179021902, 1875), (6940.64449639358, 1876), (7269.455488320959, 1877), (6979.074594785534, 1878), (8516.26293556094, 1879), (7855.572665749923, 1880), (9782.409339751173, 1881), (7228.537409771649, 1882), (7013.236240291473, 1883), (7325.023845828467, 1884), (6758.289942794235, 1885), (6781.649255004191, 1886), (12877.393715660499, 1887), (5971.438451781976, 1888), (6510.540449610995, 1889), (7686.253705419455, 1890), (7083.521117636851, 1891), (8812.427581874274, 1892), (7101.264642982923, 1893), (8478.709479724617, 1894), (7169.101991788573, 1895), (6771.330530097677, 1896), (6501.357389397857, 1897), (6932.587653810936, 1898), (7057.005444270841, 1899), (9098.59908736493, 1900), (7365.617361549505, 1901), (5418.474992431628, 1902), (6404.86199920317, 1903), (6017.159656690839, 1904), (6213.267779245515, 1905), (7137.900467566667, 1906), (9853.996588789872, 1907), (7202.085942839138, 1908), (6549.365332575913, 1909), (5823.334843636246, 1910), (9203.906177513856, 1911), (6008.009756293508, 1912), (4675.473017021241, 1913), (6367.723987718492, 1914), (7413.7660512646125, 1915), (8038.295534385986, 1916), (8313.42389658351, 1917), (6211.545718528573, 1918), (5132.200525228489, 1919), (11497.09087640421, 1920), (5614.535052882965, 1921), (8377.821731875532, 1922), (6142.920334632442, 1923), (7495.398404961581, 1924), (10691.698824031615, 1925), (6368.4013223221455, 1926), (6803.723534817624, 1927), (8367.405019958696, 1928), (10220.52659353907, 1929), (6093.664784812162, 1930), (5709.338865751088, 1931), (7361.129878730829, 1932), (8393.077085748346, 1933), (8474.459412329159, 1934), (6268.048768491926, 1935), (7348.207927385791, 1936), (8987.520624839752, 1937), (5078.66789887476, 1938), (7720.999513968347, 1939), (6362.499912696775, 1940), (6712.121537285861, 1941), (4988.356580591587, 1942), (6936.21514616106, 1943), (7268.914910998001, 1944), (6214.372270231632, 1945), (7346.0572359013995, 1946), (7434.638961143418, 1947), (7749.114092072722, 1948), (8192.662790514505, 1949), (5792.577387586149, 1950), (7075.19914717065, 1951), (8363.060789413139, 1952), (13625.473109101085, 1953), (7127.6009885080375, 1954), (8760.716863183763, 1955), (6875.837514066738, 1956), (6544.730947848298, 1957), (4735.451772877639, 1958), (8609.555842964834, 1959), (5231.940063275446, 1960), (8396.83813847807, 1961), (6590.354200726245, 1962), (7789.279909572678, 1963), (7523.546395098461, 1964), (6113.739029201857, 1965), (7517.00768231318, 1966), (6371.537352143216, 1967), (7716.5070998039955, 1968), (5726.581429313981, 1969), (6571.455312962383, 1970), (5969.489606680334, 1971), (7764.610837313225, 1972), (10034.902583820367, 1973), (6335.901654099569, 1974), (6199.380758038387, 1975), (7336.431644612012, 1976), (5863.0274507054355, 1977), (6907.054441688127, 1978), (8774.393148557383, 1979), (5678.842966605513, 1980), (8950.301885527302, 1981), (6737.366477577113, 1982), (6792.328423753351, 1983), (6911.043978018562, 1984), (6562.8725664198755, 1985), (6759.647141704725, 1986), (5961.36775985951, 1987), (6634.284392110865, 1988), (7667.768300724988, 1989), (6646.7144511234665, 1990), (9528.336833364208, 1991), (5987.426771353174, 1992), (6406.580273140494, 1993), (8102.379049013441, 1994), (6504.619945520901, 1995), (7552.982835436964, 1996), (6672.585807398176, 1997), (6298.3249522376655, 1998), (8853.574134732178, 1999)]\n"
     ]
    }
   ],
   "source": [
    "print (rank_list[0])"
   ]
  },
  {
   "cell_type": "code",
   "execution_count": 41,
   "metadata": {},
   "outputs": [
    {
     "name": "stdout",
     "output_type": "stream",
     "text": [
      "[(6063.884720247062, 0), (6137.826969357267, 1), (6410.105742488011, 2), (5249.663463716231, 3), (7769.8635695944395, 4), (7213.280879483748, 5), (7409.536344284558, 6), (8466.306463912131, 7), (7221.093526523913, 8), (7785.479989438215, 9), (6929.458532729958, 10), (6735.437300759289, 11), (8004.913438627248, 12), (5046.517246887604, 13), (9984.368539636182, 14), (6473.549760435899, 15), (8690.72021033899, 16), (6479.303373903211, 17), (10962.449954279378, 18), (5195.951001506703, 19), (7013.230983309842, 20), (6741.9679331346715, 21), (7748.672257314023, 22), (7285.413360497712, 23), (7176.962473665231, 24), (6585.968663588039, 25), (6797.281475949215, 26), (6534.957580124284, 27), (8135.503318853466, 28), (7724.998351479805, 29), (11034.49166452891, 30), (7765.272027689968, 31), (8133.923329050224, 32), (9254.821069711901, 33), (7059.444242532565, 34), (7875.195634263937, 35), (6638.053676790435, 36), (7151.931335103064, 37), (7148.458389048461, 38), (6402.896839316679, 39), (5983.454794793818, 40), (9565.898622954779, 41), (5666.216115658188, 42), (8032.749703062914, 43), (7770.322089125735, 44), (8129.858433119088, 45), (5312.93768846418, 46), (7596.680003939139, 47), (8961.401412304345, 48), (8267.579235648946, 49), (6763.627629740616, 50), (8096.483118713795, 51), (6488.191357187722, 52), (10307.08051873364, 53), (6050.361534863366, 54), (7298.643886225854, 55), (6096.102482287462, 56), (10163.458990980997, 57), (7291.6008350106695, 58), (11910.124379443654, 59), (5600.80767787652, 60), (9068.80103302813, 61), (9179.717358220583, 62), (8067.685990349437, 63), (6126.396227125807, 64), (8644.927833966125, 65), (7912.419130304983, 66), (8778.113666339228, 67), (5495.573487170027, 68), (7491.003941866295, 69), (6921.420917068371, 70), (6158.189502918443, 71), (6516.2944824664155, 72), (6078.888092221699, 73), (6118.8750656212815, 74), (7885.88061236766, 75), (6653.299136536405, 76), (5964.676155112505, 77), (6384.656152715865, 78), (7813.407581533473, 79), (6286.707895347466, 80), (6681.779839795964, 81), (6764.712212802519, 82), (7380.878971457507, 83), (7242.637853638667, 84), (7702.930829572337, 85), (5627.687196966212, 86), (6928.100399978342, 87), (7060.02131321546, 88), (6348.159382669263, 89), (8359.656785423898, 90), (10777.529172180019, 91), (7330.546325167297, 92), (7524.919099491549, 93), (6279.701095456166, 94), (5028.063505679897, 95), (7435.479926155446, 96), (8054.5411038119055, 97), (6667.868242855092, 98), (8892.580037390206, 99), (9532.001909083261, 100), (7123.892401360614, 101), (6391.585230164982, 102), (6985.324993447636, 103), (5942.724731976654, 104), (6817.591025217819, 105), (6597.245247068015, 106), (6726.79853690371, 107), (5916.99662889002, 108), (8568.396411762436, 109), (5680.845089598395, 110), (6105.8244188222125, 111), (6176.42881363177, 112), (7501.793557822382, 113), (7876.83232863808, 114), (7837.754885826427, 115), (6784.72364309887, 116), (6842.915258894993, 117), (7186.432718216349, 118), (6177.686542068154, 119), (6051.620784662264, 120), (8228.700829400193, 121), (9980.504481334818, 122), (6301.168101230177, 123), (7019.203208980491, 124), (6878.6693283485865, 125), (8661.625194176482, 126), (5885.213208170959, 127), (5783.274467603179, 128), (7562.183595422027, 129), (9987.395300134533, 130), (7132.666270061095, 131), (5507.620754128006, 132), (8017.3563314089915, 133), (6158.974204520072, 134), (9427.313827071494, 135), (10410.584852286554, 136), (6677.727147944307, 137), (8745.963289213301, 138), (6387.103168214984, 139), (6624.932834280949, 140), (6670.460384671558, 141), (6319.085057038325, 142), (7880.550039377055, 143), (11134.219892798494, 144), (10136.265247358408, 145), (8648.103076150688, 146), (6902.451906819568, 147), (7539.768684016702, 148), (6615.8747905753435, 149), (5928.780214245138, 150), (7178.918942892725, 151), (7121.179097310108, 152), (5762.426394909449, 153), (8588.681756457338, 154), (6610.106880414806, 155), (9107.286615838053, 156), (7250.116296716858, 157), (7171.260044392424, 158), (6814.833407808815, 159), (8669.40388636635, 160), (6350.649876751782, 161), (6855.624241632522, 162), (6698.950020245442, 163), (5468.988117505377, 164), (7701.319876889719, 165), (7096.885002258104, 166), (5550.986361574224, 167), (8165.395477547818, 168), (7517.426672058637, 169), (8272.948103706436, 170), (9087.913025974076, 171), (5840.577306343531, 172), (8441.337581655018, 173), (5844.380347645276, 174), (6913.445874156551, 175), (6303.24322631502, 176), (7404.144374056648, 177), (5643.985043639303, 178), (7299.032999453783, 179), (7364.854377905505, 180), (6938.011487775177, 181), (6253.069629369707, 182), (8502.246990614834, 183), (5951.196181269218, 184), (8134.71627697796, 185), (6962.8595797563175, 186), (6205.789059093878, 187), (5792.219009049951, 188), (6851.821345142997, 189), (7443.004841426979, 190), (6819.68484003223, 191), (6041.799193155574, 192), (5823.6960037793815, 193), (7163.7622795456955, 194), (6717.046373978207, 195), (8614.650099900711, 196), (8924.49728852358, 197), (6381.703722939259, 198), (4899.729722439413, 199), (7844.243263327708, 200), (7005.00796803557, 201), (8716.651912507208, 202), (8372.972554783411, 203), (7391.399701500598, 204), (9624.687174757264, 205), (6900.094309051376, 206), (7614.575040531625, 207), (6899.397884385504, 208), (7087.073944785615, 209), (9341.509650244589, 210), (6191.859211609549, 211), (10226.154614996392, 212), (6284.690144636194, 213), (7153.0209918790515, 214), (8683.459059777402, 215), (5521.154879486197, 216), (9084.77838170109, 217), (6614.215325400414, 218), (6664.639803244516, 219), (6848.535410492038, 220), (7635.940017166548, 221), (6350.772708891669, 222), (8315.842715289602, 223), (5693.640623292231, 224), (8317.767240709209, 225), (8149.183734247521, 226), (7361.041216002577, 227), (8044.30711789985, 228), (6909.7425279021045, 229), (8123.304870871788, 230), (6741.0783377848975, 231), (7313.985156768447, 232), (5989.278164195618, 233), (7325.119575868798, 234), (7360.272100822072, 235), (6486.6187215184555, 236), (8864.938558804333, 237), (9395.943778826631, 238), (10416.71052920244, 239), (5949.368016765327, 240), (7517.14500617415, 241), (7028.517429437247, 242), (10674.72181296836, 243), (6513.93531551957, 244), (8306.558953798809, 245), (7489.45175677572, 246), (7160.805185613952, 247), (8358.251808103902, 248), (5140.6032493110915, 249), (9215.098752218726, 250), (8658.689671207509, 251), (6819.58212718742, 252), (6176.469994311296, 253), (12467.248447303335, 254), (7040.879601360545, 255), (6783.537874790455, 256), (8740.510073493035, 257), (7804.895240839883, 258), (8373.737912716018, 259), (6929.585500278965, 260), (10088.8197186991, 261), (7126.934618341604, 262), (6771.3349389548575, 263), (10720.732838479518, 264), (6373.750194794171, 265), (7690.73171119308, 266), (5172.793387080855, 267), (5551.220353225311, 268), (7552.097207720209, 269), (8476.285528883414, 270), (9060.66686764649, 271), (6699.024143468916, 272), (6995.04428779221, 273), (6061.907121620666, 274), (8043.715569702415, 275), (8944.737389477692, 276), (6996.74587780744, 277), (6010.344461854954, 278), (7273.106063621625, 279), (9309.642545217215, 280), (8897.742764756415, 281), (6292.023690445794, 282), (6906.071491919892, 283), (6762.409620455061, 284), (7255.024590265684, 285), (9283.124792035152, 286), (10266.142483005398, 287), (7121.925580871574, 288), (6234.614831420005, 289), (5247.089672271222, 290), (6886.007757040761, 291), (6311.269078744668, 292), (5268.140109797214, 293), (5061.241624524295, 294), (8505.127470093415, 295), (9722.738884263656, 296), (7708.166955002065, 297), (6617.77135911397, 298), (6429.744608649202, 299), (9154.132659583664, 300), (7564.638249533939, 301), (8351.98435975743, 302), (7924.579364668567, 303), (5522.064999090481, 304), (5322.744076284606, 305), (7934.170494072915, 306), (6164.335286928206, 307), (6126.469601331633, 308), (5719.855172540407, 309), (6653.611823080665, 310), (10562.045393470038, 311), (4018.462159529862, 312), (7055.292952665, 313), (8946.084759529005, 314), (7606.596126598784, 315), (7101.509962699416, 316), (7249.8459306613095, 317), (6720.861772639165, 318), (6474.9555957965795, 319), (10420.496826587618, 320), (6754.531219161503, 321), (6924.778840065551, 322), (6485.974657028263, 323), (6662.220362811086, 324), (7097.099325458221, 325), (7040.783134078055, 326), (6769.340083832812, 327), (6108.187568713724, 328), (5920.8990667350445, 329), (7975.827401782293, 330), (8552.830823634224, 331), (8495.398993363899, 332), (8437.874576632692, 333), (6614.384174332015, 334), (6484.31200140739, 335), (7527.424607592768, 336), (6953.1809789423005, 337), (6468.700088906959, 338), (7271.161730572817, 339), (9854.416990179641, 340), (8626.87863106673, 341), (5456.925271702152, 342), (7627.243448191038, 343), (6906.5535793654, 344), (7421.540592639037, 345), (6899.519480423082, 346), (9842.371598420155, 347), (7093.741759614266, 348), (7999.444905260482, 349), (7721.03808720442, 350), (6813.253799045719, 351), (5687.414078392868, 352), (7187.381365909491, 353), (5613.646234523544, 354), (9065.113566124905, 355), (5716.7788939911325, 356), (8491.43487680134, 357), (6140.376002032415, 358), (6661.896428437979, 359), (5150.302033222851, 360), (6271.008641173784, 361), (7765.304079455113, 362), (8108.628131398434, 363), (6876.112245364267, 364), (8930.117701104444, 365), (7432.079711647218, 366), (5872.021637751966, 367), (6896.438996659651, 368), (11042.164703538556, 369), (5573.479612699514, 370), (6441.352373763847, 371), (6379.616487086426, 372), (8532.926929800335, 373), (7830.2039071310155, 374), (8033.874121422678, 375), (10613.561466031355, 376), (7247.737682298472, 377), (9601.155671442315, 378), (5974.387460282909, 379), (7634.709732617235, 380), (9914.811780801754, 381), (9306.482185251503, 382), (6726.485644821639, 383), (8822.545625506142, 384), (7876.597067509267, 385), (7677.571309478093, 386), (7292.36760024229, 387), (9229.660699028362, 388), (6590.382772740096, 389), (9521.268673157774, 390), (9249.570074160309, 391), (8952.498445836822, 392), (4976.445790369386, 393), (8197.93593798534, 394), (6421.050111390026, 395), (8618.501502770314, 396), (8527.189318725937, 397), (6520.714873240724, 398), (8090.18272175841, 399), (8090.837889303507, 400), (6275.115133890147, 401), (6887.297377488107, 402), (8357.52292363185, 403), (7504.534190256154, 404), (9234.308661145153, 405), (5936.758351842628, 406), (11491.500523157452, 407), (9484.824444498317, 408), (8794.210214455981, 409), (7315.734408656232, 410), (8965.242685328214, 411), (7762.624936181696, 412), (6266.031568761915, 413), (8879.13356971402, 414), (7433.977182363756, 415), (7052.079944624768, 416), (7257.366392445916, 417), (6804.151477770157, 418), (5225.90730038187, 419), (6575.626944664174, 420), (9081.817499975476, 421), (10894.961972837878, 422), (6261.603921196261, 423), (5208.71106938573, 424), (7287.189486127069, 425), (7751.1289016930605, 426), (6891.810687497211, 427), (8546.380510208728, 428), (7992.894490529178, 429), (5949.18306627533, 430), (7166.636607522144, 431), (9029.381672271089, 432), (9278.218933413396, 433), (7719.650730880568, 434), (5949.158947371037, 435), (5834.552630889168, 436), (8977.742564451195, 437), (5889.780299838035, 438), (8244.212575230222, 439), (8324.034227949081, 440), (7575.2817065893005, 441), (7160.723009820533, 442), (8393.054984291326, 443), (5542.361207991077, 444), (7130.979838399857, 445), (6660.015617761613, 446), (5637.84388273998, 447), (7759.812498895628, 448), (8455.1613926434, 449), (6805.005192286419, 450), (6073.127906290459, 451), (8547.072705281207, 452), (5357.776759896488, 453), (5650.818754145755, 454), (9390.847034040988, 455), (9080.409502665467, 456), (9809.035912388581, 457), (6580.986040080754, 458), (6066.2686335938, 459), (9849.947679919458, 460), (6965.309157563637, 461), (5057.112041571832, 462), (8282.95119255823, 463), (10590.172218132717, 464), (7564.569307359189, 465), (7695.61351619238, 466), (6464.343666705411, 467), (8239.49281883001, 468), (6348.063819817158, 469), (6536.310696680541, 470), (5841.580809019283, 471), (5053.707541715802, 472), (5280.882367400156, 473), (6744.136756284391, 474), (6769.99584675483, 475), (5782.757459756623, 476), (7311.945945654897, 477), (8131.300371658849, 478), (7836.126155064733, 479), (8692.28124044678, 480), (7383.803223792216, 481), (7939.03785581163, 482), (6452.077367950374, 483), (5768.4388708051165, 484), (6273.579506290337, 485), (8357.601886409051, 486), (6610.983950152053, 487), (7282.965264670809, 488), (8570.587800322026, 489), (7079.806234249288, 490), (6994.576861390627, 491), (6484.551131029093, 492), (7839.666821317002, 493), (9922.374609677856, 494), (9101.235945308672, 495), (5258.027188171576, 496), (6534.07023357605, 497), (8694.334220146042, 498), (8547.649432758713, 499), (7233.960113137656, 500), (9227.569869910294, 501), (6608.191065027061, 502), (7770.355338160722, 503), (6422.11990191767, 504), (6119.706198428255, 505), (5950.648294119244, 506), (8475.411458963148, 507), (8711.80548072879, 508), (9422.315322210245, 509), (5775.478585762544, 510), (7296.449250187686, 511), (5439.46702880167, 512), (6836.679514203124, 513), (7570.103598523954, 514), (8474.64360871341, 515), (7506.477790405088, 516), (9214.271038561901, 517), (7398.234650940045, 518), (8434.256632967428, 519), (6538.830893858377, 520), (7792.081397806631, 521), (6953.259568663957, 522), (5769.850078711739, 523), (6730.538613193717, 524), (5936.249722364441, 525), (7326.5659310317815, 526), (7175.6902051172065, 527), (7229.660547604368, 528), (9532.157449390203, 529), (8617.6864135652, 530), (6721.35002894676, 531), (6821.195471299395, 532), (5795.067455648173, 533), (7961.448492925638, 534), (8424.829283099016, 535), (6769.622414538562, 536), (5286.97554830676, 537), (8443.580973915472, 538), (5928.137469831639, 539), (5574.7035843317235, 540), (8998.643737303499, 541), (9627.670671822252, 542), (6784.721747775119, 543), (7568.030352285877, 544), (8469.571349444657, 545), (6774.597912045683, 546), (8238.927334739215, 547), (6343.82395614058, 548), (5303.728251937427, 549), (8995.494787879496, 550), (7618.3773364222225, 551), (8757.931068824868, 552), (10126.791132095057, 553), (5919.487983867793, 554), (8099.377946518523, 555), (7075.879287063044, 556), (9101.098265570035, 557), (7708.679052633795, 558), (5926.242124900514, 559), (6212.4070344756965, 560), (5378.297122918186, 561), (7176.128299448559, 562), (5198.690389228429, 563), (6018.644157098756, 564), (7294.850271194295, 565), (6910.749712704, 566), (7768.699160637837, 567), (5883.427125325578, 568), (6776.5079044211225, 569), (6321.166414427825, 570), (8434.67536527866, 571), (7901.335369579834, 572), (7310.10346497413, 573), (5515.233702905662, 574), (7694.46650309274, 575), (6368.876395407444, 576), (9487.91251255289, 577), (7383.499534161877, 578), (7382.433570863218, 579), (8468.012490801819, 580), (8143.112225485275, 581), (7909.279765268103, 582), (10038.293060037591, 583), (6510.097030141805, 584), (9861.170953620163, 585), (7399.631902437255, 586), (6965.294222204608, 587), (6030.916606923058, 588), (7607.3146314880405, 589), (7166.161736851686, 590), (6606.188206073092, 591), (10134.156503737784, 592), (7920.01051096257, 593), (5864.499568627658, 594), (8512.44353182306, 595), (5506.090269755682, 596), (5998.894667332319, 597), (9578.3012780524, 598), (7631.773827352983, 599), (5895.870774258988, 600), (8198.963563474468, 601), (7774.646493556889, 602), (8044.7277820538, 603), (6043.105792135419, 604), (7648.083992489164, 605), (6250.139662965523, 606), (5994.762330293804, 607), (5968.195196399589, 608), (6750.399599351563, 609), (6884.542166024281, 610), (7827.765629211873, 611), (8163.181311442206, 612), (7026.666308896121, 613), (5393.981511768627, 614), (6927.080647097728, 615), (5639.494873892677, 616), (9652.89032452224, 617), (5827.05157455929, 618), (5517.173660767272, 619), (6187.489054353455, 620), (7563.631776712414, 621), (7947.897124699555, 622), (8381.547433080883, 623), (5537.524433810992, 624), (6010.805055638267, 625), (8231.746521788298, 626), (6713.912540703425, 627), (6842.458236464574, 628), (5362.634087733091, 629), (8880.266390861627, 630), (9216.110429235232, 631), (6365.792828062074, 632), (4611.459128737093, 633), (7896.040123652435, 634), (6127.459062536888, 635), (7055.195287765619, 636), (6714.9992711204695, 637), (6256.101027706639, 638), (7026.95672650564, 639), (8202.33142021782, 640), (6887.86557199588, 641), (6809.6089667304295, 642), (6921.83460099745, 643), (9291.775215677239, 644), (6424.7363522145315, 645), (5584.947858942661, 646), (7436.062614399475, 647), (7527.018694244627, 648), (8738.381879966739, 649), (12315.541490299454, 650), (6174.87111844793, 651), (11133.532355041498, 652), (6958.051283250697, 653), (6979.059515597146, 654), (6468.090738061933, 655), (6660.044154497377, 656), (5615.489518351183, 657), (7854.025901192027, 658), (4902.644668331388, 659), (7591.879222777698, 660), (11273.04976803249, 661), (9354.02957738975, 662), (6053.045842878504, 663), (6694.375632884849, 664), (5926.893354893681, 665), (6137.156495994811, 666), (9897.167412956263, 667), (8995.395282201527, 668), (6154.778276040412, 669), (6760.430656945236, 670), (7370.499237805132, 671), (8747.940913827437, 672), (5996.840271084157, 673), (4576.41815955281, 674), (8810.486946445259, 675), (6757.390812545923, 676), (10621.227547927732, 677), (6498.3035788851275, 678), (6504.63370961586, 679), (7769.340743292744, 680), (6853.658379041828, 681), (8292.436820521843, 682), (6134.757760626774, 683), (7883.781552373354, 684), (7337.220363047523, 685), (6488.111760200275, 686), (6541.729266849253, 687), (7740.320313648479, 688), (8096.439858923308, 689), (7178.743930782181, 690), (6470.18587781841, 691), (6948.638331817142, 692), (7932.04719261544, 693), (9367.201848384513, 694), (7992.28034463337, 695), (5078.339280136685, 696), (7128.0581972656955, 697), (6428.829192812593, 698), (7275.742251632306, 699), (5840.817917761145, 700), (8015.456875077626, 701), (6031.985782072096, 702), (8226.004511058034, 703), (7108.315197964457, 704), (7003.405562249491, 705), (7258.656783894722, 706), (6589.278765254171, 707), (8246.11218999704, 708), (7593.994374514996, 709), (6318.128123936325, 710), (5476.727210793389, 711), (8185.8734630316085, 712), (7095.097705509984, 713), (6081.725060221325, 714), (10568.625989573893, 715), (10550.225011933762, 716), (5894.151383729852, 717), (8377.362702566154, 718), (7431.869678795675, 719), (6683.054815767792, 720), (7417.786801648475, 721), (7881.770466475656, 722), (7046.143940607315, 723), (7566.058050950802, 724), (6901.599903142559, 725), (7051.612207127024, 726), (5675.965704882436, 727), (5981.722813506521, 728), (6975.170489009178, 729), (8727.013902130473, 730), (5660.804297176243, 731), (6657.959627498035, 732), (6944.823718328537, 733), (7273.599857216155, 734), (7783.991267303163, 735), (7548.705352294574, 736), (10874.484938508898, 737), (8250.078992249422, 738), (6274.6140371519905, 739), (8700.691315398539, 740), (6910.028886309122, 741), (5796.39695456459, 742), (9392.70834488139, 743), (8428.978138216797, 744), (6859.972877854192, 745), (7480.07105520107, 746), (7330.422153764937, 747), (6278.052914088227, 748), (5234.256667569408, 749), (7406.646275991495, 750), (8722.215449966581, 751), (9631.975773462944, 752), (10389.989099805818, 753), (6308.510358249385, 754), (10132.042170554821, 755), (9214.08868339896, 756), (8570.42673756308, 757), (8500.970792522594, 758), (6781.476608060975, 759), (5357.83605576613, 760), (7720.5581299437445, 761), (6612.352901642434, 762), (8109.479723440219, 763), (8549.541971185794, 764), (5987.340064725475, 765), (8997.560980683782, 766), (7916.5309231716365, 767), (6689.691647503566, 768), (7963.055801478652, 769), (6983.922099735795, 770), (9702.800832985464, 771), (8805.785333877579, 772), (5977.467386591947, 773), (7571.839957941472, 774), (7136.669371839157, 775), (8058.4518668125875, 776), (8277.167440979121, 777), (8787.356807624094, 778), (14512.955902317894, 779), (7387.75396173129, 780), (7030.046285496253, 781), (5103.081904501843, 782), (7433.55774788713, 783), (7376.276455892259, 784), (5516.205415050523, 785), (10620.800811522031, 786), (9395.069160287192, 787), (7471.725236597444, 788), (7486.853162040995, 789), (7994.849651718866, 790), (7702.208862287153, 791), (8921.59305195548, 792), (6691.134937210522, 793), (10648.63658564143, 794), (7017.9770577595145, 795), (7269.736423088171, 796), (5588.377152608745, 797), (6802.5934048501895, 798), (7160.121279409766, 799), (5839.558958131061, 800), (9603.307218242295, 801), (6334.14539207768, 802), (5781.155983482017, 803), (8982.052321770476, 804), (5423.193883799574, 805), (8844.114381567644, 806), (9459.159890444618, 807), (5023.589399192618, 808), (8690.715697548187, 809), (8605.416704817888, 810), (6847.730179952694, 811), (8785.554259101826, 812), (8457.511377892311, 813), (7173.8189160091615, 814), (6474.577650703451, 815), (5313.902627330995, 816), (7326.994751968877, 817), (6859.77424552413, 818), (8471.888902794944, 819), (7424.249422287996, 820), (7276.201689001752, 821), (9867.877076172465, 822), (6133.626035834289, 823), (7713.448603515544, 824), (6471.402564584795, 825), (6995.027114459939, 826), (8018.942873467858, 827), (5990.766955026973, 828), (5543.4345386754085, 829), (7784.368662034786, 830), (9305.424173461597, 831), (7103.082946286224, 832), (8580.254296408364, 833), (6475.0569166298565, 834), (8542.998121178913, 835), (7377.957142802796, 836), (5653.388701701322, 837), (6482.0977110340455, 838), (7653.489140350698, 839), (9462.39442684217, 840), (6732.0153879001555, 841), (8818.595091538034, 842), (8223.164493749837, 843), (5985.469451523211, 844), (8352.20592138498, 845), (5542.071557735276, 846), (6990.313239526071, 847), (6600.61723880573, 848), (4729.958661453658, 849), (8814.945444631476, 850), (7181.070342371012, 851), (6729.792849955975, 852), (5726.921612720244, 853), (6459.50264247139, 854), (5940.164622125585, 855), (7694.9201655714905, 856), (7006.09871367877, 857), (6926.267324817738, 858), (10526.96140594381, 859), (6902.513162108869, 860), (6467.440404784801, 861), (6355.560941776315, 862), (7143.905172794554, 863), (6342.3079875490785, 864), (5612.542411819424, 865), (7663.91723764552, 866), (7884.883184578391, 867), (5127.65440112936, 868), (8833.959560594876, 869), (5386.338141162888, 870), (6358.659588945051, 871), (6077.927671116907, 872), (7140.926333222816, 873), (9398.453463511498, 874), (7854.26181579545, 875), (6082.293982685449, 876), (7787.6171954214515, 877), (8567.979137023038, 878), (7812.237921024809, 879), (8016.220087381234, 880), (5703.012672168932, 881), (8243.637085040713, 882), (6488.276751573389, 883), (7956.422122843331, 884), (9771.171239986708, 885), (6984.87441973849, 886), (6318.962084013409, 887), (7783.783062169626, 888), (6623.424556041265, 889), (8211.1374379984, 890), (7158.2767145155485, 891), (9695.964772060068, 892), (6484.443423392604, 893), (7437.768916464235, 894), (8687.701742246441, 895), (8328.301413187202, 896), (8160.413725587512, 897), (8503.107949521731, 898), (6568.279277492545, 899), (6760.778702892149, 900), (7141.524843999658, 901), (7162.805253660262, 902), (7233.406832859996, 903), (6248.633944683572, 904), (7916.795804764885, 905), (7333.346207080795, 906), (7108.182753134666, 907), (10260.412397230726, 908), (8149.09161331443, 909), (8689.31483481787, 910), (6808.988633863977, 911), (5056.3623324935525, 912), (8537.20271898421, 913), (7049.0653534286685, 914), (7780.078239539579, 915), (5418.586931330384, 916), (6516.6377855077135, 917), (7839.295283733375, 918), (7027.512265210521, 919), (10190.220951719415, 920), (7223.9899460323495, 921), (5134.311974251515, 922), (6731.336292071009, 923), (6088.327701960281, 924), (7079.616932551399, 925), (8942.79258772688, 926), (9332.111676905404, 927), (9082.240028727148, 928), (9673.06356363666, 929), (9080.958493954446, 930), (6680.666767372558, 931), (7468.93809376826, 932), (9245.855706804476, 933), (7486.323509312117, 934), (6642.2638610561025, 935), (6385.4679335340725, 936), (8796.743526039481, 937), (7166.9322976787025, 938), (7769.8016060980035, 939), (6720.776641692743, 940), (6094.762246659742, 941), (6679.17582759147, 942), (7487.914607542984, 943), (12049.901568103212, 944), (7059.4286992850775, 945), (6693.350945223485, 946), (6469.351126530363, 947), (6737.898425651823, 948), (7909.517398434415, 949), (5569.720842209971, 950), (6547.910043381802, 951), (7472.884641722508, 952), (7817.642700345905, 953), (6823.295051675259, 954), (8002.267508484568, 955), (6253.658779703982, 956), (5484.653823855192, 957), (7361.28187230694, 958), (5293.08560721009, 959), (5879.580965435008, 960), (6202.131659369976, 961), (6765.095754764417, 962), (5561.936904504409, 963), (6706.390474951748, 964), (6899.238671600815, 965), (7649.733476743303, 966), (9859.27840844187, 967), (6856.357176852679, 968), (7016.7039074837285, 969), (9068.925630577061, 970), (6585.557121384176, 971), (6878.661570178198, 972), (5684.030687584354, 973), (8587.599683587496, 974), (6797.839558306764, 975), (6812.842850925442, 976), (8293.871289797931, 977), (5530.335753057038, 978), (6920.926276909941, 979), (8472.425131643282, 980), (5412.967187570899, 981), (7270.87238387179, 982), (7347.964071119703, 983), (7199.324113472684, 984), (4980.0295207309355, 985), (7038.038845143191, 986), (7587.68899738514, 987), (5599.398171240306, 988), (7434.581833336049, 989), (6821.53545842359, 990), (4619.343110796757, 991), (8430.452399133166, 992), (7436.195318640772, 993), (6146.235293312998, 994), (7160.714043956895, 995), (7652.72377266161, 996), (8262.52040830422, 997), (6938.666865106245, 998), (5849.424655637727, 999), (6296.7018296097895, 1000), (7143.6461730250185, 1001), (9313.467602002313, 1002), (7465.596192874866, 1003), (6625.977279199442, 1004), (6869.97437411659, 1005), (7656.7794799123, 1006), (6034.153404473576, 1007), (7456.871945685737, 1008), (6084.8390895708735, 1009), (7294.341443760773, 1010), (5858.230831249216, 1011), (6661.844547364582, 1012), (6641.552621052993, 1013), (6743.5870562523205, 1014), (6552.080758124852, 1015), (8486.228584751587, 1016), (6807.466149281492, 1017), (5814.7000251741365, 1018), (7797.364593375684, 1019), (7692.34271267378, 1020), (6964.105849967775, 1021), (7278.313213560792, 1022), (6216.575286390837, 1023), (6621.779410738419, 1024), (5909.30000552466, 1025), (5449.0609286282925, 1026), (6732.9391714224075, 1027), (5387.991319088291, 1028), (9396.183323326855, 1029), (9714.852212069138, 1030), (5408.7353160932225, 1031), (11585.512624421657, 1032), (6692.645733925826, 1033), (7271.360477238469, 1034), (8196.243523761583, 1035), (9200.49517312729, 1036), (6266.4189655945665, 1037), (8593.48919333431, 1038), (6752.01749414469, 1039), (5644.394130883862, 1040), (8461.192639702362, 1041), (6800.091596080675, 1042), (8357.68581090986, 1043), (7245.72487879151, 1044), (7029.621913376318, 1045), (8261.98240064633, 1046), (9850.09795232396, 1047), (5072.949933485489, 1048), (8902.259951315114, 1049), (7204.875469213641, 1050), (7161.342069771398, 1051), (6418.690833128569, 1052), (5764.555440013771, 1053), (9320.559165960687, 1054), (7691.6696812487335, 1055), (6627.496348444329, 1056), (4890.899679290245, 1057), (8622.508541277566, 1058), (7528.391607216296, 1059), (9991.893560351507, 1060), (8057.682352399129, 1061), (7685.070613406, 1062), (9624.152703615962, 1063), (6618.073674753481, 1064), (6002.736008662417, 1065), (4641.847304238901, 1066), (8181.793746568854, 1067), (8366.057740386865, 1068), (5237.259912483732, 1069), (5912.069751922848, 1070), (8845.1590727965, 1071), (8008.468353028523, 1072), (8051.750076068771, 1073), (7324.088021926694, 1074), (7835.275649334272, 1075), (6940.645786073496, 1076), (6191.608584631831, 1077), (8557.761823818795, 1078), (6806.998482688752, 1079), (8217.399158553197, 1080), (8320.633177620231, 1081), (7455.443111672431, 1082), (7902.520353987462, 1083), (5637.958276323794, 1084), (7616.422680871604, 1085), (6886.236221905139, 1086), (7178.593473237145, 1087), (4325.7715366451985, 1088), (7598.579513546447, 1089), (7222.722401124015, 1090), (6640.658990305532, 1091), (6393.238878803943, 1092), (6297.116279301385, 1093), (6947.2044268284135, 1094), (7022.147063041985, 1095), (10921.76197852009, 1096), (5969.663491306156, 1097), (9405.477946580693, 1098), (7803.638266851359, 1099), (7226.885009509083, 1100), (6440.994460509199, 1101), (7383.939805298001, 1102), (9139.45589719599, 1103), (8422.976939583888, 1104), (9403.231985091772, 1105), (5312.569533674222, 1106), (6755.816006287104, 1107), (7477.193526497998, 1108), (7517.166408662086, 1109), (8349.067758281186, 1110), (6372.685748295295, 1111), (7292.010281557143, 1112), (6652.211873494177, 1113), (8655.027348405281, 1114), (6698.803303498212, 1115), (7623.816133858337, 1116), (5892.451456281794, 1117), (6814.623327560756, 1118), (5869.892953197899, 1119), (9333.6461271799, 1120), (10892.28711660932, 1121), (7894.599569304102, 1122), (6466.456736263743, 1123), (10006.651148340457, 1124), (11984.994961340242, 1125), (6340.640175120071, 1126), (6884.0139838665, 1127), (9535.753715532284, 1128), (11006.995824416177, 1129), (7467.18804812854, 1130), (5989.400574148837, 1131), (6425.293749232057, 1132), (8750.682565083574, 1133), (8035.309219117502, 1134), (7424.550260168878, 1135), (10522.445581211052, 1136), (7604.850715790935, 1137), (6316.289972949681, 1138), (8643.441768873578, 1139), (10642.29915457423, 1140), (7530.002324050021, 1141), (7297.255478651022, 1142), (8370.093981079837, 1143), (7369.277029925451, 1144), (7436.991087353106, 1145), (7485.040941825243, 1146), (7626.743446456944, 1147), (7902.064921745549, 1148), (6885.405107037547, 1149), (10459.242280906108, 1150), (5787.799607782487, 1151), (8932.586183857353, 1152), (6405.290379754584, 1153), (6373.136937359158, 1154), (7195.24237926295, 1155), (6000.860995763482, 1156), (8033.430288125904, 1157), (7483.471756753139, 1158), (7417.789064877698, 1159), (8059.9877668921245, 1160), (5003.666149479518, 1161), (8369.722117322559, 1162), (4596.171498928035, 1163), (6361.678924319632, 1164), (6171.270013053559, 1165), (5296.840141475433, 1166), (8767.84301844576, 1167), (7826.770905815164, 1168), (7682.663026655965, 1169), (5387.615463908298, 1170), (7235.23870317069, 1171), (7307.668127330225, 1172), (8256.225366722398, 1173), (7055.181251925434, 1174), (7269.437838226283, 1175), (5984.531339958384, 1176), (8260.011179310004, 1177), (7983.61104930481, 1178), (5486.392952124199, 1179), (5893.328460807262, 1180), (5616.509404932338, 1181), (5826.059309869785, 1182), (6834.583723083882, 1183), (7442.0376248133225, 1184), (7375.808979258438, 1185), (5763.823260354507, 1186), (6863.443138174775, 1187), (8889.73978242807, 1188), (9560.611994214983, 1189), (8749.375447444654, 1190), (7092.556027071209, 1191), (6341.563665421746, 1192), (7586.085027828313, 1193), (9884.17836895323, 1194), (5755.206378591563, 1195), (8342.440433685004, 1196), (6622.366366672974, 1197), (6207.063921316588, 1198), (7030.3403225213315, 1199), (8798.942750227581, 1200), (7740.783996428517, 1201), (6135.252817376029, 1202), (7278.458141438392, 1203), (7988.667828378328, 1204), (7491.0798902529705, 1205), (7430.0890856846245, 1206), (5751.107747118426, 1207), (7613.685756584351, 1208), (8064.600613460239, 1209), (6133.58693114727, 1210), (6722.698083914641, 1211), (6235.772183018782, 1212), (8795.962429469073, 1213), (11887.905488864426, 1214), (6048.333558680889, 1215), (8022.492792569346, 1216), (7752.3160505156175, 1217), (6976.543545048885, 1218), (5031.5764162512205, 1219), (7684.910053726116, 1220), (8234.888016414594, 1221), (7328.341483705451, 1222), (9723.314898971295, 1223), (8974.150054254782, 1224), (8647.658020432114, 1225), (7500.165031376338, 1226), (6184.579182286943, 1227), (6596.396970387322, 1228), (7949.3797959356825, 1229), (10069.124700845734, 1230), (6643.190802428209, 1231), (6999.190012206214, 1232), (7036.464039398885, 1233), (5977.18277940255, 1234), (6936.7308278101555, 1235), (7404.539085186673, 1236), (6730.5101576694815, 1237), (7977.580935090923, 1238), (9590.02823979426, 1239), (7776.08328051289, 1240), (6319.672679411967, 1241), (6701.453530126702, 1242), (5237.0471556331595, 1243), (7037.9089408292375, 1244), (7196.411614220564, 1245), (6776.9145226101155, 1246), (7654.1200855707875, 1247), (5325.23679138857, 1248), (7162.065312665022, 1249), (7173.222610000122, 1250), (6344.534523384941, 1251), (8834.907415067433, 1252), (6972.626627463762, 1253), (5029.786790909446, 1254), (7726.012990066656, 1255), (7199.61201147344, 1256), (5734.060906893825, 1257), (6218.831291145316, 1258), (6984.182418600942, 1259), (10065.7657513013, 1260), (5985.419289180422, 1261), (5254.120648934062, 1262), (7947.650853935835, 1263), (5960.697847071215, 1264), (6675.499296707329, 1265), (6058.416754826743, 1266), (10140.869924820126, 1267), (8882.643055447612, 1268), (6290.043734136118, 1269), (7240.162454370834, 1270), (6420.878333948473, 1271), (8825.60005609719, 1272), (7844.49933029801, 1273), (6745.223012503111, 1274), (7136.860354459915, 1275), (7176.028860043466, 1276), (6093.580523607964, 1277), (9370.837664185297, 1278), (9918.445812513139, 1279), (9259.393382168499, 1280), (4965.405596389363, 1281), (7340.61739162408, 1282), (6631.538111905836, 1283), (7440.201360323506, 1284), (8116.69364477401, 1285), (7837.0891827765545, 1286), (6533.52199927406, 1287), (6660.4799317269535, 1288), (7145.903889665758, 1289), (7468.76921791195, 1290), (7532.801332070096, 1291), (6863.878735345748, 1292), (5299.680079965871, 1293), (7319.971269417526, 1294), (10019.418930348576, 1295), (6649.195732350534, 1296), (8206.710657686453, 1297), (6211.151670796273, 1298), (8386.630905585334, 1299), (7701.507893833511, 1300), (10028.233326390335, 1301), (6176.862719411961, 1302), (6877.036408639847, 1303), (9139.101269578436, 1304), (6915.469399602478, 1305), (5841.3508957760805, 1306), (7851.127176228443, 1307), (7980.535867051182, 1308), (7531.422554774706, 1309), (10775.136971893178, 1310), (7702.694987380537, 1311), (7814.347035093772, 1312), (9997.571866146189, 1313), (7293.611774246082, 1314), (5790.823253314941, 1315), (7720.402474595631, 1316), (5844.4469918099885, 1317), (6565.793795127886, 1318), (9037.936736707183, 1319), (9817.337010415426, 1320), (6397.65066348468, 1321), (5717.043099630887, 1322), (10542.185383196986, 1323), (9932.692178731942, 1324), (8752.076162562573, 1325), (9836.217545382044, 1326), (7612.714440321894, 1327), (7437.506166230663, 1328), (7880.100628478635, 1329), (5837.8499915436605, 1330), (7451.23274923784, 1331), (6054.796217913633, 1332), (8418.528446234193, 1333), (9820.657165881952, 1334), (6447.81097382131, 1335), (6677.415765700065, 1336), (6688.677971845343, 1337), (5153.716850978679, 1338), (6767.227119839111, 1339), (9219.865662526978, 1340), (10292.409389630231, 1341), (7537.363311305565, 1342), (9762.804216624427, 1343), (6366.442496209419, 1344), (7868.27161510345, 1345), (7694.1712439169805, 1346), (9241.511220636865, 1347), (8185.4526292236305, 1348), (6520.352157960855, 1349), (9971.153935292521, 1350), (7280.450853399446, 1351), (7660.227189098807, 1352), (7868.3604626787155, 1353), (7592.15474643962, 1354), (8550.96355402678, 1355), (6218.171721650796, 1356), (10086.440832928582, 1357), (9328.294718425259, 1358), (6445.733402980598, 1359), (7566.96634329726, 1360), (7047.932387911193, 1361), (7495.858534166223, 1362), (6747.260477675843, 1363), (7616.33776201386, 1364), (7958.125894343028, 1365), (5647.1190126776155, 1366), (5895.829902039522, 1367), (8094.812259903426, 1368), (6519.745790599329, 1369), (8946.587978788573, 1370), (8158.695055708526, 1371), (9834.514799962866, 1372), (8745.711745095334, 1373), (7296.8440462978915, 1374), (6208.055798204091, 1375), (5778.614430316989, 1376), (6925.5421075343065, 1377), (7493.59548285179, 1378), (8488.469853879971, 1379), (5867.228148159174, 1380), (7644.228101565052, 1381), (6037.5976295434075, 1382), (6009.928656471694, 1383), (4452.417642731452, 1384), (7412.413676220667, 1385), (7203.711905219235, 1386), (5825.847296813132, 1387), (7240.187451508283, 1388), (6169.019666691427, 1389), (7776.595950553639, 1390), (9257.819363354049, 1391), (7979.277464073064, 1392), (7252.968381997602, 1393), (7908.780762339054, 1394), (8165.759975171469, 1395), (6448.917943730921, 1396), (5941.1815855628465, 1397), (8302.144336900308, 1398), (6256.123846031592, 1399), (6686.455131635436, 1400), (7205.562064813682, 1401), (5535.4830181118505, 1402), (9164.802021478077, 1403), (7317.367717511264, 1404), (8017.29363379144, 1405), (7137.608911508158, 1406), (6427.928380435982, 1407), (7998.1460328920675, 1408), (5902.476310536391, 1409), (7884.341723181749, 1410), (6496.869326993979, 1411), (7972.218809570744, 1412), (6521.892015235616, 1413), (6922.839020020638, 1414), (7022.297115579461, 1415), (7366.149300673375, 1416), (8111.0409395305505, 1417), (9179.52888668043, 1418), (6944.989505976264, 1419), (8195.269219067764, 1420), (6007.7702444992065, 1421), (7901.615278252416, 1422), (7398.86019978698, 1423), (7152.1972030857705, 1424), (9835.94130540115, 1425), (6265.220985934629, 1426), (5965.129129392076, 1427), (9469.647061061454, 1428), (8010.11034708016, 1429), (5683.229820852178, 1430), (10968.574119931876, 1431), (7970.614939022262, 1432), (6100.147714863487, 1433), (7328.527450484765, 1434), (6032.017964529503, 1435), (8734.527358797392, 1436), (7149.754444216906, 1437), (9451.275023756349, 1438), (7453.871892324011, 1439), (8795.09382026864, 1440), (6505.995531397936, 1441), (9085.159574125988, 1442), (5812.6831788553845, 1443), (8373.249389807781, 1444), (8302.751231224785, 1445), (5307.017288034157, 1446), (6584.648422920959, 1447), (7916.042483945333, 1448), (7850.010078340738, 1449), (11778.055962058173, 1450), (6207.461697506515, 1451), (6106.06736681672, 1452), (5682.674346477822, 1453), (8640.648971844588, 1454), (5831.761697915563, 1455), (7831.308885028411, 1456), (6835.46189649092, 1457), (7127.183090593424, 1458), (7770.172612232559, 1459), (6808.211522701986, 1460), (8565.21937777289, 1461), (6250.062358406732, 1462), (11891.015460112367, 1463), (8307.69039948313, 1464), (5718.7077030247165, 1465), (4946.353701100397, 1466), (7896.693467068703, 1467), (7353.499547282944, 1468), (7153.852232382726, 1469), (7416.4338753097145, 1470), (5581.504925194309, 1471), (7080.765715307877, 1472), (7104.818545124891, 1473), (6228.1810807504025, 1474), (5637.347429114312, 1475), (8953.024184016096, 1476), (8457.737251524375, 1477), (5850.833775689548, 1478), (5853.869310285428, 1479), (8170.915924794271, 1480), (9771.58055298381, 1481), (5115.3094496914, 1482), (8917.952802026412, 1483), (5340.237917010248, 1484), (8738.912440636972, 1485), (7659.413513778871, 1486), (6127.939427376799, 1487), (7086.538041088523, 1488), (7433.161010816323, 1489), (5400.899170346079, 1490), (6833.161932781602, 1491), (5785.102607966115, 1492), (8615.608276032694, 1493), (8696.255296027322, 1494), (6336.941817031235, 1495), (7560.535262336212, 1496), (8000.827335777566, 1497), (6871.578298499277, 1498), (7726.898516828018, 1499), (5186.685843039248, 1500), (5580.1243502397365, 1501), (9624.292071107435, 1502), (7160.823156723163, 1503), (7075.919344324864, 1504), (6795.615626319737, 1505), (8608.975855021943, 1506), (8044.735387380641, 1507), (7630.7677610170085, 1508), (6531.5397244065625, 1509), (5068.331381737139, 1510), (9884.29956427957, 1511), (7297.891659023858, 1512), (7545.564317502664, 1513), (6182.91626532637, 1514), (6488.656434484285, 1515), (7969.845736648587, 1516), (6458.608770735816, 1517), (8224.105346603394, 1518), (7746.266268999145, 1519), (8543.81243463955, 1520), (8937.523462840396, 1521), (7001.091301888766, 1522), (6094.305208906806, 1523), (8446.750580006088, 1524), (6691.517152812479, 1525), (8105.64279246759, 1526), (6727.4464760593255, 1527), (12268.866129453838, 1528), (8386.799196527189, 1529), (5811.160908045256, 1530), (5817.34543201869, 1531), (7248.056507485332, 1532), (6251.255630547743, 1533), (7792.399062395707, 1534), (6319.409870097603, 1535), (9664.752379652487, 1536), (8233.15518127477, 1537), (8703.274730479194, 1538), (7945.413608619151, 1539), (7651.868195460378, 1540), (6350.793849274699, 1541), (7990.960027915971, 1542), (7523.576707317988, 1543), (6738.453842126965, 1544), (5422.977081608339, 1545), (7530.87099542462, 1546), (4328.518467264036, 1547), (7654.996355155246, 1548), (7482.884135792715, 1549), (8730.265397446152, 1550), (6104.32794980172, 1551), (9128.52495338108, 1552), (5705.589156135881, 1553), (6281.117652993072, 1554), (8331.9664242155, 1555), (6104.794783978541, 1556), (6939.55537983805, 1557), (5712.071291060396, 1558), (7740.557928312051, 1559), (7656.746512425919, 1560), (5769.018691349712, 1561), (9389.988581476307, 1562), (9213.364155411835, 1563), (6401.9974176653, 1564), (5865.684972066749, 1565), (9723.252025446089, 1566), (8013.167431153141, 1567), (7362.166289612906, 1568), (6422.67407707932, 1569), (5105.777648423438, 1570), (8556.61788955404, 1571), (5399.132460428602, 1572), (7268.580224109607, 1573), (8180.481292799527, 1574), (7811.636855038931, 1575), (7792.215230846005, 1576), (7816.712545600933, 1577), (9313.540317631836, 1578), (9389.675229216005, 1579), (9901.357172564103, 1580), (5499.274213638236, 1581), (9523.09848575842, 1582), (5986.880354677664, 1583), (6387.318616291575, 1584), (8872.71518112777, 1585), (7789.012753211636, 1586), (9777.356850147318, 1587), (7288.988769122905, 1588), (8406.552815964873, 1589), (7230.659078520127, 1590), (8912.131690239876, 1591), (6436.795712539899, 1592), (8390.220778969955, 1593), (6158.711800072676, 1594), (7264.502776061856, 1595), (7259.097675213298, 1596), (6229.3029858738, 1597), (7896.404522427093, 1598), (8129.184484248312, 1599), (5864.533385918468, 1600), (8276.456162120561, 1601), (8227.611926620375, 1602), (7377.5789922846625, 1603), (7487.759948983215, 1604), (7062.160814387889, 1605), (6454.37964211674, 1606), (7724.909772069566, 1607), (6766.713649024908, 1608), (7261.973217323036, 1609), (8482.918041200077, 1610), (7310.0211533802, 1611), (10555.515632079878, 1612), (6645.882202656027, 1613), (7800.445684689525, 1614), (6805.6135306259375, 1615), (7072.413679001371, 1616), (5916.3365547620315, 1617), (4982.441981598676, 1618), (6582.152418262547, 1619), (8110.768809121093, 1620), (9084.656782199936, 1621), (8504.892301306576, 1622), (7903.2762611117505, 1623), (6161.511676772871, 1624), (7482.415857721406, 1625), (7233.022663249358, 1626), (8274.791749933258, 1627), (5613.296895541386, 1628), (6070.885104379948, 1629), (6193.455549597403, 1630), (6439.218233201706, 1631), (7252.541870447884, 1632), (7000.034203644387, 1633), (7653.078326505399, 1634), (6230.825243842678, 1635), (8926.776064606096, 1636), (9818.809727459568, 1637), (8068.661165221805, 1638), (7090.377399207598, 1639), (11455.23529043681, 1640), (8918.656347836433, 1641), (7604.32534745281, 1642), (6981.264864139055, 1643), (7009.25321765979, 1644), (7498.816265797649, 1645), (7741.46581712361, 1646), (6441.923283616342, 1647), (6213.887022804756, 1648), (6124.747859309531, 1649), (6604.389476807162, 1650), (7920.889415872626, 1651), (6859.623742337915, 1652), (8074.750884640196, 1653), (8624.465737567554, 1654), (9735.215070289243, 1655), (6207.891924754245, 1656), (5882.741314042142, 1657), (5857.036830988825, 1658), (6881.109107641131, 1659), (7359.227008273398, 1660), (6366.69330050529, 1661), (6824.739568979334, 1662), (4795.939163544863, 1663), (8768.220251909026, 1664), (6800.211974734452, 1665), (6515.65378758778, 1666), (6880.1990489391865, 1667), (6381.23829874641, 1668), (6414.291574876141, 1669), (9135.305379570042, 1670), (6932.313593361326, 1671), (7068.490111254016, 1672), (6178.652438469719, 1673), (6201.838110966268, 1674), (6204.751057080228, 1675), (8160.968471721134, 1676), (6269.8157824803, 1677), (9289.46695416259, 1678), (6496.1317816135015, 1679), (6507.761608721602, 1680), (7371.132942150601, 1681), (6622.1670633393305, 1682), (7329.821347592308, 1683), (6705.522399599589, 1684), (8450.23862106567, 1685), (6327.242283280525, 1686), (6332.5008137407585, 1687), (9780.854453335152, 1688), (10666.613083214903, 1689), (8482.900687676203, 1690), (7757.717428239895, 1691), (6411.7967781233965, 1692), (6885.190318878178, 1693), (9278.55783901733, 1694), (7137.178767985758, 1695), (6866.325768000302, 1696), (8982.087329581047, 1697), (5551.561671747337, 1698), (6812.40366897913, 1699), (6685.4977572816715, 1700), (7503.271681195318, 1701), (7088.785724395134, 1702), (7973.241488412938, 1703), (6316.793627706761, 1704), (7241.242982837341, 1705), (7330.210363915124, 1706), (9629.110446007453, 1707), (9779.663101771004, 1708), (5758.585652688187, 1709), (7363.785410707997, 1710), (6756.035799257271, 1711), (9165.612003234006, 1712), (7022.004959119419, 1713), (8798.014140509713, 1714), (7597.628439917829, 1715), (8361.410662879967, 1716), (7199.919560588603, 1717), (6861.130369596375, 1718), (7837.22749389197, 1719), (6307.368742029643, 1720), (9078.093615438733, 1721), (8427.77804592984, 1722), (9101.978255608545, 1723), (9093.799325013882, 1724), (8327.55456286606, 1725), (8298.148781626594, 1726), (6711.219740551543, 1727), (7944.160335837728, 1728), (7075.354137830016, 1729), (8591.835891178895, 1730), (9097.8879987039, 1731), (8135.695062752981, 1732), (8532.208306924804, 1733), (9608.624902519252, 1734), (6938.550418915441, 1735), (6043.708745196208, 1736), (10712.468490082703, 1737), (9716.52424057499, 1738), (6195.815886089975, 1739), (8019.413357531901, 1740), (8809.849927617834, 1741), (9681.256399114398, 1742), (8166.959383854682, 1743), (9456.996408074261, 1744), (7357.58728033155, 1745), (9326.838073691366, 1746), (8335.485997745964, 1747), (8342.047694526245, 1748), (5897.975315084771, 1749), (7637.013373975614, 1750), (7829.259909589939, 1751), (7126.280513926008, 1752), (8089.901029244799, 1753), (8382.444918151135, 1754), (6830.116224078023, 1755), (8813.685208254836, 1756), (7948.028410804303, 1757), (9049.869520269016, 1758), (6585.807520560212, 1759), (8091.298402771998, 1760), (7782.200487954708, 1761), (10327.318139774157, 1762), (7142.816429827936, 1763), (7869.4909674687215, 1764), (7015.38299008597, 1765), (7371.775320878214, 1766), (7294.180040355073, 1767), (6158.239711783892, 1768), (8107.502573323195, 1769), (5539.5459921670235, 1770), (7902.951574356659, 1771), (9920.619728200985, 1772), (7301.621687868669, 1773), (8266.923382060366, 1774), (7636.130822515132, 1775), (7588.684415388292, 1776), (7942.957096399271, 1777), (6375.736903699373, 1778), (6402.646354754056, 1779), (6209.302723396456, 1780), (6747.3536225622975, 1781), (6236.569058847438, 1782), (6856.421743238565, 1783), (6902.797599359754, 1784), (8850.449928431686, 1785), (6702.763408948527, 1786), (7808.339091170273, 1787), (7072.260267762719, 1788), (7782.901185661285, 1789), (5892.424401819998, 1790), (7830.578441282661, 1791), (5969.637564474362, 1792), (7089.771835330835, 1793), (8096.6156930465195, 1794), (6847.388255878876, 1795), (6772.602584675367, 1796), (8512.495775356954, 1797), (8751.857839124834, 1798), (7002.48838724039, 1799), (7385.735031583991, 1800), (8582.7690131202, 1801), (6134.229324798346, 1802), (6397.902980263066, 1803), (7125.07624886884, 1804), (6020.3216331095555, 1805), (10198.595731859366, 1806), (8365.537630657098, 1807), (6268.348678512974, 1808), (8483.162977842783, 1809), (8890.475636861858, 1810), (7042.611700079732, 1811), (9711.059888442944, 1812), (8227.097862578605, 1813), (7030.375362368704, 1814), (6540.99110919269, 1815), (6336.29849036551, 1816), (7136.422713366406, 1817), (7301.379737342582, 1818), (11022.807892802417, 1819), (9653.82875789165, 1820), (9247.20001958143, 1821), (5029.852377785219, 1822), (7733.779394518608, 1823), (7792.393582766859, 1824), (8780.657913686497, 1825), (6304.121020187261, 1826), (5770.14402299919, 1827), (8017.836886356711, 1828), (7403.409618970552, 1829), (7174.0305050753495, 1830), (8124.943146656749, 1831), (6795.63840036106, 1832), (6002.544227948506, 1833), (6282.7436802451875, 1834), (9507.367972025104, 1835), (8017.5221902626245, 1836), (5656.580758784524, 1837), (7171.861754859984, 1838), (7164.125511442663, 1839), (7701.381652429693, 1840), (7565.159279309915, 1841), (8003.909797335825, 1842), (5588.170911580491, 1843), (6752.8897543973135, 1844), (6380.421991873385, 1845), (9889.87070242008, 1846), (5964.27071173708, 1847), (6738.512686459509, 1848), (8046.597181662276, 1849), (6032.802726857934, 1850), (8075.472658087583, 1851), (6336.160355247977, 1852), (6233.147438558684, 1853), (6177.629473490923, 1854), (7701.809854511354, 1855), (6557.08290835957, 1856), (9026.375908238017, 1857), (6950.270466444684, 1858), (12424.956723169886, 1859), (8407.52671908196, 1860), (10287.534584437059, 1861), (5255.985745034596, 1862), (7512.9648309666945, 1863), (6620.475304885375, 1864), (7003.442997198052, 1865), (5935.424573425561, 1866), (10393.190211317671, 1867), (5613.6473514193285, 1868), (7493.53930431716, 1869), (7629.050373273815, 1870), (8544.940934522685, 1871), (6176.324968506797, 1872), (6509.113131391944, 1873), (6833.198764007033, 1874), (7944.026294559587, 1875), (6940.584715345728, 1876), (7269.416892630818, 1877), (6979.227807618882, 1878), (8516.23386068071, 1879), (7855.527395803611, 1880), (9782.391019291324, 1881), (7228.4632059898295, 1882), (7013.133269549684, 1883), (7325.107550003346, 1884), (6758.240090923425, 1885), (6781.530445238729, 1886), (12877.484034177862, 1887), (5971.388129174138, 1888), (6510.472816975573, 1889), (7686.219550530028, 1890), (7083.430568145753, 1891), (8812.334483298926, 1892), (7101.233131690548, 1893), (8478.578236464718, 1894), (7169.07925285905, 1895), (6771.311414887144, 1896), (6501.398979681435, 1897), (6932.572317582901, 1898), (7057.189356836682, 1899), (9098.731006498218, 1900), (7365.670923719696, 1901), (5418.3734709047385, 1902), (6404.84330617309, 1903), (6017.073711041749, 1904), (6213.273697060606, 1905), (7137.904856537614, 1906), (9853.939183053271, 1907), (7202.192949732837, 1908), (6549.420686724644, 1909), (5823.266710390125, 1910), (9203.931422623624, 1911), (6007.927097355555, 1912), (4675.377094138281, 1913), (6367.80368318685, 1914), (7413.591158135163, 1915), (8038.371238249825, 1916), (8313.54760496167, 1917), (6211.674048147523, 1918), (5132.142891292321, 1919), (11497.157640878297, 1920), (5614.558419564448, 1921), (8377.853811397032, 1922), (6142.9806915245645, 1923), (7495.3916481470405, 1924), (10691.759014806194, 1925), (6368.428099199962, 1926), (6803.703557725901, 1927), (8367.38114013107, 1928), (10220.505402592407, 1929), (6093.63190770616, 1930), (5709.337785508864, 1931), (7361.193447051575, 1932), (8393.019129321552, 1933), (8474.470476484588, 1934), (6268.018594709063, 1935), (7348.10831910916, 1936), (8987.452599201419, 1937), (5078.656219967581, 1938), (7721.130086040897, 1939), (6362.388134500314, 1940), (6712.09894265259, 1941), (4988.281717992976, 1942), (6936.131350102634, 1943), (7268.913631865239, 1944), (6214.317403534187, 1945), (7346.0218966592065, 1946), (7434.6899229366145, 1947), (7749.090107213938, 1948), (8192.84554369203, 1949), (5792.668264957682, 1950), (7075.195278825331, 1951), (8363.183050360758, 1952), (13625.675202175858, 1953), (7127.775448257961, 1954), (8760.705145298389, 1955), (6875.825636868978, 1956), (6544.778254282526, 1957), (4735.350271947722, 1958), (8609.563109192453, 1959), (5232.177175090934, 1960), (8397.032027199204, 1961), (6590.269479374823, 1962), (7789.278517166934, 1963), (7523.488736052492, 1964), (6113.6528732435945, 1965), (7516.9708371343495, 1966), (6371.571472728853, 1967), (7716.461431287306, 1968), (5726.410360526912, 1969), (6571.663055218804, 1970), (5969.3861859110675, 1971), (7764.507889595415, 1972), (10034.923993359005, 1973), (6335.989721146714, 1974), (6199.456478777572, 1975), (7336.197449152708, 1976), (5863.08416047359, 1977), (6907.181206105122, 1978), (8774.456413931479, 1979), (5678.751202884321, 1980), (8950.372165935241, 1981), (6737.231190826313, 1982), (6792.340117690374, 1983), (6911.119786420469, 1984), (6562.771538474867, 1985), (6759.641688914274, 1986), (5961.345952044178, 1987), (6634.19854511592, 1988), (7667.813616409703, 1989), (6646.657166112446, 1990), (9528.341167512017, 1991), (5987.244939751425, 1992), (6406.550181511498, 1993), (8102.365290471483, 1994), (6504.611124101714, 1995), (7552.95300649098, 1996), (6672.54970632118, 1997), (6298.317394291377, 1998), (8853.562836663286, 1999)]\n"
     ]
    }
   ],
   "source": [
    "print (rank_list[1])"
   ]
  },
  {
   "cell_type": "code",
   "execution_count": 42,
   "metadata": {},
   "outputs": [
    {
     "name": "stdout",
     "output_type": "stream",
     "text": [
      "[-0.23401783  1.39268043 -0.82493173 ... -0.24929769  1.57460707\n",
      "  1.21773325]\n",
      "[-0.44294778  1.45647002  1.12924375 ... -0.24929769 -0.51405711\n",
      " -0.34727543]\n"
     ]
    }
   ],
   "source": [
    "print(features_test_concat[0])\n",
    "print(features_test_concat[1])"
   ]
  },
  {
   "cell_type": "code",
   "execution_count": null,
   "metadata": {},
   "outputs": [],
   "source": []
  }
 ],
 "metadata": {
  "kernelspec": {
   "display_name": "Python 3",
   "language": "python",
   "name": "python3"
  },
  "language_info": {
   "codemirror_mode": {
    "name": "ipython",
    "version": 3
   },
   "file_extension": ".py",
   "mimetype": "text/x-python",
   "name": "python",
   "nbconvert_exporter": "python",
   "pygments_lexer": "ipython3",
   "version": "3.7.0"
  }
 },
 "nbformat": 4,
 "nbformat_minor": 2
}
