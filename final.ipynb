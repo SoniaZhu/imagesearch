{
 "cells": [
  {
   "cell_type": "code",
   "execution_count": 1,
   "metadata": {},
   "outputs": [
    {
     "name": "stderr",
     "output_type": "stream",
     "text": [
      "/anaconda3/anaconda3/lib/python3.7/site-packages/sklearn/ensemble/weight_boosting.py:29: DeprecationWarning: numpy.core.umath_tests is an internal NumPy module and should not be imported. It will be removed in a future NumPy release.\n",
      "  from numpy.core.umath_tests import inner1d\n"
     ]
    },
    {
     "name": "stdout",
     "output_type": "stream",
     "text": [
      "Finished loading tags\n"
     ]
    }
   ],
   "source": [
    "import numpy as np\n",
    "import csv\n",
    "from sklearn.ensemble import RandomForestRegressor\n",
    "\n",
    "# Find set of supercategories, categories \n",
    "supercategory_set = set()\n",
    "category_set = set()\n",
    "for i in range (10000):\n",
    "\tfile = open(\"tags_train/\" + str(i) + \".txt\", \"r\")\n",
    "\tlines = file.readlines() \n",
    "\tfor  line in lines:\n",
    "\t\twords = line.strip().split(':')\n",
    "\t\tsupercategory_set.add(words[0])\n",
    "\t\tcategory_set.add(words[1])\n",
    "\tfile.close()\n",
    "\n",
    "# mapping from (super) category to index\n",
    "supercategory_dict = {item:val for val, item in enumerate(supercategory_set)}\n",
    "category_dict = {item:val+1 for val, item in enumerate(category_set)}\n",
    "\n",
    "# Vectorize train tags\n",
    "train_tags = []\n",
    "for i in range (10000):\n",
    "\tfile = open(\"tags_train/\" + str(i) + \".txt\", \"r\")\n",
    "\tlines = file.readlines() \n",
    "\trow = np.zeros(len(supercategory_set))\n",
    "\tfor line in lines:\n",
    "\t\twords = line.strip().split(':')\t\t\n",
    "\t\tsupercategory_column = supercategory_dict.get(words[0])\n",
    "\t\tcategory_index = category_dict.get(words[1])\n",
    "\t\trow[supercategory_column] = category_index\n",
    "\ttrain_tags.append(row)\n",
    "\tfile.close()\n",
    "    \n",
    "print (\"Finished loading tags\")"
   ]
  },
  {
   "cell_type": "code",
   "execution_count": 2,
   "metadata": {},
   "outputs": [
    {
     "name": "stdout",
     "output_type": "stream",
     "text": [
      "Finished loading queries\n"
     ]
    }
   ],
   "source": [
    "# Load train queries\n",
    "query = []\n",
    "with open('query_glove.csv', 'r') as csvfile:\n",
    "\tcsv_reader = csv.reader(csvfile)\n",
    "\tfor line in csv_reader:\n",
    "\t\tquery.append(line)\n",
    "print (\"Finished loading queries\")"
   ]
  },
  {
   "cell_type": "code",
   "execution_count": 5,
   "metadata": {},
   "outputs": [
    {
     "data": {
      "text/plain": [
       "RandomForestRegressor(bootstrap=True, criterion='mse', max_depth=2,\n",
       "           max_features='auto', max_leaf_nodes=None,\n",
       "           min_impurity_decrease=0.0, min_impurity_split=None,\n",
       "           min_samples_leaf=1, min_samples_split=2,\n",
       "           min_weight_fraction_leaf=0.0, n_estimators=100, n_jobs=1,\n",
       "           oob_score=False, random_state=0, verbose=0, warm_start=False)"
      ]
     },
     "execution_count": 5,
     "metadata": {},
     "output_type": "execute_result"
    }
   ],
   "source": [
    "# Train tags with RandomForest\n",
    "clf_tags = RandomForestRegressor(max_depth=2, random_state=0,n_estimators=100)\n",
    "clf_tags.fit(query,train_tags)"
   ]
  },
  {
   "cell_type": "code",
   "execution_count": 4,
   "metadata": {},
   "outputs": [],
   "source": [
    "# Reading 1000-d train features \n",
    "features_train = np.zeros((10000,1000))\n",
    "with open('features_train/features_resnet1000_train.csv', 'r') as csvfile:\n",
    "\tcsv_reader = csv.reader(csvfile)\n",
    "\tfor line in csv_reader:\n",
    "\t\timage_name = line[0].strip(\".jpg\")[13:]\n",
    "\t\trow = []\n",
    "\t\tfor i in range(len(line)):\n",
    "\t\t\tif i > 0:\n",
    "\t\t\t\trow.append(float(line[i]))\t\t\n",
    "\t\tfeatures_train[int(image_name)] = row"
   ]
  },
  {
   "cell_type": "code",
   "execution_count": 6,
   "metadata": {},
   "outputs": [],
   "source": [
    "# Reading 2048-d train features \n",
    "features_train_2048 = np.zeros((10000,2048))\n",
    "with open('features_train/features_resnet1000intermediate_train.csv', 'r') as csvfile:\n",
    "\tcsv_reader = csv.reader(csvfile)\n",
    "\tfor line in csv_reader:\n",
    "\t\timage_name = line[0].strip(\".jpg\")[13:]\n",
    "\t\trow = []\n",
    "\t\tfor i in range(len(line)):\n",
    "\t\t\tif i > 0:\n",
    "\t\t\t\trow.append(float(line[i]))\t\t\n",
    "\t\tfeatures_train_2048[int(image_name)] = row"
   ]
  },
  {
   "cell_type": "code",
   "execution_count": 7,
   "metadata": {},
   "outputs": [
    {
     "name": "stdout",
     "output_type": "stream",
     "text": [
      "building tree 1 of 100\n"
     ]
    },
    {
     "name": "stderr",
     "output_type": "stream",
     "text": [
      "[Parallel(n_jobs=1)]: Done   1 out of   1 | elapsed:   16.5s remaining:    0.0s\n"
     ]
    },
    {
     "name": "stdout",
     "output_type": "stream",
     "text": [
      "building tree 2 of 100\n"
     ]
    },
    {
     "name": "stderr",
     "output_type": "stream",
     "text": [
      "[Parallel(n_jobs=1)]: Done   2 out of   2 | elapsed:   33.2s remaining:    0.0s\n"
     ]
    },
    {
     "name": "stdout",
     "output_type": "stream",
     "text": [
      "building tree 3 of 100\n",
      "building tree 4 of 100\n",
      "building tree 5 of 100\n",
      "building tree 6 of 100\n",
      "building tree 7 of 100\n",
      "building tree 8 of 100\n",
      "building tree 9 of 100\n",
      "building tree 10 of 100\n",
      "building tree 11 of 100\n",
      "building tree 12 of 100\n",
      "building tree 13 of 100\n",
      "building tree 14 of 100\n",
      "building tree 15 of 100\n",
      "building tree 16 of 100\n",
      "building tree 17 of 100\n",
      "building tree 18 of 100\n",
      "building tree 19 of 100\n",
      "building tree 20 of 100\n",
      "building tree 21 of 100\n",
      "building tree 22 of 100\n",
      "building tree 23 of 100\n",
      "building tree 24 of 100\n",
      "building tree 25 of 100\n",
      "building tree 26 of 100\n",
      "building tree 27 of 100\n",
      "building tree 28 of 100\n",
      "building tree 29 of 100\n",
      "building tree 30 of 100\n",
      "building tree 31 of 100\n",
      "building tree 32 of 100\n",
      "building tree 33 of 100\n",
      "building tree 34 of 100\n",
      "building tree 35 of 100\n",
      "building tree 36 of 100\n",
      "building tree 37 of 100\n",
      "building tree 38 of 100\n",
      "building tree 39 of 100\n",
      "building tree 40 of 100\n",
      "building tree 41 of 100\n",
      "building tree 42 of 100\n",
      "building tree 43 of 100\n",
      "building tree 44 of 100\n",
      "building tree 45 of 100\n",
      "building tree 46 of 100\n",
      "building tree 47 of 100\n",
      "building tree 48 of 100\n",
      "building tree 49 of 100\n",
      "building tree 50 of 100\n",
      "building tree 51 of 100\n",
      "building tree 52 of 100\n",
      "building tree 53 of 100\n",
      "building tree 54 of 100\n",
      "building tree 55 of 100\n",
      "building tree 56 of 100\n",
      "building tree 57 of 100\n",
      "building tree 58 of 100\n",
      "building tree 59 of 100\n",
      "building tree 60 of 100\n",
      "building tree 61 of 100\n",
      "building tree 62 of 100\n",
      "building tree 63 of 100\n",
      "building tree 64 of 100\n",
      "building tree 65 of 100\n",
      "building tree 66 of 100\n",
      "building tree 67 of 100\n",
      "building tree 68 of 100\n",
      "building tree 69 of 100\n",
      "building tree 70 of 100\n",
      "building tree 71 of 100\n",
      "building tree 72 of 100\n",
      "building tree 73 of 100\n",
      "building tree 74 of 100\n",
      "building tree 75 of 100\n",
      "building tree 76 of 100\n",
      "building tree 77 of 100\n",
      "building tree 78 of 100\n",
      "building tree 79 of 100\n",
      "building tree 80 of 100\n",
      "building tree 81 of 100\n",
      "building tree 82 of 100\n",
      "building tree 83 of 100\n",
      "building tree 84 of 100\n",
      "building tree 85 of 100\n",
      "building tree 86 of 100\n",
      "building tree 87 of 100\n",
      "building tree 88 of 100\n",
      "building tree 89 of 100\n",
      "building tree 90 of 100\n",
      "building tree 91 of 100\n",
      "building tree 92 of 100\n",
      "building tree 93 of 100\n",
      "building tree 94 of 100\n",
      "building tree 95 of 100\n",
      "building tree 96 of 100\n",
      "building tree 97 of 100\n",
      "building tree 98 of 100\n",
      "building tree 99 of 100\n",
      "building tree 100 of 100\n"
     ]
    },
    {
     "name": "stderr",
     "output_type": "stream",
     "text": [
      "[Parallel(n_jobs=1)]: Done 100 out of 100 | elapsed: 27.9min finished\n"
     ]
    },
    {
     "data": {
      "text/plain": [
       "RandomForestRegressor(bootstrap=True, criterion='mse', max_depth=2,\n",
       "           max_features='auto', max_leaf_nodes=None,\n",
       "           min_impurity_decrease=0.0, min_impurity_split=None,\n",
       "           min_samples_leaf=1, min_samples_split=2,\n",
       "           min_weight_fraction_leaf=0.0, n_estimators=100, n_jobs=1,\n",
       "           oob_score=False, random_state=0, verbose=3, warm_start=False)"
      ]
     },
     "execution_count": 7,
     "metadata": {},
     "output_type": "execute_result"
    }
   ],
   "source": [
    "# Train 2048-d with RandomForest\n",
    "clf_2048 = RandomForestRegressor(max_depth=2, random_state=0,n_estimators=100,verbose=3)\n",
    "clf_2048.fit(query,features_train_2048)"
   ]
  },
  {
   "cell_type": "code",
   "execution_count": 19,
   "metadata": {},
   "outputs": [
    {
     "name": "stdout",
     "output_type": "stream",
     "text": [
      "Finished loading queries\n"
     ]
    }
   ],
   "source": [
    "# Load test queries\n",
    "query_test = []\n",
    "with open('query_glove_test.csv', 'r') as csvfile:\n",
    "\tcsv_reader = csv.reader(csvfile)\n",
    "\tfor line in csv_reader:\n",
    "\t\tquery_test.append(line)\n",
    "print (\"Finished loading queries\")\n",
    "tags_predict = clf_tags.predict(query_test)\n",
    "\n",
    "# Vectorize test tags\n",
    "test_tags = []\n",
    "for i in range (2000):\n",
    "\tfile = open(\"tags_test/\" + str(i) + \".txt\", \"r\")\n",
    "\tlines = file.readlines() \n",
    "\trow = np.zeros(len(supercategory_set))\n",
    "\tfor line in lines:\n",
    "\t\twords = line.strip().split(':')\t\t\n",
    "\t\tsupercategory_column = supercategory_dict.get(words[0])\n",
    "\t\tcategory_index = category_dict.get(words[1])\n",
    "\t\trow[supercategory_column] = category_index\n",
    "\ttest_tags.append(row)\n",
    "\tfile.close()"
   ]
  },
  {
   "cell_type": "code",
   "execution_count": 29,
   "metadata": {},
   "outputs": [],
   "source": [
    "rank_list_tags = []\n",
    "for i in range (2000):\n",
    "    guess = tags_predict[i]\n",
    "    dist = []\n",
    "    for j in range(2000):\n",
    "        dist.append((np.linalg.norm(guess-test_tags[j]),j))\n",
    "    dist.sort()\n",
    "    rank_list_tags.append([v for (k,v) in dist[:20]])\n",
    "with open('tags_submission.csv', 'w', newline='') as csvfile:\n",
    "    csv_writer = csv.writer(csvfile, delimiter=',')\n",
    "    csv_writer.writerow([\"Descritpion_ID\", \"Top_20_Image_IDs\"])\n",
    "    for i in range(len(rank_list_tags)):\n",
    "        csv_writer.writerow([str(i) + \".txt\", mergeTwenty(rank_list_tags[i])])"
   ]
  },
  {
   "cell_type": "code",
   "execution_count": 28,
   "metadata": {},
   "outputs": [
    {
     "name": "stderr",
     "output_type": "stream",
     "text": [
      "[Parallel(n_jobs=1)]: Done   1 out of   1 | elapsed:    0.0s remaining:    0.0s\n",
      "[Parallel(n_jobs=1)]: Done   2 out of   2 | elapsed:    0.1s remaining:    0.0s\n",
      "[Parallel(n_jobs=1)]: Done 100 out of 100 | elapsed:    1.7s finished\n"
     ]
    }
   ],
   "source": [
    "feature_2048_predict = clf_2048.predict(query_test)\n",
    "#Reading 2048-d test features \n",
    "features_test_2048 = np.zeros((2000,2048))\n",
    "with open('features_test/features_resnet1000intermediate_test.csv', 'r') as csvfile:\n",
    "\tcsv_reader = csv.reader(csvfile)\n",
    "\tfor line in csv_reader:\n",
    "\t\timage_name = line[0].strip(\".jpg\")[12:]\n",
    "\t\trow = []\n",
    "\t\tfor i in range(len(line)):\n",
    "\t\t\tif i > 0:\n",
    "\t\t\t\trow.append(float(line[i]))\t\t\n",
    "\t\tfeatures_test_2048[int(image_name)] = row\n",
    "\n",
    "\n",
    "rank_list = []\n",
    "for i in range (2000):\n",
    "    guess = feature_2048_predict[i]\n",
    "    dist = []\n",
    "    for j in range(2000):\n",
    "        dist.append((np.linalg.norm(guess-features_test_2048[j]),j))\n",
    "    dist.sort()\n",
    "    rank_list.append([v for (k,v) in dist[:20]])\n",
    "\n",
    "def mergeTwenty(lst):\n",
    "    result = str(lst[0])+\".jpg\"\n",
    "    for i in range(1,len(lst)):\n",
    "        result += \" \" + str(lst[i]) + \".jpg\"\n",
    "    return result\n",
    "\n",
    "with open('2048_submission.csv', 'w', newline='') as csvfile:\n",
    "    csv_writer = csv.writer(csvfile, delimiter=',')\n",
    "    csv_writer.writerow([\"Descritpion_ID\", \"Top_20_Image_IDs\"])\n",
    "    for i in range(len(rank_list)):\n",
    "        csv_writer.writerow([str(i) + \".txt\", mergeTwenty(rank_list[i])])"
   ]
  },
  {
   "cell_type": "code",
   "execution_count": 46,
   "metadata": {},
   "outputs": [
    {
     "data": {
      "text/plain": [
       "KNeighborsRegressor(algorithm='auto', leaf_size=30, metric='minkowski',\n",
       "          metric_params=None, n_jobs=1, n_neighbors=5, p=2,\n",
       "          weights='uniform')"
      ]
     },
     "execution_count": 46,
     "metadata": {},
     "output_type": "execute_result"
    }
   ],
   "source": [
    "from sklearn.neighbors import KNeighborsRegressor\n",
    "clf_knn = KNeighborsRegressor(n_neighbors=5)\n",
    "features_train_concat = np.concatenate((np.array(features_train_2048),np.array(features_train)), axis=1)\n",
    "features_train_concat = np.concatenate((features_train_concat, np.array(train_tags)), axis=1)\n",
    "clf_knn.fit(query,features_train_concat)"
   ]
  },
  {
   "cell_type": "code",
   "execution_count": 47,
   "metadata": {},
   "outputs": [],
   "source": [
    "knn_predict_2048 = clf_knn.predict(query_test)\n",
    "features_test_2048 = np.zeros((2000,2048))\n",
    "with open('features_test/features_resnet1000intermediate_test.csv', 'r') as csvfile:\n",
    "\tcsv_reader = csv.reader(csvfile)\n",
    "\tfor line in csv_reader:\n",
    "\t\timage_name = line[0].strip(\".jpg\")[12:]\n",
    "\t\trow = []\n",
    "\t\tfor i in range(len(line)):\n",
    "\t\t\tif i > 0:\n",
    "\t\t\t\trow.append(float(line[i]))\t\t\n",
    "\t\tfeatures_test_2048[int(image_name)] = row\n",
    "\n",
    "features_test_1000 = np.zeros((2000,1000))    \n",
    "with open('features_test/features_resnet1000_test.csv', 'r') as csvfile:\n",
    "\tcsv_reader = csv.reader(csvfile)\n",
    "\tfor line in csv_reader:\n",
    "\t\timage_name = line[0].strip(\".jpg\")[12:]\n",
    "\t\trow = []\n",
    "\t\tfor i in range(len(line)):\n",
    "\t\t\tif i > 0:\n",
    "\t\t\t\trow.append(float(line[i]))\t\t\n",
    "\t\tfeatures_test_1000[int(image_name)] = row\n",
    "        \n",
    "features_test_concat = np.concatenate((np.array(features_test_2048),np.array(features_test_1000)), axis=1)\n",
    "features_test_concat = np.concatenate((features_test_concat, np.array(test_tags)), axis=1)\n",
    "\n",
    "rank_list = []\n",
    "for i in range (2000):\n",
    "    guess = knn_predict_2048[i]\n",
    "    dist = []\n",
    "    for j in range(2000):\n",
    "        dist.append((np.linalg.norm(guess-features_test_concat[j]),j))\n",
    "    dist.sort()\n",
    "    rank_list.append([v for (k,v) in dist[:20]])\n",
    "\n",
    "def mergeTwenty(lst):\n",
    "    result = str(lst[0])+\".jpg\"\n",
    "    for i in range(1,len(lst)):\n",
    "        result += \" \" + str(lst[i]) + \".jpg\"\n",
    "    return result\n",
    "\n",
    "with open('2048_submission_knn_concat.csv', 'w', newline='') as csvfile:\n",
    "    csv_writer = csv.writer(csvfile, delimiter=',')\n",
    "    csv_writer.writerow([\"Descritpion_ID\", \"Top_20_Image_IDs\"])\n",
    "    for i in range(len(rank_list)):\n",
    "        csv_writer.writerow([str(i) + \".txt\", mergeTwenty(rank_list[i])])"
   ]
  },
  {
   "cell_type": "code",
   "execution_count": 130,
   "metadata": {},
   "outputs": [],
   "source": [
    "from sklearn import svm\n",
    "clf_svm = svm.SVC(gamma=0.001)\n",
    "train_query = np.array(query,dtype=float)\n",
    "X_train_1 = np.concatenate((train_query,features_train_concat),axis=1)\n",
    "Y_train_1 = np.ones(10000)"
   ]
  },
  {
   "cell_type": "code",
   "execution_count": 131,
   "metadata": {},
   "outputs": [],
   "source": [
    "train_query_reordered = np.concatenate((train_query[5000:10000],train_query[0:5000]),axis=0)\n",
    "X_train_0 = np.concatenate((train_query_reordered,features_train_concat),axis=1)"
   ]
  },
  {
   "cell_type": "code",
   "execution_count": 132,
   "metadata": {},
   "outputs": [],
   "source": [
    "Y_train_0 = np.zeros(10000)\n",
    "X_train = np.concatenate((X_train_1,X_train_0),axis=0)\n",
    "Y_train = np.concatenate((Y_train_1,Y_train_0),axis=0)"
   ]
  },
  {
   "cell_type": "code",
   "execution_count": null,
   "metadata": {},
   "outputs": [
    {
     "name": "stdout",
     "output_type": "stream",
     "text": [
      "[LibSVM]"
     ]
    }
   ],
   "source": [
    "clf_svm = svm.SVC(gamma=0.001,verbose=True,probability=True)\n",
    "clf_svm.fit(X_train,Y_train)"
   ]
  },
  {
   "cell_type": "code",
   "execution_count": 153,
   "metadata": {},
   "outputs": [
    {
     "name": "stdout",
     "output_type": "stream",
     "text": [
      "Running Test0\n"
     ]
    },
    {
     "ename": "AxisError",
     "evalue": "axis 1 is out of bounds for array of dimension 1",
     "output_type": "error",
     "traceback": [
      "\u001b[0;31m---------------------------------------------------------------------------\u001b[0m",
      "\u001b[0;31mAxisError\u001b[0m                                 Traceback (most recent call last)",
      "\u001b[0;32m<ipython-input-153-e48fe5a816ff>\u001b[0m in \u001b[0;36m<module>\u001b[0;34m()\u001b[0m\n\u001b[1;32m      8\u001b[0m     \u001b[0mX_test\u001b[0m \u001b[0;34m=\u001b[0m \u001b[0mnp\u001b[0m\u001b[0;34m.\u001b[0m\u001b[0mconcatenate\u001b[0m\u001b[0;34m(\u001b[0m\u001b[0;34m(\u001b[0m\u001b[0mquery_repeat\u001b[0m\u001b[0;34m,\u001b[0m\u001b[0mfeatures_test_concat\u001b[0m\u001b[0;34m)\u001b[0m\u001b[0;34m,\u001b[0m\u001b[0maxis\u001b[0m\u001b[0;34m=\u001b[0m\u001b[0;36m1\u001b[0m\u001b[0;34m)\u001b[0m\u001b[0;34m\u001b[0m\u001b[0m\n\u001b[1;32m      9\u001b[0m     \u001b[0msvm_predictions\u001b[0m \u001b[0;34m=\u001b[0m \u001b[0mclf_svm\u001b[0m\u001b[0;34m.\u001b[0m\u001b[0mpredict\u001b[0m\u001b[0;34m(\u001b[0m\u001b[0mX_test\u001b[0m\u001b[0;34m)\u001b[0m\u001b[0;34m\u001b[0m\u001b[0m\n\u001b[0;32m---> 10\u001b[0;31m     \u001b[0mpredictions_indices\u001b[0m \u001b[0;34m=\u001b[0m \u001b[0mnp\u001b[0m\u001b[0;34m.\u001b[0m\u001b[0mconcatenate\u001b[0m\u001b[0;34m(\u001b[0m\u001b[0;34m(\u001b[0m\u001b[0msvm_predictions\u001b[0m\u001b[0;34m,\u001b[0m\u001b[0mnp\u001b[0m\u001b[0;34m.\u001b[0m\u001b[0marange\u001b[0m\u001b[0;34m(\u001b[0m\u001b[0;36m2000\u001b[0m\u001b[0;34m)\u001b[0m\u001b[0;34m)\u001b[0m\u001b[0;34m,\u001b[0m\u001b[0maxis\u001b[0m\u001b[0;34m=\u001b[0m\u001b[0;36m1\u001b[0m\u001b[0;34m)\u001b[0m\u001b[0;34m\u001b[0m\u001b[0m\n\u001b[0m\u001b[1;32m     11\u001b[0m     \u001b[0mpredictions_indices\u001b[0m\u001b[0;34m.\u001b[0m\u001b[0msort\u001b[0m\u001b[0;34m(\u001b[0m\u001b[0;34m)\u001b[0m\u001b[0;34m\u001b[0m\u001b[0m\n\u001b[1;32m     12\u001b[0m     \u001b[0mrank_list\u001b[0m\u001b[0;34m.\u001b[0m\u001b[0mappend\u001b[0m\u001b[0;34m(\u001b[0m\u001b[0;34m[\u001b[0m\u001b[0mv\u001b[0m \u001b[0;32mfor\u001b[0m \u001b[0;34m(\u001b[0m\u001b[0mk\u001b[0m\u001b[0;34m,\u001b[0m\u001b[0mv\u001b[0m\u001b[0;34m)\u001b[0m \u001b[0;32min\u001b[0m \u001b[0mdist\u001b[0m\u001b[0;34m[\u001b[0m\u001b[0;34m:\u001b[0m\u001b[0;36m20\u001b[0m\u001b[0;34m]\u001b[0m\u001b[0;34m]\u001b[0m\u001b[0;34m)\u001b[0m\u001b[0;34m\u001b[0m\u001b[0m\n",
      "\u001b[0;31mAxisError\u001b[0m: axis 1 is out of bounds for array of dimension 1"
     ]
    }
   ],
   "source": [
    "rank_list = []\n",
    "test_query = np.array(query_test,dtype=float)  #2000,300\n",
    "#features_test_concat  => (2000,3060)\n",
    "for i in range (2000):\n",
    "    if ((i % 20) == 0):\n",
    "        print (\"Running Test\"+ str(i))\n",
    "    query_repeat = np.tile(test_query[i],(2000,1))\n",
    "    X_test = np.concatenate((query_repeat,features_test_concat),axis=1)\n",
    "    svm_predictions = clf_svm.predict(X_test)\n",
    "    predictions_indices = np.concatenate((svm_predictions,np.arange(2000)),axis=1)\n",
    "    predictions_indices.sort()\n",
    "    rank_list.append([v for (k,v) in dist[:20]])"
   ]
  },
  {
   "cell_type": "code",
   "execution_count": null,
   "metadata": {},
   "outputs": [],
   "source": [
    "def mergeTwenty(lst):\n",
    "    result = str(lst[0])+\".jpg\"\n",
    "    for i in range(1,len(lst)):\n",
    "        result += \" \" + str(lst[i]) + \".jpg\"\n",
    "    return result\n",
    "\n",
    "with open('svm_submission.csv', 'w', newline='') as csvfile:\n",
    "    csv_writer = csv.writer(csvfile, delimiter=',')\n",
    "    csv_writer.writerow([\"Descritpion_ID\", \"Top_20_Image_IDs\"])\n",
    "    for i in range(len(rank_list)):\n",
    "        csv_writer.writerow([str(i) + \".txt\", mergeTwenty(rank_list[i])])"
   ]
  }
 ],
 "metadata": {
  "kernelspec": {
   "display_name": "Python 3",
   "language": "python",
   "name": "python3"
  },
  "language_info": {
   "codemirror_mode": {
    "name": "ipython",
    "version": 3
   },
   "file_extension": ".py",
   "mimetype": "text/x-python",
   "name": "python",
   "nbconvert_exporter": "python",
   "pygments_lexer": "ipython3",
   "version": "3.7.0"
  }
 },
 "nbformat": 4,
 "nbformat_minor": 2
}
