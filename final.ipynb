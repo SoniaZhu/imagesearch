{
 "cells": [
  {
   "cell_type": "code",
   "execution_count": 3,
   "metadata": {},
   "outputs": [
    {
     "name": "stderr",
     "output_type": "stream",
     "text": [
      "/anaconda3/anaconda3/lib/python3.7/site-packages/sklearn/ensemble/weight_boosting.py:29: DeprecationWarning: numpy.core.umath_tests is an internal NumPy module and should not be imported. It will be removed in a future NumPy release.\n",
      "  from numpy.core.umath_tests import inner1d\n"
     ]
    },
    {
     "name": "stdout",
     "output_type": "stream",
     "text": [
      "Finished loading tags\n"
     ]
    }
   ],
   "source": [
    "import numpy as np\n",
    "import csv\n",
    "from sklearn.ensemble import RandomForestRegressor\n",
    "\n",
    "# Find set of supercategories, categories \n",
    "supercategory_set = set()\n",
    "category_set = set()\n",
    "for i in range (10000):\n",
    "\tfile = open(\"tags_train/\" + str(i) + \".txt\", \"r\")\n",
    "\tlines = file.readlines() \n",
    "\tfor  line in lines:\n",
    "\t\twords = line.strip().split(':')\n",
    "\t\tsupercategory_set.add(words[0])\n",
    "\t\tcategory_set.add(words[1])\n",
    "\tfile.close()\n",
    "\n",
    "# mapping from (super) category to index\n",
    "supercategory_dict = {item:val for val, item in enumerate(supercategory_set)}\n",
    "category_dict = {item:val+1 for val, item in enumerate(category_set)}\n",
    "\n",
    "# Vectorize train tags\n",
    "train_tags = []\n",
    "for i in range (10000):\n",
    "\tfile = open(\"tags_train/\" + str(i) + \".txt\", \"r\")\n",
    "\tlines = file.readlines() \n",
    "\trow = np.zeros(len(supercategory_set))\n",
    "\tfor line in lines:\n",
    "\t\twords = line.strip().split(':')\t\t\n",
    "\t\tsupercategory_column = supercategory_dict.get(words[0])\n",
    "\t\tcategory_index = category_dict.get(words[1])\n",
    "\t\trow[supercategory_column] = category_index\n",
    "\ttrain_tags.append(row)\n",
    "\tfile.close()\n",
    "    \n",
    "print (\"Finished loading tags\")"
   ]
  },
  {
   "cell_type": "code",
   "execution_count": 4,
   "metadata": {},
   "outputs": [
    {
     "name": "stdout",
     "output_type": "stream",
     "text": [
      "Finished loading queries\n"
     ]
    }
   ],
   "source": [
    "# Load train queries\n",
    "query = []\n",
    "with open('query_glove.csv', 'r') as csvfile:\n",
    "\tcsv_reader = csv.reader(csvfile)\n",
    "\tfor line in csv_reader:\n",
    "\t\tquery.append(line)\n",
    "print (\"Finished loading queries\")"
   ]
  },
  {
   "cell_type": "code",
   "execution_count": 5,
   "metadata": {},
   "outputs": [],
   "source": [
    "# Reading 1000-d train features \n",
    "features_train = np.zeros((10000,1000))\n",
    "with open('features_train/features_resnet1000_train.csv', 'r') as csvfile:\n",
    "\tcsv_reader = csv.reader(csvfile)\n",
    "\tfor line in csv_reader:\n",
    "\t\timage_name = line[0].strip(\".jpg\")[13:]\n",
    "\t\trow = []\n",
    "\t\tfor i in range(len(line)):\n",
    "\t\t\tif i > 0:\n",
    "\t\t\t\trow.append(float(line[i]))\t\t\n",
    "\t\tfeatures_train[int(image_name)] = row"
   ]
  },
  {
   "cell_type": "code",
   "execution_count": 6,
   "metadata": {},
   "outputs": [],
   "source": [
    "# Reading 2048-d train features \n",
    "features_train_2048 = np.zeros((10000,2048))\n",
    "with open('features_train/features_resnet1000intermediate_train.csv', 'r') as csvfile:\n",
    "\tcsv_reader = csv.reader(csvfile)\n",
    "\tfor line in csv_reader:\n",
    "\t\timage_name = line[0].strip(\".jpg\")[13:]\n",
    "\t\trow = []\n",
    "\t\tfor i in range(len(line)):\n",
    "\t\t\tif i > 0:\n",
    "\t\t\t\trow.append(float(line[i]))\t\t\n",
    "\t\tfeatures_train_2048[int(image_name)] = row"
   ]
  },
  {
   "cell_type": "code",
   "execution_count": 8,
   "metadata": {},
   "outputs": [
    {
     "name": "stdout",
     "output_type": "stream",
     "text": [
      "Finished loading queries\n"
     ]
    }
   ],
   "source": [
    "# Load test queries\n",
    "query_test = []\n",
    "with open('query_glove_test.csv', 'r') as csvfile:\n",
    "\tcsv_reader = csv.reader(csvfile)\n",
    "\tfor line in csv_reader:\n",
    "\t\tquery_test.append(line)\n",
    "print (\"Finished loading queries\")\n",
    "#tags_predict = clf_tags.predict(query_test)\n",
    "\n",
    "# Vectorize test tags\n",
    "test_tags = []\n",
    "for i in range (2000):\n",
    "\tfile = open(\"tags_test/\" + str(i) + \".txt\", \"r\")\n",
    "\tlines = file.readlines() \n",
    "\trow = np.zeros(len(supercategory_set))\n",
    "\tfor line in lines:\n",
    "\t\twords = line.strip().split(':')\t\t\n",
    "\t\tsupercategory_column = supercategory_dict.get(words[0])\n",
    "\t\tcategory_index = category_dict.get(words[1])\n",
    "\t\trow[supercategory_column] = category_index\n",
    "\ttest_tags.append(row)\n",
    "\tfile.close()"
   ]
  },
  {
   "cell_type": "code",
   "execution_count": 11,
   "metadata": {},
   "outputs": [],
   "source": [
    "from sklearn.neighbors import KNeighborsRegressor\n",
    "#clf_knn = KNeighborsRegressor(n_neighbors=5)\n",
    "features_train_concat = np.concatenate((np.array(features_train_2048),np.array(features_train)), axis=1)\n",
    "features_train_concat = np.concatenate((features_train_concat, np.array(train_tags)), axis=1)\n",
    "#clf_knn.fit(query,features_train_concat)"
   ]
  },
  {
   "cell_type": "code",
   "execution_count": 9,
   "metadata": {},
   "outputs": [],
   "source": [
    "features_test_2048 = np.zeros((2000,2048))\n",
    "with open('features_test/features_resnet1000intermediate_test.csv', 'r') as csvfile:\n",
    "\tcsv_reader = csv.reader(csvfile)\n",
    "\tfor line in csv_reader:\n",
    "\t\timage_name = line[0].strip(\".jpg\")[12:]\n",
    "\t\trow = []\n",
    "\t\tfor i in range(len(line)):\n",
    "\t\t\tif i > 0:\n",
    "\t\t\t\trow.append(float(line[i]))\t\t\n",
    "\t\tfeatures_test_2048[int(image_name)] = row\n",
    "\n",
    "features_test_1000 = np.zeros((2000,1000))    \n",
    "with open('features_test/features_resnet1000_test.csv', 'r') as csvfile:\n",
    "\tcsv_reader = csv.reader(csvfile)\n",
    "\tfor line in csv_reader:\n",
    "\t\timage_name = line[0].strip(\".jpg\")[12:]\n",
    "\t\trow = []\n",
    "\t\tfor i in range(len(line)):\n",
    "\t\t\tif i > 0:\n",
    "\t\t\t\trow.append(float(line[i]))\t\t\n",
    "\t\tfeatures_test_1000[int(image_name)] = row\n",
    "        \n",
    "features_test_concat = np.concatenate((np.array(features_test_2048),np.array(features_test_1000)), axis=1)\n",
    "features_test_concat = np.concatenate((features_test_concat, np.array(test_tags)), axis=1)"
   ]
  },
  {
   "cell_type": "code",
   "execution_count": 12,
   "metadata": {},
   "outputs": [],
   "source": [
    "from sklearn import svm\n",
    "clf_svm = svm.SVC(gamma=0.001)\n",
    "train_query = np.array(query,dtype=float)\n",
    "X_train_1 = np.concatenate((train_query,features_train_concat),axis=1)\n",
    "Y_train_1 = np.ones(10000)"
   ]
  },
  {
   "cell_type": "code",
   "execution_count": 13,
   "metadata": {},
   "outputs": [],
   "source": [
    "train_query_reordered = np.concatenate((train_query[5000:10000],train_query[0:5000]),axis=0)\n",
    "X_train_0 = np.concatenate((train_query_reordered,features_train_concat),axis=1)"
   ]
  },
  {
   "cell_type": "code",
   "execution_count": 14,
   "metadata": {},
   "outputs": [],
   "source": [
    "Y_train_0 = np.zeros(10000)\n",
    "X_train = np.concatenate((X_train_1,X_train_0),axis=0)\n",
    "Y_train = np.concatenate((Y_train_1,Y_train_0),axis=0)"
   ]
  },
  {
   "cell_type": "code",
   "execution_count": 18,
   "metadata": {},
   "outputs": [],
   "source": [
    "np.savetxt(\"X_train.csv\", X_train, delimiter=\",\")"
   ]
  },
  {
   "cell_type": "code",
   "execution_count": 153,
   "metadata": {},
   "outputs": [
    {
     "name": "stdout",
     "output_type": "stream",
     "text": [
      "Running Test0\n"
     ]
    },
    {
     "ename": "AxisError",
     "evalue": "axis 1 is out of bounds for array of dimension 1",
     "output_type": "error",
     "traceback": [
      "\u001b[0;31m---------------------------------------------------------------------------\u001b[0m",
      "\u001b[0;31mAxisError\u001b[0m                                 Traceback (most recent call last)",
      "\u001b[0;32m<ipython-input-153-e48fe5a816ff>\u001b[0m in \u001b[0;36m<module>\u001b[0;34m()\u001b[0m\n\u001b[1;32m      8\u001b[0m     \u001b[0mX_test\u001b[0m \u001b[0;34m=\u001b[0m \u001b[0mnp\u001b[0m\u001b[0;34m.\u001b[0m\u001b[0mconcatenate\u001b[0m\u001b[0;34m(\u001b[0m\u001b[0;34m(\u001b[0m\u001b[0mquery_repeat\u001b[0m\u001b[0;34m,\u001b[0m\u001b[0mfeatures_test_concat\u001b[0m\u001b[0;34m)\u001b[0m\u001b[0;34m,\u001b[0m\u001b[0maxis\u001b[0m\u001b[0;34m=\u001b[0m\u001b[0;36m1\u001b[0m\u001b[0;34m)\u001b[0m\u001b[0;34m\u001b[0m\u001b[0m\n\u001b[1;32m      9\u001b[0m     \u001b[0msvm_predictions\u001b[0m \u001b[0;34m=\u001b[0m \u001b[0mclf_svm\u001b[0m\u001b[0;34m.\u001b[0m\u001b[0mpredict\u001b[0m\u001b[0;34m(\u001b[0m\u001b[0mX_test\u001b[0m\u001b[0;34m)\u001b[0m\u001b[0;34m\u001b[0m\u001b[0m\n\u001b[0;32m---> 10\u001b[0;31m     \u001b[0mpredictions_indices\u001b[0m \u001b[0;34m=\u001b[0m \u001b[0mnp\u001b[0m\u001b[0;34m.\u001b[0m\u001b[0mconcatenate\u001b[0m\u001b[0;34m(\u001b[0m\u001b[0;34m(\u001b[0m\u001b[0msvm_predictions\u001b[0m\u001b[0;34m,\u001b[0m\u001b[0mnp\u001b[0m\u001b[0;34m.\u001b[0m\u001b[0marange\u001b[0m\u001b[0;34m(\u001b[0m\u001b[0;36m2000\u001b[0m\u001b[0;34m)\u001b[0m\u001b[0;34m)\u001b[0m\u001b[0;34m,\u001b[0m\u001b[0maxis\u001b[0m\u001b[0;34m=\u001b[0m\u001b[0;36m1\u001b[0m\u001b[0;34m)\u001b[0m\u001b[0;34m\u001b[0m\u001b[0m\n\u001b[0m\u001b[1;32m     11\u001b[0m     \u001b[0mpredictions_indices\u001b[0m\u001b[0;34m.\u001b[0m\u001b[0msort\u001b[0m\u001b[0;34m(\u001b[0m\u001b[0;34m)\u001b[0m\u001b[0;34m\u001b[0m\u001b[0m\n\u001b[1;32m     12\u001b[0m     \u001b[0mrank_list\u001b[0m\u001b[0;34m.\u001b[0m\u001b[0mappend\u001b[0m\u001b[0;34m(\u001b[0m\u001b[0;34m[\u001b[0m\u001b[0mv\u001b[0m \u001b[0;32mfor\u001b[0m \u001b[0;34m(\u001b[0m\u001b[0mk\u001b[0m\u001b[0;34m,\u001b[0m\u001b[0mv\u001b[0m\u001b[0;34m)\u001b[0m \u001b[0;32min\u001b[0m \u001b[0mdist\u001b[0m\u001b[0;34m[\u001b[0m\u001b[0;34m:\u001b[0m\u001b[0;36m20\u001b[0m\u001b[0;34m]\u001b[0m\u001b[0;34m]\u001b[0m\u001b[0;34m)\u001b[0m\u001b[0;34m\u001b[0m\u001b[0m\n",
      "\u001b[0;31mAxisError\u001b[0m: axis 1 is out of bounds for array of dimension 1"
     ]
    }
   ],
   "source": [
    "rank_list = []\n",
    "test_query = np.array(query_test,dtype=float)  #2000,300\n",
    "#features_test_concat  => (2000,3060)\n",
    "for i in range (2000):\n",
    "    if ((i % 20) == 0):\n",
    "        print (\"Running Test\"+ str(i))\n",
    "    query_repeat = np.tile(test_query[i],(2000,1))\n",
    "    X_test = np.concatenate((query_repeat,features_test_concat),axis=1)\n",
    "    svm_predictions = clf_svm.predict(X_test)\n",
    "    predictions_indices = np.concatenate((svm_predictions,np.arange(2000)),axis=1)\n",
    "    predictions_indices.sort()\n",
    "    rank_list.append([v for (k,v) in dist[:20]])\n",
    "\n",
    "    def mergeTwenty(lst):\n",
    "    result = str(lst[0])+\".jpg\"\n",
    "    for i in range(1,len(lst)):\n",
    "        result += \" \" + str(lst[i]) + \".jpg\"\n",
    "    return result\n",
    "\n",
    "with open('svm_submission.csv', 'w', newline='') as csvfile:\n",
    "    csv_writer = csv.writer(csvfile, delimiter=',')\n",
    "    csv_writer.writerow([\"Descritpion_ID\", \"Top_20_Image_IDs\"])\n",
    "    for i in range(len(rank_list)):\n",
    "        csv_writer.writerow([str(i) + \".txt\", mergeTwenty(rank_list[i])])"
   ]
  },
  {
   "cell_type": "code",
   "execution_count": null,
   "metadata": {},
   "outputs": [],
   "source": []
  }
 ],
 "metadata": {
  "kernelspec": {
   "display_name": "Python 3",
   "language": "python",
   "name": "python3"
  },
  "language_info": {
   "codemirror_mode": {
    "name": "ipython",
    "version": 3
   },
   "file_extension": ".py",
   "mimetype": "text/x-python",
   "name": "python",
   "nbconvert_exporter": "python",
   "pygments_lexer": "ipython3",
   "version": "3.7.0"
  }
 },
 "nbformat": 4,
 "nbformat_minor": 2
}
